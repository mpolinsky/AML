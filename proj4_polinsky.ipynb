{
 "cells": [
  {
   "cell_type": "markdown",
   "id": "historic-feelings",
   "metadata": {},
   "source": [
    "### Author: Michael Polinsky"
   ]
  },
  {
   "cell_type": "markdown",
   "id": "controlled-savage",
   "metadata": {},
   "source": [
    "# Project 4 - Customer Satisfaction Data"
   ]
  },
  {
   "cell_type": "code",
   "execution_count": 1,
   "id": "fossil-behavior",
   "metadata": {},
   "outputs": [],
   "source": [
    "import pandas as pd\n",
    "import numpy as np\n",
    "import seaborn as sbn\n",
    "import matplotlib\n",
    "import matplotlib.pyplot as plt\n",
    "import scipy as sp\n",
    "\n",
    "from sklearn.model_selection import train_test_split, cross_val_score, cross_val_predict, GridSearchCV\n",
    "from sklearn.linear_model import LogisticRegression, SGDClassifier\n",
    "from sklearn.ensemble import RandomForestClassifier\n",
    "from sklearn.metrics import confusion_matrix, classification_report, plot_roc_curve, roc_curve\n",
    "from sklearn.tree import DecisionTreeClassifier, export_text, export_graphviz\n",
    "from sklearn.svm import SVC\n",
    "\n",
    "\n",
    "from sklearn.compose import ColumnTransformer\n",
    "from sklearn.pipeline import Pipeline, make_pipeline\n",
    "from sklearn.impute import SimpleImputer, KNNImputer\n",
    "from sklearn.preprocessing import StandardScaler, OrdinalEncoder, MinMaxScaler, OneHotEncoder\n",
    "\n",
    "import graphviz\n",
    "\n",
    "from sklearn.feature_selection import SelectKBest, chi2"
   ]
  },
  {
   "cell_type": "code",
   "execution_count": 2,
   "id": "running-wells",
   "metadata": {},
   "outputs": [],
   "source": [
    "test = pd.read_csv('test.csv')"
   ]
  },
  {
   "cell_type": "code",
   "execution_count": 3,
   "id": "related-advantage",
   "metadata": {},
   "outputs": [],
   "source": [
    "train = pd.read_csv('train.csv')"
   ]
  },
  {
   "cell_type": "code",
   "execution_count": 4,
   "id": "addressed-division",
   "metadata": {},
   "outputs": [
    {
     "data": {
      "text/html": [
       "<div>\n",
       "<style scoped>\n",
       "    .dataframe tbody tr th:only-of-type {\n",
       "        vertical-align: middle;\n",
       "    }\n",
       "\n",
       "    .dataframe tbody tr th {\n",
       "        vertical-align: top;\n",
       "    }\n",
       "\n",
       "    .dataframe thead th {\n",
       "        text-align: right;\n",
       "    }\n",
       "</style>\n",
       "<table border=\"1\" class=\"dataframe\">\n",
       "  <thead>\n",
       "    <tr style=\"text-align: right;\">\n",
       "      <th></th>\n",
       "      <th>ID</th>\n",
       "      <th>Gender</th>\n",
       "      <th>Ever_Married</th>\n",
       "      <th>Age</th>\n",
       "      <th>Graduated</th>\n",
       "      <th>Profession</th>\n",
       "      <th>Work_Experience</th>\n",
       "      <th>Spending_Score</th>\n",
       "      <th>Family_Size</th>\n",
       "      <th>Var_1</th>\n",
       "      <th>Segmentation</th>\n",
       "    </tr>\n",
       "  </thead>\n",
       "  <tbody>\n",
       "    <tr>\n",
       "      <th>0</th>\n",
       "      <td>462809</td>\n",
       "      <td>Male</td>\n",
       "      <td>No</td>\n",
       "      <td>22</td>\n",
       "      <td>No</td>\n",
       "      <td>Healthcare</td>\n",
       "      <td>1.0</td>\n",
       "      <td>Low</td>\n",
       "      <td>4.0</td>\n",
       "      <td>Cat_4</td>\n",
       "      <td>D</td>\n",
       "    </tr>\n",
       "    <tr>\n",
       "      <th>1</th>\n",
       "      <td>462643</td>\n",
       "      <td>Female</td>\n",
       "      <td>Yes</td>\n",
       "      <td>38</td>\n",
       "      <td>Yes</td>\n",
       "      <td>Engineer</td>\n",
       "      <td>NaN</td>\n",
       "      <td>Average</td>\n",
       "      <td>3.0</td>\n",
       "      <td>Cat_4</td>\n",
       "      <td>A</td>\n",
       "    </tr>\n",
       "    <tr>\n",
       "      <th>2</th>\n",
       "      <td>466315</td>\n",
       "      <td>Female</td>\n",
       "      <td>Yes</td>\n",
       "      <td>67</td>\n",
       "      <td>Yes</td>\n",
       "      <td>Engineer</td>\n",
       "      <td>1.0</td>\n",
       "      <td>Low</td>\n",
       "      <td>1.0</td>\n",
       "      <td>Cat_6</td>\n",
       "      <td>B</td>\n",
       "    </tr>\n",
       "    <tr>\n",
       "      <th>3</th>\n",
       "      <td>461735</td>\n",
       "      <td>Male</td>\n",
       "      <td>Yes</td>\n",
       "      <td>67</td>\n",
       "      <td>Yes</td>\n",
       "      <td>Lawyer</td>\n",
       "      <td>0.0</td>\n",
       "      <td>High</td>\n",
       "      <td>2.0</td>\n",
       "      <td>Cat_6</td>\n",
       "      <td>B</td>\n",
       "    </tr>\n",
       "    <tr>\n",
       "      <th>4</th>\n",
       "      <td>462669</td>\n",
       "      <td>Female</td>\n",
       "      <td>Yes</td>\n",
       "      <td>40</td>\n",
       "      <td>Yes</td>\n",
       "      <td>Entertainment</td>\n",
       "      <td>NaN</td>\n",
       "      <td>High</td>\n",
       "      <td>6.0</td>\n",
       "      <td>Cat_6</td>\n",
       "      <td>A</td>\n",
       "    </tr>\n",
       "  </tbody>\n",
       "</table>\n",
       "</div>"
      ],
      "text/plain": [
       "       ID  Gender Ever_Married  Age Graduated     Profession  Work_Experience  \\\n",
       "0  462809    Male           No   22        No     Healthcare              1.0   \n",
       "1  462643  Female          Yes   38       Yes       Engineer              NaN   \n",
       "2  466315  Female          Yes   67       Yes       Engineer              1.0   \n",
       "3  461735    Male          Yes   67       Yes         Lawyer              0.0   \n",
       "4  462669  Female          Yes   40       Yes  Entertainment              NaN   \n",
       "\n",
       "  Spending_Score  Family_Size  Var_1 Segmentation  \n",
       "0            Low          4.0  Cat_4            D  \n",
       "1        Average          3.0  Cat_4            A  \n",
       "2            Low          1.0  Cat_6            B  \n",
       "3           High          2.0  Cat_6            B  \n",
       "4           High          6.0  Cat_6            A  "
      ]
     },
     "execution_count": 4,
     "metadata": {},
     "output_type": "execute_result"
    }
   ],
   "source": [
    "train.head()"
   ]
  },
  {
   "cell_type": "markdown",
   "id": "technological-planning",
   "metadata": {},
   "source": [
    "### Look at a count of each feature and see that the features have varying counts up to 8068.  I can use an imputer to deal with missing values."
   ]
  },
  {
   "cell_type": "code",
   "execution_count": 7,
   "id": "careful-processor",
   "metadata": {
    "tags": []
   },
   "outputs": [
    {
     "data": {
      "text/html": [
       "<div>\n",
       "<style scoped>\n",
       "    .dataframe tbody tr th:only-of-type {\n",
       "        vertical-align: middle;\n",
       "    }\n",
       "\n",
       "    .dataframe tbody tr th {\n",
       "        vertical-align: top;\n",
       "    }\n",
       "\n",
       "    .dataframe thead th {\n",
       "        text-align: right;\n",
       "    }\n",
       "</style>\n",
       "<table border=\"1\" class=\"dataframe\">\n",
       "  <thead>\n",
       "    <tr style=\"text-align: right;\">\n",
       "      <th></th>\n",
       "      <th>0</th>\n",
       "    </tr>\n",
       "  </thead>\n",
       "  <tbody>\n",
       "    <tr>\n",
       "      <th>ID</th>\n",
       "      <td>8068</td>\n",
       "    </tr>\n",
       "    <tr>\n",
       "      <th>Gender</th>\n",
       "      <td>8068</td>\n",
       "    </tr>\n",
       "    <tr>\n",
       "      <th>Ever_Married</th>\n",
       "      <td>7928</td>\n",
       "    </tr>\n",
       "    <tr>\n",
       "      <th>Age</th>\n",
       "      <td>8068</td>\n",
       "    </tr>\n",
       "    <tr>\n",
       "      <th>Graduated</th>\n",
       "      <td>7990</td>\n",
       "    </tr>\n",
       "    <tr>\n",
       "      <th>Profession</th>\n",
       "      <td>7944</td>\n",
       "    </tr>\n",
       "    <tr>\n",
       "      <th>Work_Experience</th>\n",
       "      <td>7239</td>\n",
       "    </tr>\n",
       "    <tr>\n",
       "      <th>Spending_Score</th>\n",
       "      <td>8068</td>\n",
       "    </tr>\n",
       "    <tr>\n",
       "      <th>Family_Size</th>\n",
       "      <td>7733</td>\n",
       "    </tr>\n",
       "    <tr>\n",
       "      <th>Var_1</th>\n",
       "      <td>7992</td>\n",
       "    </tr>\n",
       "    <tr>\n",
       "      <th>Segmentation</th>\n",
       "      <td>8068</td>\n",
       "    </tr>\n",
       "  </tbody>\n",
       "</table>\n",
       "</div>"
      ],
      "text/plain": [
       "                    0\n",
       "ID               8068\n",
       "Gender           8068\n",
       "Ever_Married     7928\n",
       "Age              8068\n",
       "Graduated        7990\n",
       "Profession       7944\n",
       "Work_Experience  7239\n",
       "Spending_Score   8068\n",
       "Family_Size      7733\n",
       "Var_1            7992\n",
       "Segmentation     8068"
      ]
     },
     "execution_count": 7,
     "metadata": {},
     "output_type": "execute_result"
    }
   ],
   "source": [
    "pd.DataFrame(train.count())"
   ]
  },
  {
   "cell_type": "markdown",
   "id": "arabic-prompt",
   "metadata": {},
   "source": [
    "###  Work Experience appears to be a sparse feature."
   ]
  },
  {
   "cell_type": "code",
   "execution_count": 9,
   "id": "identified-apparel",
   "metadata": {},
   "outputs": [
    {
     "data": {
      "text/plain": [
       "<AxesSubplot:>"
      ]
     },
     "execution_count": 9,
     "metadata": {},
     "output_type": "execute_result"
    },
    {
     "data": {
      "image/png": "[encoded data removed]",
      "text/plain": [
       "<Figure size 432x288 with 1 Axes>"
      ]
     },
     "metadata": {
      "needs_background": "light"
     },
     "output_type": "display_data"
    }
   ],
   "source": [
    "train['Work_Experience'].hist()"
   ]
  },
  {
   "cell_type": "markdown",
   "id": "proprietary-freeze",
   "metadata": {},
   "source": [
    "### 4 numerics, 7 categorical features.  ID not used to predict.  Segmentation is target."
   ]
  },
  {
   "cell_type": "code",
   "execution_count": 10,
   "id": "fatty-foster",
   "metadata": {},
   "outputs": [
    {
     "name": "stdout",
     "output_type": "stream",
     "text": [
      "<class 'pandas.core.frame.DataFrame'>\n",
      "RangeIndex: 8068 entries, 0 to 8067\n",
      "Data columns (total 11 columns):\n",
      " #   Column           Non-Null Count  Dtype  \n",
      "---  ------           --------------  -----  \n",
      " 0   ID               8068 non-null   int64  \n",
      " 1   Gender           8068 non-null   object \n",
      " 2   Ever_Married     7928 non-null   object \n",
      " 3   Age              8068 non-null   int64  \n",
      " 4   Graduated        7990 non-null   object \n",
      " 5   Profession       7944 non-null   object \n",
      " 6   Work_Experience  7239 non-null   float64\n",
      " 7   Spending_Score   8068 non-null   object \n",
      " 8   Family_Size      7733 non-null   float64\n",
      " 9   Var_1            7992 non-null   object \n",
      " 10  Segmentation     8068 non-null   object \n",
      "dtypes: float64(2), int64(2), object(7)\n",
      "memory usage: 693.5+ KB\n"
     ]
    }
   ],
   "source": [
    "train.info()"
   ]
  },
  {
   "cell_type": "code",
   "execution_count": 50,
   "id": "russian-membership",
   "metadata": {},
   "outputs": [
    {
     "data": {
      "text/plain": [
       "ID                     8068\n",
       "Gender                    2\n",
       "Ever_Married              2\n",
       "Age                      67\n",
       "Graduated                 2\n",
       "Profession                9\n",
       "Work_Experience          15\n",
       "Spending_Score            3\n",
       "Family_Size               9\n",
       "Var_1                     7\n",
       "Segmentation              4\n",
       "AgeGroup                  4\n",
       "Has_Work_Experience       2\n",
       "Family_size_range         3\n",
       "dtype: int64"
      ]
     },
     "execution_count": 50,
     "metadata": {},
     "output_type": "execute_result"
    }
   ],
   "source": [
    "train.nunique()"
   ]
  },
  {
   "cell_type": "markdown",
   "id": "dramatic-program",
   "metadata": {},
   "source": [
    "### Show nulls in each feature."
   ]
  },
  {
   "cell_type": "code",
   "execution_count": 51,
   "id": "baking-lafayette",
   "metadata": {},
   "outputs": [
    {
     "data": {
      "text/plain": [
       "ID                        0\n",
       "Gender                    0\n",
       "Ever_Married            140\n",
       "Age                       0\n",
       "Graduated                78\n",
       "Profession              124\n",
       "Work_Experience         829\n",
       "Spending_Score            0\n",
       "Family_Size             335\n",
       "Var_1                    76\n",
       "Segmentation              0\n",
       "AgeGroup                132\n",
       "Has_Work_Experience    3396\n",
       "Family_size_range       335\n",
       "dtype: int64"
      ]
     },
     "execution_count": 51,
     "metadata": {},
     "output_type": "execute_result"
    }
   ],
   "source": [
    "train.isnull().sum()"
   ]
  },
  {
   "cell_type": "markdown",
   "id": "flying-philippines",
   "metadata": {},
   "source": [
    "### We only see the numeric features, ID will be removed."
   ]
  },
  {
   "cell_type": "code",
   "execution_count": 52,
   "id": "three-receptor",
   "metadata": {},
   "outputs": [
    {
     "data": {
      "text/plain": [
       "array([[<AxesSubplot:title={'center':'ID'}>,\n",
       "        <AxesSubplot:title={'center':'Age'}>],\n",
       "       [<AxesSubplot:title={'center':'Work_Experience'}>,\n",
       "        <AxesSubplot:title={'center':'Family_Size'}>]], dtype=object)"
      ]
     },
     "execution_count": 52,
     "metadata": {},
     "output_type": "execute_result"
    },
    {
     "data": {
      "image/png": "[encoded data removed]",
      "text/plain": [
       "<Figure size 432x288 with 4 Axes>"
      ]
     },
     "metadata": {
      "needs_background": "light"
     },
     "output_type": "display_data"
    }
   ],
   "source": [
    "train.hist()"
   ]
  },
  {
   "cell_type": "markdown",
   "id": "another-analysis",
   "metadata": {},
   "source": [
    "## Check correlations\n",
    "\n",
    "#### I first tried to create a correlation heatmap like the one below, but discovered that only numeric attributes were included for obvious reasons.  I tried to find a way to get the categorical features in but could not, which is a shame because it's a nice visualization, but I did use cross-tabulation below to explore the impact of different features on 'Segmentation'."
   ]
  },
  {
   "cell_type": "code",
   "execution_count": 47,
   "id": "sophisticated-might",
   "metadata": {},
   "outputs": [
    {
     "data": {
      "text/plain": [
       "<AxesSubplot:>"
      ]
     },
     "execution_count": 47,
     "metadata": {},
     "output_type": "execute_result"
    },
    {
     "data": {
      "image/png": "[encoded data removed]",
      "text/plain": [
       "<Figure size 576x432 with 2 Axes>"
      ]
     },
     "metadata": {
      "needs_background": "light"
     },
     "output_type": "display_data"
    }
   ],
   "source": [
    "# Heatmap only showing correlations of numeric features with each other.\n",
    "plt.figure(figsize=(8,6))\n",
    "sbn.heatmap(crls, cmap='rocket', annot=True)"
   ]
  },
  {
   "cell_type": "markdown",
   "id": "lasting-photograph",
   "metadata": {},
   "source": [
    "### Cross Tabulation of Features with target classes"
   ]
  },
  {
   "cell_type": "code",
   "execution_count": 94,
   "id": "reserved-subject",
   "metadata": {},
   "outputs": [
    {
     "data": {
      "text/plain": [
       "<AxesSubplot:xlabel='Segmentation'>"
      ]
     },
     "execution_count": 94,
     "metadata": {},
     "output_type": "execute_result"
    },
    {
     "data": {
      "image/png": "[encoded data removed]",
      "text/plain": [
       "<Figure size 864x360 with 3 Axes>"
      ]
     },
     "metadata": {
      "needs_background": "light"
     },
     "output_type": "display_data"
    }
   ],
   "source": [
    "figure, axes = plt.subplots(1, 3)\n",
    "\n",
    "ct1 = pd.crosstab(train['Segmentation'], train['Graduated'])\n",
    "ct1.plot.bar(ax = axes[0],figsize=(12,5))\n",
    "\n",
    "ct2 = pd.crosstab(train['Segmentation'], train['Ever_Married'])\n",
    "ct2.plot.bar(ax = axes[1], figsize=(12,5))\n",
    "\n",
    "ct3 = pd.crosstab(train['Segmentation'], train['Profession'])\n",
    "ct3.plot.bar(ax = axes[2], figsize=(12,5))"
   ]
  },
  {
   "cell_type": "markdown",
   "id": "vertical-egypt",
   "metadata": {},
   "source": [
    "#### Education rate seems to decrease from class A to C, then D has a higher rate of No than Yes.  There is a very similar trend for 'Ever_Married'.  Class D also seems to have a majority healthcare workers while A, B, and C appear to have a majority of artists. "
   ]
  },
  {
   "cell_type": "code",
   "execution_count": 93,
   "id": "introductory-lawyer",
   "metadata": {},
   "outputs": [
    {
     "data": {
      "text/plain": [
       "<AxesSubplot:xlabel='Segmentation'>"
      ]
     },
     "execution_count": 93,
     "metadata": {},
     "output_type": "execute_result"
    },
    {
     "data": {
      "image/png": "[encoded data removed]",
      "text/plain": [
       "<Figure size 864x360 with 3 Axes>"
      ]
     },
     "metadata": {
      "needs_background": "light"
     },
     "output_type": "display_data"
    }
   ],
   "source": [
    "figure, axes = plt.subplots(1, 3)\n",
    "\n",
    "ct4 = pd.crosstab(train['Segmentation'], train['Gender'])\n",
    "ct4.plot.bar(ax = axes[0], figsize=(12,5))\n",
    "\n",
    "ct5 = pd.crosstab(train['Segmentation'], train['Spending_Score'])\n",
    "ct5.plot.bar(ax = axes[1], figsize=(12,5))\n",
    "\n",
    "ct6 = pd.crosstab(train['Segmentation'], train['Var_1'])\n",
    "ct6.plot.bar(ax = axes[2], figsize=(12,5))"
   ]
  },
  {
   "cell_type": "markdown",
   "id": "robust-translator",
   "metadata": {},
   "source": [
    "### As for Gender and Spending_Score there are less obvious differences in the classes though for Gender class D has a higher number of males and for Spending_Score there is a decrease in Low spending scores in classes B and C relative to A and D, and an inverse change for Average scores.  Var_1 shows no pattern that looks meaningful, and I've dropped it for the training done in this notebook."
   ]
  },
  {
   "cell_type": "markdown",
   "id": "complicated-zealand",
   "metadata": {},
   "source": [
    "## New Features: Rebin Age, Work_Experience, and Family_Size to see if that helps"
   ]
  },
  {
   "cell_type": "markdown",
   "id": "asian-melissa",
   "metadata": {},
   "source": [
    "### Rebin code came from stackoverflow:"
   ]
  },
  {
   "cell_type": "markdown",
   "id": "completed-communications",
   "metadata": {},
   "source": [
    "https://stackoverflow.com/questions/52753613/grouping-categorising-ages-column-in-python-pandas"
   ]
  },
  {
   "cell_type": "markdown",
   "id": "portable-demonstration",
   "metadata": {},
   "source": [
    "#### Age"
   ]
  },
  {
   "cell_type": "code",
   "execution_count": 4,
   "id": "electrical-border",
   "metadata": {},
   "outputs": [],
   "source": [
    "bins = [18, 30, 44, 64 ,120]\n",
    "labels = ['18-30', '31-44', '45-64', '65+']\n",
    "train['AgeGroup'] = pd.cut(train['Age'], bins=bins, labels=labels, right=True)"
   ]
  },
  {
   "cell_type": "code",
   "execution_count": 5,
   "id": "drawn-antigua",
   "metadata": {},
   "outputs": [],
   "source": [
    "bins = [18, 30, 44, 64 ,120]\n",
    "labels = ['18-30', '31-44', '45-64', '65+']\n",
    "test['AgeGroup'] = pd.cut(test['Age'], bins=bins, labels=labels, right=True)"
   ]
  },
  {
   "cell_type": "markdown",
   "id": "refined-emission",
   "metadata": {},
   "source": [
    "#### Work_Experience"
   ]
  },
  {
   "cell_type": "code",
   "execution_count": 6,
   "id": "latest-theater",
   "metadata": {},
   "outputs": [],
   "source": [
    "bins = [0,0.9,1.1]\n",
    "labels = ['None','Some']\n",
    "train['Has_Work_Experience'] = pd.cut(train['Work_Experience'], bins=bins, labels=labels, right=False)"
   ]
  },
  {
   "cell_type": "code",
   "execution_count": 7,
   "id": "trying-dealing",
   "metadata": {},
   "outputs": [],
   "source": [
    "bins = [0,0.9,1.1]\n",
    "labels = ['None','Some']\n",
    "test['Has_Work_Experience'] = pd.cut(test['Work_Experience'], bins=bins, labels=labels, right=False)"
   ]
  },
  {
   "cell_type": "markdown",
   "id": "subtle-pointer",
   "metadata": {},
   "source": [
    "#### Family_Size"
   ]
  },
  {
   "cell_type": "code",
   "execution_count": 8,
   "id": "persistent-rolling",
   "metadata": {},
   "outputs": [],
   "source": [
    "bins = [0, 3, 6.9, 20]\n",
    "labels = ['0-3','4-6', '7-9']\n",
    "train['Family_size_range'] = pd.cut(train['Family_Size'], bins=bins, labels=labels, right=False)"
   ]
  },
  {
   "cell_type": "code",
   "execution_count": 9,
   "id": "adjusted-equivalent",
   "metadata": {},
   "outputs": [],
   "source": [
    "bins = [0, 3, 6.9, 20]\n",
    "labels = ['0-3','4-6', '7-9']\n",
    "test['Family_size_range'] = pd.cut(test['Family_Size'], bins=bins, labels=labels, right=False)"
   ]
  },
  {
   "cell_type": "markdown",
   "id": "coral-envelope",
   "metadata": {},
   "source": [
    "### Cross tabulation for new features"
   ]
  },
  {
   "cell_type": "code",
   "execution_count": 106,
   "id": "musical-horror",
   "metadata": {},
   "outputs": [
    {
     "data": {
      "text/plain": [
       "<AxesSubplot:xlabel='Segmentation'>"
      ]
     },
     "execution_count": 106,
     "metadata": {},
     "output_type": "execute_result"
    },
    {
     "data": {
      "image/png": "[encoded data removed]",
      "text/plain": [
       "<Figure size 864x360 with 3 Axes>"
      ]
     },
     "metadata": {
      "needs_background": "light"
     },
     "output_type": "display_data"
    }
   ],
   "source": [
    "figure, axes = plt.subplots(1, 3)\n",
    "\n",
    "ct1 = pd.crosstab(train['Segmentation'], train['AgeGroup'])\n",
    "ct1.plot.bar(ax = axes[0],figsize=(12,5))\n",
    "\n",
    "ct2 = pd.crosstab(train['Segmentation'], train['Has_Work_Experience'])\n",
    "ct2.plot.bar(ax = axes[1], figsize=(12,5))\n",
    "\n",
    "ct3 = pd.crosstab(train['Segmentation'], train['Family_size_range'])\n",
    "ct3.plot.bar(ax = axes[2], figsize=(12,5))\n",
    "\n"
   ]
  },
  {
   "cell_type": "markdown",
   "id": "threaded-renaissance",
   "metadata": {},
   "source": [
    "### It looks like the first and last new features show some variation with the target.  After a few trials the performance seemed to be marginally worse with Has_Work_Experience excluded so I did include it in this notebook."
   ]
  },
  {
   "cell_type": "code",
   "execution_count": 2,
   "id": "occupational-copying",
   "metadata": {},
   "outputs": [],
   "source": [
    "test = pd.read_csv('test.csv')"
   ]
  },
  {
   "cell_type": "code",
   "execution_count": 3,
   "id": "unexpected-alberta",
   "metadata": {},
   "outputs": [],
   "source": [
    "train = pd.read_csv('train.csv')"
   ]
  },
  {
   "cell_type": "markdown",
   "id": "individual-resolution",
   "metadata": {},
   "source": [
    "## Creating train and test sets from the given 'train' and 'test' datasets."
   ]
  },
  {
   "cell_type": "code",
   "execution_count": 10,
   "id": "consistent-montana",
   "metadata": {},
   "outputs": [],
   "source": [
    "X = train.drop(columns=['Segmentation', 'ID', 'Var_1'])\n",
    "Y = train.loc[:,'Segmentation']"
   ]
  },
  {
   "cell_type": "code",
   "execution_count": 11,
   "id": "guided-lambda",
   "metadata": {},
   "outputs": [],
   "source": [
    "Xtst = test.drop(columns=['Segmentation', 'ID', 'Var_1'])\n",
    "Ytst = test.loc[:,'Segmentation']"
   ]
  },
  {
   "cell_type": "code",
   "execution_count": 12,
   "id": "resistant-trader",
   "metadata": {},
   "outputs": [
    {
     "data": {
      "text/plain": [
       "(8068, 11)"
      ]
     },
     "execution_count": 12,
     "metadata": {},
     "output_type": "execute_result"
    }
   ],
   "source": [
    "X.shape"
   ]
  },
  {
   "cell_type": "code",
   "execution_count": 13,
   "id": "rocky-average",
   "metadata": {},
   "outputs": [
    {
     "data": {
      "text/plain": [
       "(2627, 11)"
      ]
     },
     "execution_count": 13,
     "metadata": {},
     "output_type": "execute_result"
    }
   ],
   "source": [
    "Xtst.shape"
   ]
  },
  {
   "cell_type": "markdown",
   "id": "subjective-final",
   "metadata": {},
   "source": [
    "## Missing values need to be imputed, Categoricals need to be encoded, Numerics need to be scaled"
   ]
  },
  {
   "cell_type": "code",
   "execution_count": 14,
   "id": "opposed-consolidation",
   "metadata": {},
   "outputs": [
    {
     "data": {
      "text/plain": [
       "Gender                   object\n",
       "Ever_Married             object\n",
       "Age                       int64\n",
       "Graduated                object\n",
       "Profession               object\n",
       "Work_Experience         float64\n",
       "Spending_Score           object\n",
       "Family_Size             float64\n",
       "AgeGroup               category\n",
       "Has_Work_Experience    category\n",
       "Family_size_range      category\n",
       "dtype: object"
      ]
     },
     "execution_count": 14,
     "metadata": {},
     "output_type": "execute_result"
    }
   ],
   "source": [
    "X.dtypes"
   ]
  },
  {
   "cell_type": "markdown",
   "id": "willing-perry",
   "metadata": {},
   "source": [
    "## Pipeline \n",
    "### The categorical pipeline uses the Simple Imputer and the ordinal encoder.\n",
    "### The numeric pipeline uses the KNNImputer and the MinMaxScaler, which seemed to do a little better than the StandardScaler.\n",
    "### I included a SelectKBest feature selection stage that I tested on all the models, eventually only using with the trees.\n",
    "### I also added a preprocessor just for the decision tree with entropy, which was the only model that seemed improved by the OneHotEncoder.  "
   ]
  },
  {
   "cell_type": "code",
   "execution_count": 15,
   "id": "human-circulation",
   "metadata": {},
   "outputs": [],
   "source": [
    "\n",
    "########## First create a pipeline for the categoric attributes\n",
    "\n",
    "cat_cols = ['Gender', 'Ever_Married', 'Graduated', 'Profession', 'Spending_Score','AgeGroup', 'Has_Work_Experience', 'Family_size_range',]\n",
    "\n",
    "cat_transformer = Pipeline(steps=[\n",
    "    # strategies are mean, median, most_frequent, etc.\n",
    "    ('imputer', SimpleImputer(strategy='most_frequent')),\n",
    "\n",
    "    # In ordinal encoding, each unique category value is assigned an integer value.\n",
    "    ('ordinal', OrdinalEncoder())# consider one-hot?\n",
    "    \n",
    "   \n",
    "])\n",
    "\n",
    "cat_entropy_tree_transformer = Pipeline(steps=[\n",
    "    # strategies are mean, median, most_frequent, etc.\n",
    "    ('imputer', SimpleImputer(strategy='most_frequent')),\n",
    "\n",
    "    # In ordinal encoding, each unique category value is assigned an integer value.\n",
    "    ('ordinal', OneHotEncoder())# one-hot only helps the entropy D-Tree but it does help it.\n",
    "    \n",
    "   \n",
    "])\n",
    "\n",
    "\n",
    "\n",
    "\n",
    "########## Second create a pipeline for the numeric attributes\n",
    "\n",
    "num_cols = ['Age', 'Work_Experience',  'Family_Size']\n",
    "\n",
    "num_transformer = Pipeline(steps=[\n",
    "    # Number of neighboring samples to use for K-nearest neighor imputation\n",
    "    ('imputer', KNNImputer(n_neighbors=4)),\n",
    "\n",
    "    # StandardScaler makes mean = 0 and scales the data to unit variance \n",
    "    ('scaler', MinMaxScaler())\n",
    "])\n",
    "\n",
    "#####################\n",
    "\n",
    "\n",
    "all_cols = ['Gender', 'Ever_Married', 'Graduated', 'Profession', 'Spending_Score','Has_Work_Experience','AgeGroup', 'Family_size_range',]\n",
    "\n",
    "select_k_transformer = Pipeline(steps=[\n",
    "   ('select_k_best', SelectKBest(chi2, k=8)),\n",
    "])\n",
    "\n",
    "########## Finally, apply column transformations\n",
    "preprocessor = ColumnTransformer(\n",
    "    transformers=[\n",
    "        ('num', num_transformer, num_cols),\n",
    "        ('cat', cat_transformer, cat_cols)\n",
    "    ])\n",
    "\n",
    "entropy_tree_pp = ColumnTransformer(\n",
    "    transformers=[\n",
    "        ('num', num_transformer, num_cols),\n",
    "        ('cat', cat_entropy_tree_transformer, cat_cols)\n",
    "    ])"
   ]
  },
  {
   "cell_type": "markdown",
   "id": "vocational-recovery",
   "metadata": {},
   "source": [
    "## Then the models are created and fed into their pipelines."
   ]
  },
  {
   "cell_type": "code",
   "execution_count": 16,
   "id": "expected-transformation",
   "metadata": {
    "executionInfo": {
     "elapsed": 1927,
     "status": "ok",
     "timestamp": 1618855219022,
     "user": {
      "displayName": "Michael Polinsky",
      "photoUrl": "",
      "userId": "01023161198689739095"
     },
     "user_tz": 240
    },
    "id": "qb5_Ava00vW9"
   },
   "outputs": [],
   "source": [
    "########## A linear kernel classifier\n",
    "lin_svc_clf = Pipeline(steps=[('preprocessor', preprocessor),\n",
    "                      ('classifier', SVC(kernel='linear' ,random_state=42))])\n",
    "\n",
    "lin_svc_clf_train_score = cross_val_score(lin_svc_clf,  X, Y, cv=3, scoring=\"accuracy\").mean()\n",
    "lin_svc_clf_test_score = cross_val_score(lin_svc_clf,  Xtst, Ytst, cv=3, scoring=\"accuracy\").mean()"
   ]
  },
  {
   "cell_type": "code",
   "execution_count": 17,
   "id": "czech-framework",
   "metadata": {},
   "outputs": [
    {
     "name": "stdout",
     "output_type": "stream",
     "text": [
      "0.49095037241540757\n"
     ]
    }
   ],
   "source": [
    "print(lin_svc_clf_train_score)"
   ]
  },
  {
   "cell_type": "code",
   "execution_count": 18,
   "id": "compressed-surface",
   "metadata": {},
   "outputs": [
    {
     "name": "stdout",
     "output_type": "stream",
     "text": [
      "0.3479321591650359\n"
     ]
    }
   ],
   "source": [
    "print(lin_svc_clf_test_score)"
   ]
  },
  {
   "cell_type": "code",
   "execution_count": 19,
   "id": "outstanding-fitness",
   "metadata": {},
   "outputs": [],
   "source": [
    "########## A poly kernel classifier\n",
    "poly_svc_clf = Pipeline(steps=[('preprocessor', preprocessor),\n",
    "                      ('classifier', SVC(kernel='poly', random_state=42))])\n",
    "\n",
    "poly_svc_clf_train_score = cross_val_score(poly_svc_clf,  X, Y, cv=3, scoring=\"accuracy\").mean()\n",
    "poly_svc_clf_test_score = cross_val_score(poly_svc_clf,  Xtst, Ytst, cv=3, scoring=\"accuracy\").mean()"
   ]
  },
  {
   "cell_type": "code",
   "execution_count": 20,
   "id": "occasional-sucking",
   "metadata": {},
   "outputs": [
    {
     "name": "stdout",
     "output_type": "stream",
     "text": [
      "0.49913010138602215\n"
     ]
    }
   ],
   "source": [
    "print(poly_svc_clf_train_score)"
   ]
  },
  {
   "cell_type": "code",
   "execution_count": 21,
   "id": "martial-richards",
   "metadata": {},
   "outputs": [
    {
     "name": "stdout",
     "output_type": "stream",
     "text": [
      "0.3414598825831703\n"
     ]
    }
   ],
   "source": [
    "print(poly_svc_clf_test_score)"
   ]
  },
  {
   "cell_type": "code",
   "execution_count": 22,
   "id": "chemical-defense",
   "metadata": {},
   "outputs": [],
   "source": [
    "########## An RBF kernel classifier\n",
    "rbf_svc_clf = Pipeline(steps=[('preprocessor', preprocessor),\n",
    "                      ('classifier', SVC(kernel='rbf', random_state=42))])\n",
    "\n",
    "rbf_svc_clf_train_score = cross_val_score(rbf_svc_clf,  X, Y, cv=3, scoring=\"accuracy\").mean()\n",
    "rbf_svc_clf_test_score = cross_val_score(rbf_svc_clf,  Xtst, Ytst, cv=3, scoring=\"accuracy\").mean()"
   ]
  },
  {
   "cell_type": "code",
   "execution_count": 23,
   "id": "understood-slope",
   "metadata": {},
   "outputs": [
    {
     "name": "stdout",
     "output_type": "stream",
     "text": [
      "0.51747539081383\n"
     ]
    }
   ],
   "source": [
    "print(rbf_svc_clf_train_score)"
   ]
  },
  {
   "cell_type": "code",
   "execution_count": 24,
   "id": "simplified-uncertainty",
   "metadata": {},
   "outputs": [
    {
     "name": "stdout",
     "output_type": "stream",
     "text": [
      "0.35515938247445095\n"
     ]
    }
   ],
   "source": [
    "print(rbf_svc_clf_test_score)"
   ]
  },
  {
   "cell_type": "markdown",
   "id": "presidential-occasion",
   "metadata": {},
   "source": [
    "## Trees"
   ]
  },
  {
   "cell_type": "markdown",
   "id": "retired-census",
   "metadata": {},
   "source": [
    "### entropy DT"
   ]
  },
  {
   "cell_type": "code",
   "execution_count": 28,
   "id": "celtic-basis",
   "metadata": {},
   "outputs": [],
   "source": [
    "########## A decicion tree with entropy\n",
    "entropy_dt_clf = Pipeline(steps=[('preprocessor', entropy_tree_pp),\n",
    "                                 ('selector', select_k_transformer),\n",
    "                      ('classifier', DecisionTreeClassifier(criterion='entropy', random_state=42))])\n",
    "\n",
    "entropy_dt_train_score = cross_val_score(entropy_dt_clf,  X, Y, cv=3, scoring=\"accuracy\").mean()\n",
    "entropy_dt_test_score = cross_val_score(entropy_dt_clf,  Xtst, Ytst, cv=3, scoring=\"accuracy\").mean()"
   ]
  },
  {
   "cell_type": "code",
   "execution_count": 29,
   "id": "wicked-pacific",
   "metadata": {},
   "outputs": [
    {
     "name": "stdout",
     "output_type": "stream",
     "text": [
      "0.49875922974088294\n"
     ]
    }
   ],
   "source": [
    "print(entropy_dt_train_score)"
   ]
  },
  {
   "cell_type": "code",
   "execution_count": 30,
   "id": "affected-programming",
   "metadata": {},
   "outputs": [
    {
     "name": "stdout",
     "output_type": "stream",
     "text": [
      "0.33422744074798866\n"
     ]
    }
   ],
   "source": [
    "print(entropy_dt_test_score)"
   ]
  },
  {
   "cell_type": "markdown",
   "id": "located-termination",
   "metadata": {},
   "source": [
    "### gini DT"
   ]
  },
  {
   "cell_type": "code",
   "execution_count": 25,
   "id": "inclusive-hunter",
   "metadata": {},
   "outputs": [],
   "source": [
    "########## A decicion tree with gini\n",
    "gini_dt_clf = Pipeline(steps=[('preprocessor', preprocessor),\n",
    "                              ('selector', select_k_transformer),\n",
    "                      ('classifier', DecisionTreeClassifier(criterion='gini', max_depth= 8, max_features=4, random_state=42))])\n",
    "\n",
    "gini_dt_train_score = cross_val_score(gini_dt_clf,  X, Y, cv=3, scoring=\"accuracy\").mean()\n",
    "gini_dt_test_score = cross_val_score(gini_dt_clf,  Xtst, Ytst, cv=3, scoring=\"accuracy\").mean()"
   ]
  },
  {
   "cell_type": "code",
   "execution_count": 26,
   "id": "lesser-evanescence",
   "metadata": {},
   "outputs": [
    {
     "name": "stdout",
     "output_type": "stream",
     "text": [
      "0.5049574589762412\n"
     ]
    }
   ],
   "source": [
    "print(gini_dt_train_score)"
   ]
  },
  {
   "cell_type": "code",
   "execution_count": 27,
   "id": "still-birmingham",
   "metadata": {},
   "outputs": [
    {
     "name": "stdout",
     "output_type": "stream",
     "text": [
      "0.3387966949336812\n"
     ]
    }
   ],
   "source": [
    "print(gini_dt_test_score)"
   ]
  },
  {
   "cell_type": "markdown",
   "id": "immediate-litigation",
   "metadata": {},
   "source": [
    "## Graph model scores"
   ]
  },
  {
   "cell_type": "code",
   "execution_count": 31,
   "id": "threaded-photography",
   "metadata": {
    "colab": {
     "base_uri": "https://localhost:8080/",
     "height": 281
    },
    "executionInfo": {
     "elapsed": 626,
     "status": "ok",
     "timestamp": 1618855224839,
     "user": {
      "displayName": "Michael Polinsky",
      "photoUrl": "",
      "userId": "01023161198689739095"
     },
     "user_tz": 240
    },
    "id": "Md-qnktb4aJZ",
    "outputId": "e8508a54-2bda-48cd-f948-db95aa2a56c5"
   },
   "outputs": [
    {
     "data": {
      "image/png": "[encoded data removed]",
      "text/plain": [
       "<Figure size 432x288 with 1 Axes>"
      ]
     },
     "metadata": {
      "needs_background": "light"
     },
     "output_type": "display_data"
    }
   ],
   "source": [
    "# Summarize the findings for all models\n",
    "\n",
    "labels = ['SVC\\n(Linear)','SVC\\n(RBF)','SVC\\n(Poly)', 'DT\\n(Gini)',  'DT\\n(Entropy)']\n",
    "training_scores = [lin_svc_clf_train_score, rbf_svc_clf_train_score, poly_svc_clf_train_score,gini_dt_train_score,  entropy_dt_train_score]\n",
    "test_scores = [lin_svc_clf_test_score,rbf_svc_clf_test_score,poly_svc_clf_test_score, gini_dt_test_score, entropy_dt_test_score]\n",
    "\n",
    "x = np.arange(len(labels))  # the label locations\n",
    "width = 0.35  # the width of the bars\n",
    "\n",
    "fig, ax = plt.subplots()\n",
    "rects1 = ax.bar(x - width/2, training_scores, width, label='CV=3', color='maroon')\n",
    "rects2 = ax.bar(x + width/2, test_scores, width, label='CV=3', color='gray')\n",
    "\n",
    "# Add some text for labels, title and custom x-axis tick labels, etc.\n",
    "ax.set_ylabel('Accuracy')\n",
    "ax.set_xticks(x)\n",
    "ax.set_ylim(0,1)\n",
    "ax.set_xticklabels(labels)\n",
    "ax.legend(bbox_to_anchor = (1.3, 1.0), loc='upper right')\n",
    "\n",
    "plt.title('Model Comparisons')\n",
    "plt.show()"
   ]
  },
  {
   "cell_type": "markdown",
   "id": "established-crisis",
   "metadata": {},
   "source": [
    "## Learning doesn't seem to be happening."
   ]
  },
  {
   "cell_type": "markdown",
   "id": "mighty-midnight",
   "metadata": {},
   "source": [
    "# DT Knowledge"
   ]
  },
  {
   "cell_type": "code",
   "execution_count": 32,
   "id": "desperate-indianapolis",
   "metadata": {},
   "outputs": [
    {
     "name": "stdout",
     "output_type": "stream",
     "text": [
      "|--- Gender <= 0.23\n",
      "|   |--- Gender <= 0.08\n",
      "|   |   |--- Work_Experience <= 4.50\n",
      "|   |   |   |--- truncated branch of depth 13\n",
      "|   |   |--- Work_Experience >  4.50\n",
      "|   |   |   |--- truncated branch of depth 13\n",
      "|   |--- Gender >  0.08\n",
      "|   |   |--- Work_Experience <= 4.50\n",
      "|   |   |   |--- truncated branch of depth 21\n",
      "|   |   |--- Work_Experience >  4.50\n",
      "|   |   |   |--- truncated branch of depth 22\n",
      "|--- Gender >  0.23\n",
      "|   |--- Var1 <= 1.50\n",
      "|   |   |--- Profession <= 0.50\n",
      "|   |   |   |--- truncated branch of depth 22\n",
      "|   |   |--- Profession >  0.50\n",
      "|   |   |   |--- truncated branch of depth 24\n",
      "|   |--- Var1 >  1.50\n",
      "|   |   |--- Work_Experience <= 1.50\n",
      "|   |   |   |--- truncated branch of depth 21\n",
      "|   |   |--- Work_Experience >  1.50\n",
      "|   |   |   |--- truncated branch of depth 21\n",
      "\n"
     ]
    },
    {
     "data": {
      "image/svg+xml": [
       "<?xml version=\"1.0\" encoding=\"UTF-8\" standalone=\"no\"?>\n",
       "<!DOCTYPE svg PUBLIC \"-//W3C//DTD SVG 1.1//EN\"\n",
       " \"http://www.w3.org/Graphics/SVG/1.1/DTD/svg11.dtd\">\n",
       "<!-- Generated by graphviz version 2.46.0 (20210118.1747)\n",
       " -->\n",
       "<!-- Title: Tree Pages: 1 -->\n",
       "<svg width=\"1482pt\" height=\"460pt\"\n",
       " viewBox=\"0.00 0.00 1481.50 460.00\" xmlns=\"http://www.w3.org/2000/svg\" xmlns:xlink=\"http://www.w3.org/1999/xlink\">\n",
       "<g id=\"graph0\" class=\"graph\" transform=\"scale(1 1) rotate(0) translate(4 456)\">\n",
       "<title>Tree</title>\n",
       "<polygon fill=\"white\" stroke=\"transparent\" points=\"-4,4 -4,-456 1477.5,-456 1477.5,4 -4,4\"/>\n",
       "<!-- 0 -->\n",
       "<g id=\"node1\" class=\"node\">\n",
       "<title>0</title>\n",
       "<polygon fill=\"#fdf5fe\" stroke=\"black\" points=\"808,-452 607,-452 607,-384 808,-384 808,-452\"/>\n",
       "<text text-anchor=\"middle\" x=\"707.5\" y=\"-436.8\" font-family=\"Times,serif\" font-size=\"14.00\">Gender &lt;= 0.225</text>\n",
       "<text text-anchor=\"middle\" x=\"707.5\" y=\"-421.8\" font-family=\"Times,serif\" font-size=\"14.00\">entropy = 1.996</text>\n",
       "<text text-anchor=\"middle\" x=\"707.5\" y=\"-406.8\" font-family=\"Times,serif\" font-size=\"14.00\">samples = 8068</text>\n",
       "<text text-anchor=\"middle\" x=\"707.5\" y=\"-391.8\" font-family=\"Times,serif\" font-size=\"14.00\">value = [1972, 1858, 1970, 2268]</text>\n",
       "</g>\n",
       "<!-- 1 -->\n",
       "<g id=\"node2\" class=\"node\">\n",
       "<title>1</title>\n",
       "<polygon fill=\"#eca0f3\" stroke=\"black\" points=\"606,-348 425,-348 425,-280 606,-280 606,-348\"/>\n",
       "<text text-anchor=\"middle\" x=\"515.5\" y=\"-332.8\" font-family=\"Times,serif\" font-size=\"14.00\">Gender &lt;= 0.085</text>\n",
       "<text text-anchor=\"middle\" x=\"515.5\" y=\"-317.8\" font-family=\"Times,serif\" font-size=\"14.00\">entropy = 1.613</text>\n",
       "<text text-anchor=\"middle\" x=\"515.5\" y=\"-302.8\" font-family=\"Times,serif\" font-size=\"14.00\">samples = 2693</text>\n",
       "<text text-anchor=\"middle\" x=\"515.5\" y=\"-287.8\" font-family=\"Times,serif\" font-size=\"14.00\">value = [536, 281, 305, 1571]</text>\n",
       "</g>\n",
       "<!-- 0&#45;&gt;1 -->\n",
       "<g id=\"edge1\" class=\"edge\">\n",
       "<title>0&#45;&gt;1</title>\n",
       "<path fill=\"none\" stroke=\"black\" d=\"M645.16,-383.88C626.54,-373.99 605.98,-363.07 586.83,-352.9\"/>\n",
       "<polygon fill=\"black\" stroke=\"black\" points=\"588.33,-349.73 577.85,-348.12 585.04,-355.91 588.33,-349.73\"/>\n",
       "<text text-anchor=\"middle\" x=\"585.17\" y=\"-368.33\" font-family=\"Times,serif\" font-size=\"14.00\">True</text>\n",
       "</g>\n",
       "<!-- 2356 -->\n",
       "<g id=\"node17\" class=\"node\">\n",
       "<title>2356</title>\n",
       "<polygon fill=\"#fafdfe\" stroke=\"black\" points=\"1001.5,-348 807.5,-348 807.5,-280 1001.5,-280 1001.5,-348\"/>\n",
       "<text text-anchor=\"middle\" x=\"904.5\" y=\"-332.8\" font-family=\"Times,serif\" font-size=\"14.00\">Var1 &lt;= 1.5</text>\n",
       "<text text-anchor=\"middle\" x=\"904.5\" y=\"-317.8\" font-family=\"Times,serif\" font-size=\"14.00\">entropy = 1.934</text>\n",
       "<text text-anchor=\"middle\" x=\"904.5\" y=\"-302.8\" font-family=\"Times,serif\" font-size=\"14.00\">samples = 5375</text>\n",
       "<text text-anchor=\"middle\" x=\"904.5\" y=\"-287.8\" font-family=\"Times,serif\" font-size=\"14.00\">value = [1436, 1577, 1665, 697]</text>\n",
       "</g>\n",
       "<!-- 0&#45;&gt;2356 -->\n",
       "<g id=\"edge16\" class=\"edge\">\n",
       "<title>0&#45;&gt;2356</title>\n",
       "<path fill=\"none\" stroke=\"black\" d=\"M771.46,-383.88C790.65,-373.95 811.85,-362.97 831.58,-352.76\"/>\n",
       "<polygon fill=\"black\" stroke=\"black\" points=\"833.25,-355.83 840.52,-348.12 830.03,-349.61 833.25,-355.83\"/>\n",
       "<text text-anchor=\"middle\" x=\"832.95\" y=\"-368.25\" font-family=\"Times,serif\" font-size=\"14.00\">False</text>\n",
       "</g>\n",
       "<!-- 2 -->\n",
       "<g id=\"node3\" class=\"node\">\n",
       "<title>2</title>\n",
       "<polygon fill=\"#dc50e8\" stroke=\"black\" points=\"321.5,-244 165.5,-244 165.5,-176 321.5,-176 321.5,-244\"/>\n",
       "<text text-anchor=\"middle\" x=\"243.5\" y=\"-228.8\" font-family=\"Times,serif\" font-size=\"14.00\">Work_Experience &lt;= 4.5</text>\n",
       "<text text-anchor=\"middle\" x=\"243.5\" y=\"-213.8\" font-family=\"Times,serif\" font-size=\"14.00\">entropy = 0.667</text>\n",
       "<text text-anchor=\"middle\" x=\"243.5\" y=\"-198.8\" font-family=\"Times,serif\" font-size=\"14.00\">samples = 780</text>\n",
       "<text text-anchor=\"middle\" x=\"243.5\" y=\"-183.8\" font-family=\"Times,serif\" font-size=\"14.00\">value = [25, 25, 35, 695]</text>\n",
       "</g>\n",
       "<!-- 1&#45;&gt;2 -->\n",
       "<g id=\"edge2\" class=\"edge\">\n",
       "<title>1&#45;&gt;2</title>\n",
       "<path fill=\"none\" stroke=\"black\" d=\"M427.19,-279.88C396.4,-268.34 361.88,-255.39 331.15,-243.87\"/>\n",
       "<polygon fill=\"black\" stroke=\"black\" points=\"332.33,-240.57 321.74,-240.34 329.88,-247.13 332.33,-240.57\"/>\n",
       "</g>\n",
       "<!-- 225 -->\n",
       "<g id=\"node10\" class=\"node\">\n",
       "<title>225</title>\n",
       "<polygon fill=\"#f5cbf8\" stroke=\"black\" points=\"602.5,-244 428.5,-244 428.5,-176 602.5,-176 602.5,-244\"/>\n",
       "<text text-anchor=\"middle\" x=\"515.5\" y=\"-228.8\" font-family=\"Times,serif\" font-size=\"14.00\">Work_Experience &lt;= 4.5</text>\n",
       "<text text-anchor=\"middle\" x=\"515.5\" y=\"-213.8\" font-family=\"Times,serif\" font-size=\"14.00\">entropy = 1.812</text>\n",
       "<text text-anchor=\"middle\" x=\"515.5\" y=\"-198.8\" font-family=\"Times,serif\" font-size=\"14.00\">samples = 1913</text>\n",
       "<text text-anchor=\"middle\" x=\"515.5\" y=\"-183.8\" font-family=\"Times,serif\" font-size=\"14.00\">value = [511, 256, 270, 876]</text>\n",
       "</g>\n",
       "<!-- 1&#45;&gt;225 -->\n",
       "<g id=\"edge9\" class=\"edge\">\n",
       "<title>1&#45;&gt;225</title>\n",
       "<path fill=\"none\" stroke=\"black\" d=\"M515.5,-279.88C515.5,-271.78 515.5,-262.98 515.5,-254.47\"/>\n",
       "<polygon fill=\"black\" stroke=\"black\" points=\"519,-254.3 515.5,-244.3 512,-254.3 519,-254.3\"/>\n",
       "</g>\n",
       "<!-- 3 -->\n",
       "<g id=\"node4\" class=\"node\">\n",
       "<title>3</title>\n",
       "<polygon fill=\"#ea95f1\" stroke=\"black\" points=\"147,-140 0,-140 0,-72 147,-72 147,-140\"/>\n",
       "<text text-anchor=\"middle\" x=\"73.5\" y=\"-124.8\" font-family=\"Times,serif\" font-size=\"14.00\">Graduated &lt;= 0.344</text>\n",
       "<text text-anchor=\"middle\" x=\"73.5\" y=\"-109.8\" font-family=\"Times,serif\" font-size=\"14.00\">entropy = 1.573</text>\n",
       "<text text-anchor=\"middle\" x=\"73.5\" y=\"-94.8\" font-family=\"Times,serif\" font-size=\"14.00\">samples = 136</text>\n",
       "<text text-anchor=\"middle\" x=\"73.5\" y=\"-79.8\" font-family=\"Times,serif\" font-size=\"14.00\">value = [17, 14, 22, 83]</text>\n",
       "</g>\n",
       "<!-- 2&#45;&gt;3 -->\n",
       "<g id=\"edge3\" class=\"edge\">\n",
       "<title>2&#45;&gt;3</title>\n",
       "<path fill=\"none\" stroke=\"black\" d=\"M188.31,-175.88C172.04,-166.12 154.11,-155.37 137.35,-145.31\"/>\n",
       "<polygon fill=\"black\" stroke=\"black\" points=\"139.08,-142.27 128.71,-140.12 135.48,-148.27 139.08,-142.27\"/>\n",
       "</g>\n",
       "<!-- 148 -->\n",
       "<g id=\"node7\" class=\"node\">\n",
       "<title>148</title>\n",
       "<polygon fill=\"#d943e6\" stroke=\"black\" points=\"321.5,-140 165.5,-140 165.5,-72 321.5,-72 321.5,-140\"/>\n",
       "<text text-anchor=\"middle\" x=\"243.5\" y=\"-124.8\" font-family=\"Times,serif\" font-size=\"14.00\">Work_Experience &lt;= 5.5</text>\n",
       "<text text-anchor=\"middle\" x=\"243.5\" y=\"-109.8\" font-family=\"Times,serif\" font-size=\"14.00\">entropy = 0.362</text>\n",
       "<text text-anchor=\"middle\" x=\"243.5\" y=\"-94.8\" font-family=\"Times,serif\" font-size=\"14.00\">samples = 644</text>\n",
       "<text text-anchor=\"middle\" x=\"243.5\" y=\"-79.8\" font-family=\"Times,serif\" font-size=\"14.00\">value = [8, 11, 13, 612]</text>\n",
       "</g>\n",
       "<!-- 2&#45;&gt;148 -->\n",
       "<g id=\"edge6\" class=\"edge\">\n",
       "<title>2&#45;&gt;148</title>\n",
       "<path fill=\"none\" stroke=\"black\" d=\"M243.5,-175.88C243.5,-167.78 243.5,-158.98 243.5,-150.47\"/>\n",
       "<polygon fill=\"black\" stroke=\"black\" points=\"247,-150.3 243.5,-140.3 240,-150.3 247,-150.3\"/>\n",
       "</g>\n",
       "<!-- 4 -->\n",
       "<g id=\"node5\" class=\"node\">\n",
       "<title>4</title>\n",
       "<polygon fill=\"#c0c0c0\" stroke=\"black\" points=\"64.5,-36 10.5,-36 10.5,0 64.5,0 64.5,-36\"/>\n",
       "<text text-anchor=\"middle\" x=\"37.5\" y=\"-14.3\" font-family=\"Times,serif\" font-size=\"14.00\">(...)</text>\n",
       "</g>\n",
       "<!-- 3&#45;&gt;4 -->\n",
       "<g id=\"edge4\" class=\"edge\">\n",
       "<title>3&#45;&gt;4</title>\n",
       "<path fill=\"none\" stroke=\"black\" d=\"M59.68,-72C56.04,-63.28 52.14,-53.98 48.66,-45.65\"/>\n",
       "<polygon fill=\"black\" stroke=\"black\" points=\"51.88,-44.28 44.79,-36.4 45.42,-46.98 51.88,-44.28\"/>\n",
       "</g>\n",
       "<!-- 61 -->\n",
       "<g id=\"node6\" class=\"node\">\n",
       "<title>61</title>\n",
       "<polygon fill=\"#c0c0c0\" stroke=\"black\" points=\"136.5,-36 82.5,-36 82.5,0 136.5,0 136.5,-36\"/>\n",
       "<text text-anchor=\"middle\" x=\"109.5\" y=\"-14.3\" font-family=\"Times,serif\" font-size=\"14.00\">(...)</text>\n",
       "</g>\n",
       "<!-- 3&#45;&gt;61 -->\n",
       "<g id=\"edge5\" class=\"edge\">\n",
       "<title>3&#45;&gt;61</title>\n",
       "<path fill=\"none\" stroke=\"black\" d=\"M87.32,-72C90.96,-63.28 94.86,-53.98 98.34,-45.65\"/>\n",
       "<polygon fill=\"black\" stroke=\"black\" points=\"101.58,-46.98 102.21,-36.4 95.12,-44.28 101.58,-46.98\"/>\n",
       "</g>\n",
       "<!-- 149 -->\n",
       "<g id=\"node8\" class=\"node\">\n",
       "<title>149</title>\n",
       "<polygon fill=\"#c0c0c0\" stroke=\"black\" points=\"239.5,-36 185.5,-36 185.5,0 239.5,0 239.5,-36\"/>\n",
       "<text text-anchor=\"middle\" x=\"212.5\" y=\"-14.3\" font-family=\"Times,serif\" font-size=\"14.00\">(...)</text>\n",
       "</g>\n",
       "<!-- 148&#45;&gt;149 -->\n",
       "<g id=\"edge7\" class=\"edge\">\n",
       "<title>148&#45;&gt;149</title>\n",
       "<path fill=\"none\" stroke=\"black\" d=\"M231.6,-72C228.5,-63.38 225.18,-54.19 222.2,-45.92\"/>\n",
       "<polygon fill=\"black\" stroke=\"black\" points=\"225.46,-44.62 218.77,-36.4 218.87,-47 225.46,-44.62\"/>\n",
       "</g>\n",
       "<!-- 156 -->\n",
       "<g id=\"node9\" class=\"node\">\n",
       "<title>156</title>\n",
       "<polygon fill=\"#c0c0c0\" stroke=\"black\" points=\"311.5,-36 257.5,-36 257.5,0 311.5,0 311.5,-36\"/>\n",
       "<text text-anchor=\"middle\" x=\"284.5\" y=\"-14.3\" font-family=\"Times,serif\" font-size=\"14.00\">(...)</text>\n",
       "</g>\n",
       "<!-- 148&#45;&gt;156 -->\n",
       "<g id=\"edge8\" class=\"edge\">\n",
       "<title>148&#45;&gt;156</title>\n",
       "<path fill=\"none\" stroke=\"black\" d=\"M259.23,-72C263.39,-63.28 267.82,-53.98 271.79,-45.65\"/>\n",
       "<polygon fill=\"black\" stroke=\"black\" points=\"275.06,-46.94 276.2,-36.4 268.74,-43.92 275.06,-46.94\"/>\n",
       "</g>\n",
       "<!-- 226 -->\n",
       "<g id=\"node11\" class=\"node\">\n",
       "<title>226</title>\n",
       "<polygon fill=\"#fdf5fe\" stroke=\"black\" points=\"513.5,-140 339.5,-140 339.5,-72 513.5,-72 513.5,-140\"/>\n",
       "<text text-anchor=\"middle\" x=\"426.5\" y=\"-124.8\" font-family=\"Times,serif\" font-size=\"14.00\">Work_Experience &lt;= 0.5</text>\n",
       "<text text-anchor=\"middle\" x=\"426.5\" y=\"-109.8\" font-family=\"Times,serif\" font-size=\"14.00\">entropy = 1.816</text>\n",
       "<text text-anchor=\"middle\" x=\"426.5\" y=\"-94.8\" font-family=\"Times,serif\" font-size=\"14.00\">samples = 1099</text>\n",
       "<text text-anchor=\"middle\" x=\"426.5\" y=\"-79.8\" font-family=\"Times,serif\" font-size=\"14.00\">value = [392, 154, 126, 427]</text>\n",
       "</g>\n",
       "<!-- 225&#45;&gt;226 -->\n",
       "<g id=\"edge10\" class=\"edge\">\n",
       "<title>225&#45;&gt;226</title>\n",
       "<path fill=\"none\" stroke=\"black\" d=\"M486.6,-175.88C478.83,-166.98 470.33,-157.24 462.24,-147.96\"/>\n",
       "<polygon fill=\"black\" stroke=\"black\" points=\"464.77,-145.53 455.56,-140.3 459.49,-150.14 464.77,-145.53\"/>\n",
       "</g>\n",
       "<!-- 1505 -->\n",
       "<g id=\"node14\" class=\"node\">\n",
       "<title>1505</title>\n",
       "<polygon fill=\"#eda5f3\" stroke=\"black\" points=\"705.5,-140 531.5,-140 531.5,-72 705.5,-72 705.5,-140\"/>\n",
       "<text text-anchor=\"middle\" x=\"618.5\" y=\"-124.8\" font-family=\"Times,serif\" font-size=\"14.00\">AgeGroup &lt;= 0.5</text>\n",
       "<text text-anchor=\"middle\" x=\"618.5\" y=\"-109.8\" font-family=\"Times,serif\" font-size=\"14.00\">entropy = 1.697</text>\n",
       "<text text-anchor=\"middle\" x=\"618.5\" y=\"-94.8\" font-family=\"Times,serif\" font-size=\"14.00\">samples = 814</text>\n",
       "<text text-anchor=\"middle\" x=\"618.5\" y=\"-79.8\" font-family=\"Times,serif\" font-size=\"14.00\">value = [119, 102, 144, 449]</text>\n",
       "</g>\n",
       "<!-- 225&#45;&gt;1505 -->\n",
       "<g id=\"edge13\" class=\"edge\">\n",
       "<title>225&#45;&gt;1505</title>\n",
       "<path fill=\"none\" stroke=\"black\" d=\"M548.94,-175.88C558.12,-166.8 568.17,-156.85 577.7,-147.4\"/>\n",
       "<polygon fill=\"black\" stroke=\"black\" points=\"580.23,-149.82 584.87,-140.3 575.31,-144.85 580.23,-149.82\"/>\n",
       "</g>\n",
       "<!-- 227 -->\n",
       "<g id=\"node12\" class=\"node\">\n",
       "<title>227</title>\n",
       "<polygon fill=\"#c0c0c0\" stroke=\"black\" points=\"429.5,-36 375.5,-36 375.5,0 429.5,0 429.5,-36\"/>\n",
       "<text text-anchor=\"middle\" x=\"402.5\" y=\"-14.3\" font-family=\"Times,serif\" font-size=\"14.00\">(...)</text>\n",
       "</g>\n",
       "<!-- 226&#45;&gt;227 -->\n",
       "<g id=\"edge11\" class=\"edge\">\n",
       "<title>226&#45;&gt;227</title>\n",
       "<path fill=\"none\" stroke=\"black\" d=\"M417.29,-72C414.91,-63.47 412.38,-54.39 410.09,-46.2\"/>\n",
       "<polygon fill=\"black\" stroke=\"black\" points=\"413.42,-45.09 407.36,-36.4 406.67,-46.98 413.42,-45.09\"/>\n",
       "</g>\n",
       "<!-- 638 -->\n",
       "<g id=\"node13\" class=\"node\">\n",
       "<title>638</title>\n",
       "<polygon fill=\"#c0c0c0\" stroke=\"black\" points=\"501.5,-36 447.5,-36 447.5,0 501.5,0 501.5,-36\"/>\n",
       "<text text-anchor=\"middle\" x=\"474.5\" y=\"-14.3\" font-family=\"Times,serif\" font-size=\"14.00\">(...)</text>\n",
       "</g>\n",
       "<!-- 226&#45;&gt;638 -->\n",
       "<g id=\"edge12\" class=\"edge\">\n",
       "<title>226&#45;&gt;638</title>\n",
       "<path fill=\"none\" stroke=\"black\" d=\"M444.92,-72C449.84,-63.19 455.09,-53.78 459.78,-45.38\"/>\n",
       "<polygon fill=\"black\" stroke=\"black\" points=\"462.97,-46.84 464.79,-36.4 456.86,-43.43 462.97,-46.84\"/>\n",
       "</g>\n",
       "<!-- 1506 -->\n",
       "<g id=\"node15\" class=\"node\">\n",
       "<title>1506</title>\n",
       "<polygon fill=\"#c0c0c0\" stroke=\"black\" points=\"596.5,-36 542.5,-36 542.5,0 596.5,0 596.5,-36\"/>\n",
       "<text text-anchor=\"middle\" x=\"569.5\" y=\"-14.3\" font-family=\"Times,serif\" font-size=\"14.00\">(...)</text>\n",
       "</g>\n",
       "<!-- 1505&#45;&gt;1506 -->\n",
       "<g id=\"edge14\" class=\"edge\">\n",
       "<title>1505&#45;&gt;1506</title>\n",
       "<path fill=\"none\" stroke=\"black\" d=\"M599.7,-72C594.62,-63.09 589.2,-53.58 584.38,-45.11\"/>\n",
       "<polygon fill=\"black\" stroke=\"black\" points=\"587.41,-43.36 579.42,-36.4 581.33,-46.82 587.41,-43.36\"/>\n",
       "</g>\n",
       "<!-- 1775 -->\n",
       "<g id=\"node16\" class=\"node\">\n",
       "<title>1775</title>\n",
       "<polygon fill=\"#c0c0c0\" stroke=\"black\" points=\"668.5,-36 614.5,-36 614.5,0 668.5,0 668.5,-36\"/>\n",
       "<text text-anchor=\"middle\" x=\"641.5\" y=\"-14.3\" font-family=\"Times,serif\" font-size=\"14.00\">(...)</text>\n",
       "</g>\n",
       "<!-- 1505&#45;&gt;1775 -->\n",
       "<g id=\"edge15\" class=\"edge\">\n",
       "<title>1505&#45;&gt;1775</title>\n",
       "<path fill=\"none\" stroke=\"black\" d=\"M627.33,-72C629.61,-63.47 632.04,-54.39 634.23,-46.2\"/>\n",
       "<polygon fill=\"black\" stroke=\"black\" points=\"637.64,-46.97 636.85,-36.4 630.88,-45.16 637.64,-46.97\"/>\n",
       "</g>\n",
       "<!-- 2357 -->\n",
       "<g id=\"node18\" class=\"node\">\n",
       "<title>2357</title>\n",
       "<polygon fill=\"#daedfa\" stroke=\"black\" points=\"995,-244 814,-244 814,-176 995,-176 995,-244\"/>\n",
       "<text text-anchor=\"middle\" x=\"904.5\" y=\"-228.8\" font-family=\"Times,serif\" font-size=\"14.00\">Profession &lt;= 0.5</text>\n",
       "<text text-anchor=\"middle\" x=\"904.5\" y=\"-213.8\" font-family=\"Times,serif\" font-size=\"14.00\">entropy = 1.735</text>\n",
       "<text text-anchor=\"middle\" x=\"904.5\" y=\"-198.8\" font-family=\"Times,serif\" font-size=\"14.00\">samples = 2878</text>\n",
       "<text text-anchor=\"middle\" x=\"904.5\" y=\"-183.8\" font-family=\"Times,serif\" font-size=\"14.00\">value = [501, 915, 1281, 181]</text>\n",
       "</g>\n",
       "<!-- 2356&#45;&gt;2357 -->\n",
       "<g id=\"edge17\" class=\"edge\">\n",
       "<title>2356&#45;&gt;2357</title>\n",
       "<path fill=\"none\" stroke=\"black\" d=\"M904.5,-279.88C904.5,-271.78 904.5,-262.98 904.5,-254.47\"/>\n",
       "<polygon fill=\"black\" stroke=\"black\" points=\"908,-254.3 904.5,-244.3 901,-254.3 908,-254.3\"/>\n",
       "</g>\n",
       "<!-- 5366 -->\n",
       "<g id=\"node25\" class=\"node\">\n",
       "<title>5366</title>\n",
       "<polygon fill=\"#fbece2\" stroke=\"black\" points=\"1281.5,-244 1107.5,-244 1107.5,-176 1281.5,-176 1281.5,-244\"/>\n",
       "<text text-anchor=\"middle\" x=\"1194.5\" y=\"-228.8\" font-family=\"Times,serif\" font-size=\"14.00\">Work_Experience &lt;= 1.5</text>\n",
       "<text text-anchor=\"middle\" x=\"1194.5\" y=\"-213.8\" font-family=\"Times,serif\" font-size=\"14.00\">entropy = 1.924</text>\n",
       "<text text-anchor=\"middle\" x=\"1194.5\" y=\"-198.8\" font-family=\"Times,serif\" font-size=\"14.00\">samples = 2497</text>\n",
       "<text text-anchor=\"middle\" x=\"1194.5\" y=\"-183.8\" font-family=\"Times,serif\" font-size=\"14.00\">value = [935, 662, 384, 516]</text>\n",
       "</g>\n",
       "<!-- 2356&#45;&gt;5366 -->\n",
       "<g id=\"edge24\" class=\"edge\">\n",
       "<title>2356&#45;&gt;5366</title>\n",
       "<path fill=\"none\" stroke=\"black\" d=\"M998.65,-279.88C1030.28,-268.76 1065.6,-256.34 1097.44,-245.14\"/>\n",
       "<polygon fill=\"black\" stroke=\"black\" points=\"1098.93,-248.32 1107.21,-241.7 1096.61,-241.72 1098.93,-248.32\"/>\n",
       "</g>\n",
       "<!-- 2358 -->\n",
       "<g id=\"node19\" class=\"node\">\n",
       "<title>2358</title>\n",
       "<polygon fill=\"#edfceb\" stroke=\"black\" points=\"897.5,-140 723.5,-140 723.5,-72 897.5,-72 897.5,-140\"/>\n",
       "<text text-anchor=\"middle\" x=\"810.5\" y=\"-124.8\" font-family=\"Times,serif\" font-size=\"14.00\">Work_Experience &lt;= 0.5</text>\n",
       "<text text-anchor=\"middle\" x=\"810.5\" y=\"-109.8\" font-family=\"Times,serif\" font-size=\"14.00\">entropy = 1.926</text>\n",
       "<text text-anchor=\"middle\" x=\"810.5\" y=\"-94.8\" font-family=\"Times,serif\" font-size=\"14.00\">samples = 759</text>\n",
       "<text text-anchor=\"middle\" x=\"810.5\" y=\"-79.8\" font-family=\"Times,serif\" font-size=\"14.00\">value = [219, 273, 151, 116]</text>\n",
       "</g>\n",
       "<!-- 2357&#45;&gt;2358 -->\n",
       "<g id=\"edge18\" class=\"edge\">\n",
       "<title>2357&#45;&gt;2358</title>\n",
       "<path fill=\"none\" stroke=\"black\" d=\"M873.98,-175.88C865.69,-166.89 856.62,-157.04 847.99,-147.68\"/>\n",
       "<polygon fill=\"black\" stroke=\"black\" points=\"850.54,-145.28 841.19,-140.3 845.39,-150.02 850.54,-145.28\"/>\n",
       "</g>\n",
       "<!-- 3285 -->\n",
       "<g id=\"node22\" class=\"node\">\n",
       "<title>3285</title>\n",
       "<polygon fill=\"#bedff6\" stroke=\"black\" points=\"1089.5,-140 915.5,-140 915.5,-72 1089.5,-72 1089.5,-140\"/>\n",
       "<text text-anchor=\"middle\" x=\"1002.5\" y=\"-124.8\" font-family=\"Times,serif\" font-size=\"14.00\">Work_Experience &lt;= 0.5</text>\n",
       "<text text-anchor=\"middle\" x=\"1002.5\" y=\"-109.8\" font-family=\"Times,serif\" font-size=\"14.00\">entropy = 1.547</text>\n",
       "<text text-anchor=\"middle\" x=\"1002.5\" y=\"-94.8\" font-family=\"Times,serif\" font-size=\"14.00\">samples = 2119</text>\n",
       "<text text-anchor=\"middle\" x=\"1002.5\" y=\"-79.8\" font-family=\"Times,serif\" font-size=\"14.00\">value = [282, 642, 1130, 65]</text>\n",
       "</g>\n",
       "<!-- 2357&#45;&gt;3285 -->\n",
       "<g id=\"edge21\" class=\"edge\">\n",
       "<title>2357&#45;&gt;3285</title>\n",
       "<path fill=\"none\" stroke=\"black\" d=\"M936.32,-175.88C944.96,-166.89 954.42,-157.04 963.42,-147.68\"/>\n",
       "<polygon fill=\"black\" stroke=\"black\" points=\"966.1,-149.94 970.51,-140.3 961.05,-145.09 966.1,-149.94\"/>\n",
       "</g>\n",
       "<!-- 2359 -->\n",
       "<g id=\"node20\" class=\"node\">\n",
       "<title>2359</title>\n",
       "<polygon fill=\"#c0c0c0\" stroke=\"black\" points=\"789.5,-36 735.5,-36 735.5,0 789.5,0 789.5,-36\"/>\n",
       "<text text-anchor=\"middle\" x=\"762.5\" y=\"-14.3\" font-family=\"Times,serif\" font-size=\"14.00\">(...)</text>\n",
       "</g>\n",
       "<!-- 2358&#45;&gt;2359 -->\n",
       "<g id=\"edge19\" class=\"edge\">\n",
       "<title>2358&#45;&gt;2359</title>\n",
       "<path fill=\"none\" stroke=\"black\" d=\"M792.08,-72C787.16,-63.19 781.91,-53.78 777.22,-45.38\"/>\n",
       "<polygon fill=\"black\" stroke=\"black\" points=\"780.14,-43.43 772.21,-36.4 774.03,-46.84 780.14,-43.43\"/>\n",
       "</g>\n",
       "<!-- 2520 -->\n",
       "<g id=\"node21\" class=\"node\">\n",
       "<title>2520</title>\n",
       "<polygon fill=\"#c0c0c0\" stroke=\"black\" points=\"861.5,-36 807.5,-36 807.5,0 861.5,0 861.5,-36\"/>\n",
       "<text text-anchor=\"middle\" x=\"834.5\" y=\"-14.3\" font-family=\"Times,serif\" font-size=\"14.00\">(...)</text>\n",
       "</g>\n",
       "<!-- 2358&#45;&gt;2520 -->\n",
       "<g id=\"edge20\" class=\"edge\">\n",
       "<title>2358&#45;&gt;2520</title>\n",
       "<path fill=\"none\" stroke=\"black\" d=\"M819.71,-72C822.09,-63.47 824.62,-54.39 826.91,-46.2\"/>\n",
       "<polygon fill=\"black\" stroke=\"black\" points=\"830.33,-46.98 829.64,-36.4 823.58,-45.09 830.33,-46.98\"/>\n",
       "</g>\n",
       "<!-- 3286 -->\n",
       "<g id=\"node23\" class=\"node\">\n",
       "<title>3286</title>\n",
       "<polygon fill=\"#c0c0c0\" stroke=\"black\" points=\"981.5,-36 927.5,-36 927.5,0 981.5,0 981.5,-36\"/>\n",
       "<text text-anchor=\"middle\" x=\"954.5\" y=\"-14.3\" font-family=\"Times,serif\" font-size=\"14.00\">(...)</text>\n",
       "</g>\n",
       "<!-- 3285&#45;&gt;3286 -->\n",
       "<g id=\"edge22\" class=\"edge\">\n",
       "<title>3285&#45;&gt;3286</title>\n",
       "<path fill=\"none\" stroke=\"black\" d=\"M984.08,-72C979.16,-63.19 973.91,-53.78 969.22,-45.38\"/>\n",
       "<polygon fill=\"black\" stroke=\"black\" points=\"972.14,-43.43 964.21,-36.4 966.03,-46.84 972.14,-43.43\"/>\n",
       "</g>\n",
       "<!-- 4227 -->\n",
       "<g id=\"node24\" class=\"node\">\n",
       "<title>4227</title>\n",
       "<polygon fill=\"#c0c0c0\" stroke=\"black\" points=\"1053.5,-36 999.5,-36 999.5,0 1053.5,0 1053.5,-36\"/>\n",
       "<text text-anchor=\"middle\" x=\"1026.5\" y=\"-14.3\" font-family=\"Times,serif\" font-size=\"14.00\">(...)</text>\n",
       "</g>\n",
       "<!-- 3285&#45;&gt;4227 -->\n",
       "<g id=\"edge23\" class=\"edge\">\n",
       "<title>3285&#45;&gt;4227</title>\n",
       "<path fill=\"none\" stroke=\"black\" d=\"M1011.71,-72C1014.09,-63.47 1016.62,-54.39 1018.91,-46.2\"/>\n",
       "<polygon fill=\"black\" stroke=\"black\" points=\"1022.33,-46.98 1021.64,-36.4 1015.58,-45.09 1022.33,-46.98\"/>\n",
       "</g>\n",
       "<!-- 5367 -->\n",
       "<g id=\"node26\" class=\"node\">\n",
       "<title>5367</title>\n",
       "<polygon fill=\"#f7fef6\" stroke=\"black\" points=\"1281.5,-140 1107.5,-140 1107.5,-72 1281.5,-72 1281.5,-140\"/>\n",
       "<text text-anchor=\"middle\" x=\"1194.5\" y=\"-124.8\" font-family=\"Times,serif\" font-size=\"14.00\">Gender &lt;= 0.387</text>\n",
       "<text text-anchor=\"middle\" x=\"1194.5\" y=\"-109.8\" font-family=\"Times,serif\" font-size=\"14.00\">entropy = 1.84</text>\n",
       "<text text-anchor=\"middle\" x=\"1194.5\" y=\"-94.8\" font-family=\"Times,serif\" font-size=\"14.00\">samples = 1236</text>\n",
       "<text text-anchor=\"middle\" x=\"1194.5\" y=\"-79.8\" font-family=\"Times,serif\" font-size=\"14.00\">value = [409, 447, 278, 102]</text>\n",
       "</g>\n",
       "<!-- 5366&#45;&gt;5367 -->\n",
       "<g id=\"edge25\" class=\"edge\">\n",
       "<title>5366&#45;&gt;5367</title>\n",
       "<path fill=\"none\" stroke=\"black\" d=\"M1194.5,-175.88C1194.5,-167.78 1194.5,-158.98 1194.5,-150.47\"/>\n",
       "<polygon fill=\"black\" stroke=\"black\" points=\"1198,-150.3 1194.5,-140.3 1191,-150.3 1198,-150.3\"/>\n",
       "</g>\n",
       "<!-- 6752 -->\n",
       "<g id=\"node29\" class=\"node\">\n",
       "<title>6752</title>\n",
       "<polygon fill=\"#fceee5\" stroke=\"black\" points=\"1473.5,-140 1299.5,-140 1299.5,-72 1473.5,-72 1473.5,-140\"/>\n",
       "<text text-anchor=\"middle\" x=\"1386.5\" y=\"-124.8\" font-family=\"Times,serif\" font-size=\"14.00\">Work_Experience &lt;= 3.5</text>\n",
       "<text text-anchor=\"middle\" x=\"1386.5\" y=\"-109.8\" font-family=\"Times,serif\" font-size=\"14.00\">entropy = 1.789</text>\n",
       "<text text-anchor=\"middle\" x=\"1386.5\" y=\"-94.8\" font-family=\"Times,serif\" font-size=\"14.00\">samples = 1261</text>\n",
       "<text text-anchor=\"middle\" x=\"1386.5\" y=\"-79.8\" font-family=\"Times,serif\" font-size=\"14.00\">value = [526, 215, 106, 414]</text>\n",
       "</g>\n",
       "<!-- 5366&#45;&gt;6752 -->\n",
       "<g id=\"edge28\" class=\"edge\">\n",
       "<title>5366&#45;&gt;6752</title>\n",
       "<path fill=\"none\" stroke=\"black\" d=\"M1256.84,-175.88C1275.46,-165.99 1296.02,-155.07 1315.17,-144.9\"/>\n",
       "<polygon fill=\"black\" stroke=\"black\" points=\"1316.96,-147.91 1324.15,-140.12 1313.67,-141.73 1316.96,-147.91\"/>\n",
       "</g>\n",
       "<!-- 5368 -->\n",
       "<g id=\"node27\" class=\"node\">\n",
       "<title>5368</title>\n",
       "<polygon fill=\"#c0c0c0\" stroke=\"black\" points=\"1185.5,-36 1131.5,-36 1131.5,0 1185.5,0 1185.5,-36\"/>\n",
       "<text text-anchor=\"middle\" x=\"1158.5\" y=\"-14.3\" font-family=\"Times,serif\" font-size=\"14.00\">(...)</text>\n",
       "</g>\n",
       "<!-- 5367&#45;&gt;5368 -->\n",
       "<g id=\"edge26\" class=\"edge\">\n",
       "<title>5367&#45;&gt;5368</title>\n",
       "<path fill=\"none\" stroke=\"black\" d=\"M1180.68,-72C1177.04,-63.28 1173.14,-53.98 1169.66,-45.65\"/>\n",
       "<polygon fill=\"black\" stroke=\"black\" points=\"1172.88,-44.28 1165.79,-36.4 1166.42,-46.98 1172.88,-44.28\"/>\n",
       "</g>\n",
       "<!-- 6107 -->\n",
       "<g id=\"node28\" class=\"node\">\n",
       "<title>6107</title>\n",
       "<polygon fill=\"#c0c0c0\" stroke=\"black\" points=\"1257.5,-36 1203.5,-36 1203.5,0 1257.5,0 1257.5,-36\"/>\n",
       "<text text-anchor=\"middle\" x=\"1230.5\" y=\"-14.3\" font-family=\"Times,serif\" font-size=\"14.00\">(...)</text>\n",
       "</g>\n",
       "<!-- 5367&#45;&gt;6107 -->\n",
       "<g id=\"edge27\" class=\"edge\">\n",
       "<title>5367&#45;&gt;6107</title>\n",
       "<path fill=\"none\" stroke=\"black\" d=\"M1208.32,-72C1211.96,-63.28 1215.86,-53.98 1219.34,-45.65\"/>\n",
       "<polygon fill=\"black\" stroke=\"black\" points=\"1222.58,-46.98 1223.21,-36.4 1216.12,-44.28 1222.58,-46.98\"/>\n",
       "</g>\n",
       "<!-- 6753 -->\n",
       "<g id=\"node30\" class=\"node\">\n",
       "<title>6753</title>\n",
       "<polygon fill=\"#c0c0c0\" stroke=\"black\" points=\"1377.5,-36 1323.5,-36 1323.5,0 1377.5,0 1377.5,-36\"/>\n",
       "<text text-anchor=\"middle\" x=\"1350.5\" y=\"-14.3\" font-family=\"Times,serif\" font-size=\"14.00\">(...)</text>\n",
       "</g>\n",
       "<!-- 6752&#45;&gt;6753 -->\n",
       "<g id=\"edge29\" class=\"edge\">\n",
       "<title>6752&#45;&gt;6753</title>\n",
       "<path fill=\"none\" stroke=\"black\" d=\"M1372.68,-72C1369.04,-63.28 1365.14,-53.98 1361.66,-45.65\"/>\n",
       "<polygon fill=\"black\" stroke=\"black\" points=\"1364.88,-44.28 1357.79,-36.4 1358.42,-46.98 1364.88,-44.28\"/>\n",
       "</g>\n",
       "<!-- 7372 -->\n",
       "<g id=\"node31\" class=\"node\">\n",
       "<title>7372</title>\n",
       "<polygon fill=\"#c0c0c0\" stroke=\"black\" points=\"1449.5,-36 1395.5,-36 1395.5,0 1449.5,0 1449.5,-36\"/>\n",
       "<text text-anchor=\"middle\" x=\"1422.5\" y=\"-14.3\" font-family=\"Times,serif\" font-size=\"14.00\">(...)</text>\n",
       "</g>\n",
       "<!-- 6752&#45;&gt;7372 -->\n",
       "<g id=\"edge30\" class=\"edge\">\n",
       "<title>6752&#45;&gt;7372</title>\n",
       "<path fill=\"none\" stroke=\"black\" d=\"M1400.32,-72C1403.96,-63.28 1407.86,-53.98 1411.34,-45.65\"/>\n",
       "<polygon fill=\"black\" stroke=\"black\" points=\"1414.58,-46.98 1415.21,-36.4 1408.12,-44.28 1414.58,-46.98\"/>\n",
       "</g>\n",
       "</g>\n",
       "</svg>\n"
      ],
      "text/plain": [
       "<graphviz.files.Source at 0x143a1a320>"
      ]
     },
     "execution_count": 32,
     "metadata": {},
     "output_type": "execute_result"
    }
   ],
   "source": [
    "# Convert the decision tree model to text and graph\n",
    "# we need to refit the DT model that is part of a composite pipe before exporting it as text\n",
    "entropy_dt_clf['classifier'].fit(preprocessor.fit_transform(X), Y)\n",
    "\n",
    "text_representation = export_text(entropy_dt_clf['classifier'],\n",
    "                                  feature_names=['Gender', 'Ever_Married', 'Graduated', 'Age', 'Spending_Score','Profession', 'Work_Experience', 'Var1','Family_Size', 'Family_size_range', 'AgeGroup'],\n",
    "                                  max_depth=2)\n",
    "print(text_representation)\n",
    "\n",
    "\n",
    "# draw the induced decision tree\n",
    "dot_data = export_graphviz(entropy_dt_clf['classifier'],\n",
    "                                  max_depth=3,\n",
    "                                  feature_names=['Gender', 'Ever_Married', 'Graduated', 'Age', 'Spending_Score', 'Profession', 'Work_Experience', 'Var1', 'Family_Size', 'Family_size_range', 'AgeGroup'],\n",
    "                                  filled=True)\n",
    "\n",
    "graph = graphviz.Source(dot_data, format=\"png\") \n",
    "graph"
   ]
  },
  {
   "cell_type": "markdown",
   "id": "modern-snowboard",
   "metadata": {},
   "source": [
    "## The decision tree above only shows one node with entropy < 1."
   ]
  },
  {
   "cell_type": "markdown",
   "id": "distinct-hungary",
   "metadata": {},
   "source": [
    "### Feature importance"
   ]
  },
  {
   "cell_type": "code",
   "execution_count": 33,
   "id": "moral-creativity",
   "metadata": {
    "colab": {
     "base_uri": "https://localhost:8080/",
     "height": 349
    },
    "id": "3hxLVASaw_Q4",
    "outputId": "eb3a0957-fd13-4e2c-ea4e-a684dd457445",
    "tags": []
   },
   "outputs": [
    {
     "name": "stdout",
     "output_type": "stream",
     "text": [
      "Feature: 0, Score: 0.37972\n",
      "Feature: 1, Score: 0.17070\n",
      "Feature: 2, Score: 0.10178\n",
      "Feature: 3, Score: 0.04665\n",
      "Feature: 4, Score: 0.01895\n",
      "Feature: 5, Score: 0.04018\n",
      "Feature: 6, Score: 0.12028\n",
      "Feature: 7, Score: 0.06275\n",
      "Feature: 8, Score: 0.01411\n",
      "Feature: 9, Score: 0.02340\n",
      "Feature: 10, Score: 0.02148\n"
     ]
    },
    {
     "data": {
      "image/png": "[encoded data removed]",
      "text/plain": [
       "<Figure size 432x288 with 1 Axes>"
      ]
     },
     "metadata": {
      "needs_background": "light"
     },
     "output_type": "display_data"
    }
   ],
   "source": [
    "# get feature importances from the model\n",
    "importance = entropy_dt_clf['classifier'].feature_importances_\n",
    "\n",
    "# summarize feature importances\n",
    "for i,v in enumerate(importance):\n",
    "\tprint('Feature: %0d, Score: %.5f' % (i,v))\n",
    " \n",
    "# plot feature importances\n",
    "plt.bar([x for x in range(len(importance))], importance)\n",
    "plt.show()"
   ]
  },
  {
   "cell_type": "markdown",
   "id": "local-membership",
   "metadata": {},
   "source": [
    "## Hyperparemeter Optimization with GridSearchCV"
   ]
  },
  {
   "cell_type": "markdown",
   "id": "legislative-content",
   "metadata": {},
   "source": [
    "### DT with gini\n",
    "#### Using max_depth, max_features, and splitter, which determines how splits are chosen, options are random and (default) best."
   ]
  },
  {
   "cell_type": "code",
   "execution_count": 34,
   "id": "according-committee",
   "metadata": {
    "colab": {
     "base_uri": "https://localhost:8080/"
    },
    "executionInfo": {
     "elapsed": 1004,
     "status": "ok",
     "timestamp": 1618855286894,
     "user": {
      "displayName": "Michael Polinsky",
      "photoUrl": "",
      "userId": "01023161198689739095"
     },
     "user_tz": 240
    },
    "id": "-XXoZ-WHCNh2",
    "outputId": "669e611f-ff73-4cc5-dfaf-324ae89f3d7a"
   },
   "outputs": [
    {
     "name": "stdout",
     "output_type": "stream",
     "text": [
      "The best DT model hyperparameters: {'max_depth': 6, 'max_features': 5, 'splitter': 'best'}\n",
      "The best achieved accuracy after hyperparameter optimization: 0.51 \n",
      "\n"
     ]
    }
   ],
   "source": [
    "# Use GridSearchCV to find optimum hyperparameter values for the DT model\n",
    "\n",
    "\n",
    "# create a dictionary of all values we want to test\n",
    "param_grid0 = {'max_depth': np.arange(2,16),\n",
    "               'max_features': np.arange(1,7),\n",
    "               'splitter': ['best','random']}      \n",
    "   \n",
    "    \n",
    "# use gridsearch to test all values\n",
    "grid_search0 = GridSearchCV(gini_dt_clf['classifier'], \n",
    "                          param_grid0, \n",
    "                           cv=3)\n",
    "    \n",
    "# fit the model \n",
    "grid_search0.fit(preprocessor.fit_transform(X), Y)\n",
    "\n",
    "\n",
    "print(\"The best DT model hyperparameters:\", grid_search0.best_params_)\n",
    "print(\"The best achieved accuracy after hyperparameter optimization: %.2f \\n\" % (grid_search0.best_score_))"
   ]
  },
  {
   "cell_type": "markdown",
   "id": "freelance-experience",
   "metadata": {},
   "source": [
    "### DT with entropy\n",
    "#### Using max_depth, max_features, and splitter."
   ]
  },
  {
   "cell_type": "code",
   "execution_count": 35,
   "id": "promising-walnut",
   "metadata": {
    "colab": {
     "base_uri": "https://localhost:8080/"
    },
    "executionInfo": {
     "elapsed": 1004,
     "status": "ok",
     "timestamp": 1618855286894,
     "user": {
      "displayName": "Michael Polinsky",
      "photoUrl": "",
      "userId": "01023161198689739095"
     },
     "user_tz": 240
    },
    "id": "-XXoZ-WHCNh2",
    "outputId": "669e611f-ff73-4cc5-dfaf-324ae89f3d7a"
   },
   "outputs": [
    {
     "name": "stdout",
     "output_type": "stream",
     "text": [
      "The best DT model hyperparameters: {'max_depth': 6, 'max_features': 8, 'splitter': 'best'}\n",
      "The best achieved accuracy after hyperparameter optimization: 0.52 \n",
      "\n"
     ]
    }
   ],
   "source": [
    "# Use GridSearchCV to find optimum hyperparameter values for the DT model\n",
    "\n",
    "\n",
    "# create a dictionary of all values we want to test\n",
    "param_grid1 = {'max_depth': np.arange(2,16),\n",
    "               'max_features': np.arange(1,9),\n",
    "               'splitter': ['best','random']}    \n",
    "   \n",
    "    \n",
    "# use gridsearch to test all values\n",
    "grid_search1 = GridSearchCV(entropy_dt_clf['classifier'], \n",
    "                           param_grid1, \n",
    "                           cv=3)\n",
    "    \n",
    "# fit the model \n",
    "grid_search1.fit(preprocessor.fit_transform(X), Y)\n",
    "\n",
    "print(\"The best DT model hyperparameters:\", grid_search1.best_params_)   \n",
    "print(\"The best achieved accuracy after hyperparameter optimization: %.2f \\n\" % (grid_search1.best_score_))"
   ]
  },
  {
   "cell_type": "markdown",
   "id": "viral-strike",
   "metadata": {},
   "source": [
    "### SVC Poly\n",
    "#### We want higher C and gamma ideally, as the model is underfitting.  Since this is the SVC poly model, it doesn't make sense to test other kernels.  We have two other models for two other kernels.  I tried a number of combinations of values of C and degree, some took up to an hour to complete, discussed more in the summary."
   ]
  },
  {
   "cell_type": "code",
   "execution_count": 66,
   "id": "typical-costa",
   "metadata": {
    "colab": {
     "base_uri": "https://localhost:8080/"
    },
    "executionInfo": {
     "elapsed": 24983,
     "status": "ok",
     "timestamp": 1618855318340,
     "user": {
      "displayName": "Michael Polinsky",
      "photoUrl": "",
      "userId": "01023161198689739095"
     },
     "user_tz": 240
    },
    "id": "z5LOOdLG4RVK",
    "outputId": "27ca1118-e35e-4a2b-cb09-2710a7d6c2ef"
   },
   "outputs": [
    {
     "name": "stdout",
     "output_type": "stream",
     "text": [
      "Fitting 3 folds for each of 18 candidates, totalling 54 fits\n",
      "[CV 1/3; 1/18] START C=0.1, degree=2, gamma=auto................................\n",
      "[CV 1/3; 1/18] END ..............C=0.1, degree=2, gamma=auto; total time=   1.3s\n",
      "[CV 2/3; 1/18] START C=0.1, degree=2, gamma=auto................................\n",
      "[CV 2/3; 1/18] END ..............C=0.1, degree=2, gamma=auto; total time=   1.3s\n",
      "[CV 3/3; 1/18] START C=0.1, degree=2, gamma=auto................................\n",
      "[CV 3/3; 1/18] END ..............C=0.1, degree=2, gamma=auto; total time=   1.2s\n",
      "[CV 1/3; 2/18] START C=0.1, degree=2, gamma=scale...............................\n",
      "[CV 1/3; 2/18] END .............C=0.1, degree=2, gamma=scale; total time=   1.2s\n",
      "[CV 2/3; 2/18] START C=0.1, degree=2, gamma=scale...............................\n",
      "[CV 2/3; 2/18] END .............C=0.1, degree=2, gamma=scale; total time=   1.2s\n",
      "[CV 3/3; 2/18] START C=0.1, degree=2, gamma=scale...............................\n",
      "[CV 3/3; 2/18] END .............C=0.1, degree=2, gamma=scale; total time=   1.2s\n",
      "[CV 1/3; 3/18] START C=0.1, degree=3, gamma=auto................................\n",
      "[CV 1/3; 3/18] END ..............C=0.1, degree=3, gamma=auto; total time=   1.3s\n",
      "[CV 2/3; 3/18] START C=0.1, degree=3, gamma=auto................................\n",
      "[CV 2/3; 3/18] END ..............C=0.1, degree=3, gamma=auto; total time=   1.3s\n",
      "[CV 3/3; 3/18] START C=0.1, degree=3, gamma=auto................................\n",
      "[CV 3/3; 3/18] END ..............C=0.1, degree=3, gamma=auto; total time=   1.3s\n",
      "[CV 1/3; 4/18] START C=0.1, degree=3, gamma=scale...............................\n",
      "[CV 1/3; 4/18] END .............C=0.1, degree=3, gamma=scale; total time=   1.4s\n",
      "[CV 2/3; 4/18] START C=0.1, degree=3, gamma=scale...............................\n",
      "[CV 2/3; 4/18] END .............C=0.1, degree=3, gamma=scale; total time=   1.3s\n",
      "[CV 3/3; 4/18] START C=0.1, degree=3, gamma=scale...............................\n",
      "[CV 3/3; 4/18] END .............C=0.1, degree=3, gamma=scale; total time=   1.3s\n",
      "[CV 1/3; 5/18] START C=0.1, degree=4, gamma=auto................................\n",
      "[CV 1/3; 5/18] END ..............C=0.1, degree=4, gamma=auto; total time=   1.6s\n",
      "[CV 2/3; 5/18] START C=0.1, degree=4, gamma=auto................................\n",
      "[CV 2/3; 5/18] END ..............C=0.1, degree=4, gamma=auto; total time=   1.6s\n",
      "[CV 3/3; 5/18] START C=0.1, degree=4, gamma=auto................................\n",
      "[CV 3/3; 5/18] END ..............C=0.1, degree=4, gamma=auto; total time=   1.6s\n",
      "[CV 1/3; 6/18] START C=0.1, degree=4, gamma=scale...............................\n",
      "[CV 1/3; 6/18] END .............C=0.1, degree=4, gamma=scale; total time=   1.5s\n",
      "[CV 2/3; 6/18] START C=0.1, degree=4, gamma=scale...............................\n",
      "[CV 2/3; 6/18] END .............C=0.1, degree=4, gamma=scale; total time=   1.4s\n",
      "[CV 3/3; 6/18] START C=0.1, degree=4, gamma=scale...............................\n",
      "[CV 3/3; 6/18] END .............C=0.1, degree=4, gamma=scale; total time=   1.4s\n",
      "[CV 1/3; 7/18] START C=1, degree=2, gamma=auto..................................\n",
      "[CV 1/3; 7/18] END ................C=1, degree=2, gamma=auto; total time=   1.4s\n",
      "[CV 2/3; 7/18] START C=1, degree=2, gamma=auto..................................\n",
      "[CV 2/3; 7/18] END ................C=1, degree=2, gamma=auto; total time=   1.4s\n",
      "[CV 3/3; 7/18] START C=1, degree=2, gamma=auto..................................\n",
      "[CV 3/3; 7/18] END ................C=1, degree=2, gamma=auto; total time=   1.4s\n",
      "[CV 1/3; 8/18] START C=1, degree=2, gamma=scale.................................\n",
      "[CV 1/3; 8/18] END ...............C=1, degree=2, gamma=scale; total time=   1.3s\n",
      "[CV 2/3; 8/18] START C=1, degree=2, gamma=scale.................................\n",
      "[CV 2/3; 8/18] END ...............C=1, degree=2, gamma=scale; total time=   1.3s\n",
      "[CV 3/3; 8/18] START C=1, degree=2, gamma=scale.................................\n",
      "[CV 3/3; 8/18] END ...............C=1, degree=2, gamma=scale; total time=   1.3s\n",
      "[CV 1/3; 9/18] START C=1, degree=3, gamma=auto..................................\n",
      "[CV 1/3; 9/18] END ................C=1, degree=3, gamma=auto; total time=   1.8s\n",
      "[CV 2/3; 9/18] START C=1, degree=3, gamma=auto..................................\n",
      "[CV 2/3; 9/18] END ................C=1, degree=3, gamma=auto; total time=   1.8s\n",
      "[CV 3/3; 9/18] START C=1, degree=3, gamma=auto..................................\n",
      "[CV 3/3; 9/18] END ................C=1, degree=3, gamma=auto; total time=   1.9s\n",
      "[CV 1/3; 10/18] START C=1, degree=3, gamma=scale................................\n",
      "[CV 1/3; 10/18] END ..............C=1, degree=3, gamma=scale; total time=   1.5s\n",
      "[CV 2/3; 10/18] START C=1, degree=3, gamma=scale................................\n",
      "[CV 2/3; 10/18] END ..............C=1, degree=3, gamma=scale; total time=   1.5s\n",
      "[CV 3/3; 10/18] START C=1, degree=3, gamma=scale................................\n",
      "[CV 3/3; 10/18] END ..............C=1, degree=3, gamma=scale; total time=   1.5s\n",
      "[CV 1/3; 11/18] START C=1, degree=4, gamma=auto.................................\n",
      "[CV 1/3; 11/18] END ...............C=1, degree=4, gamma=auto; total time=   2.9s\n",
      "[CV 2/3; 11/18] START C=1, degree=4, gamma=auto.................................\n",
      "[CV 2/3; 11/18] END ...............C=1, degree=4, gamma=auto; total time=   3.0s\n",
      "[CV 3/3; 11/18] START C=1, degree=4, gamma=auto.................................\n",
      "[CV 3/3; 11/18] END ...............C=1, degree=4, gamma=auto; total time=   3.0s\n",
      "[CV 1/3; 12/18] START C=1, degree=4, gamma=scale................................\n",
      "[CV 1/3; 12/18] END ..............C=1, degree=4, gamma=scale; total time=   2.0s\n",
      "[CV 2/3; 12/18] START C=1, degree=4, gamma=scale................................\n",
      "[CV 2/3; 12/18] END ..............C=1, degree=4, gamma=scale; total time=   2.0s\n",
      "[CV 3/3; 12/18] START C=1, degree=4, gamma=scale................................\n",
      "[CV 3/3; 12/18] END ..............C=1, degree=4, gamma=scale; total time=   2.0s\n",
      "[CV 1/3; 13/18] START C=10, degree=2, gamma=auto................................\n",
      "[CV 1/3; 13/18] END ..............C=10, degree=2, gamma=auto; total time=   2.3s\n",
      "[CV 2/3; 13/18] START C=10, degree=2, gamma=auto................................\n",
      "[CV 2/3; 13/18] END ..............C=10, degree=2, gamma=auto; total time=   2.2s\n",
      "[CV 3/3; 13/18] START C=10, degree=2, gamma=auto................................\n",
      "[CV 3/3; 13/18] END ..............C=10, degree=2, gamma=auto; total time=   2.3s\n",
      "[CV 1/3; 14/18] START C=10, degree=2, gamma=scale...............................\n",
      "[CV 1/3; 14/18] END .............C=10, degree=2, gamma=scale; total time=   1.9s\n",
      "[CV 2/3; 14/18] START C=10, degree=2, gamma=scale...............................\n",
      "[CV 2/3; 14/18] END .............C=10, degree=2, gamma=scale; total time=   1.8s\n",
      "[CV 3/3; 14/18] START C=10, degree=2, gamma=scale...............................\n",
      "[CV 3/3; 14/18] END .............C=10, degree=2, gamma=scale; total time=   1.9s\n",
      "[CV 1/3; 15/18] START C=10, degree=3, gamma=auto................................\n",
      "[CV 1/3; 15/18] END ..............C=10, degree=3, gamma=auto; total time=   4.6s\n",
      "[CV 2/3; 15/18] START C=10, degree=3, gamma=auto................................\n",
      "[CV 2/3; 15/18] END ..............C=10, degree=3, gamma=auto; total time=   4.5s\n",
      "[CV 3/3; 15/18] START C=10, degree=3, gamma=auto................................\n",
      "[CV 3/3; 15/18] END ..............C=10, degree=3, gamma=auto; total time=   4.6s\n",
      "[CV 1/3; 16/18] START C=10, degree=3, gamma=scale...............................\n",
      "[CV 1/3; 16/18] END .............C=10, degree=3, gamma=scale; total time=   2.9s\n",
      "[CV 2/3; 16/18] START C=10, degree=3, gamma=scale...............................\n",
      "[CV 2/3; 16/18] END .............C=10, degree=3, gamma=scale; total time=   2.7s\n",
      "[CV 3/3; 16/18] START C=10, degree=3, gamma=scale...............................\n",
      "[CV 3/3; 16/18] END .............C=10, degree=3, gamma=scale; total time=   2.7s\n",
      "[CV 1/3; 17/18] START C=10, degree=4, gamma=auto................................\n",
      "[CV 1/3; 17/18] END ..............C=10, degree=4, gamma=auto; total time=  15.0s\n",
      "[CV 2/3; 17/18] START C=10, degree=4, gamma=auto................................\n",
      "[CV 2/3; 17/18] END ..............C=10, degree=4, gamma=auto; total time=  14.2s\n",
      "[CV 3/3; 17/18] START C=10, degree=4, gamma=auto................................\n",
      "[CV 3/3; 17/18] END ..............C=10, degree=4, gamma=auto; total time=  13.7s\n",
      "[CV 1/3; 18/18] START C=10, degree=4, gamma=scale...............................\n",
      "[CV 1/3; 18/18] END .............C=10, degree=4, gamma=scale; total time=   5.2s\n",
      "[CV 2/3; 18/18] START C=10, degree=4, gamma=scale...............................\n",
      "[CV 2/3; 18/18] END .............C=10, degree=4, gamma=scale; total time=   5.5s\n",
      "[CV 3/3; 18/18] START C=10, degree=4, gamma=scale...............................\n",
      "[CV 3/3; 18/18] END .............C=10, degree=4, gamma=scale; total time=   5.6s\n",
      "The best SVC poly model hyperparameters: {'C': 10, 'degree': 3, 'gamma': 'auto'}\n",
      "The best achieved accuracy after hyperparameter optimization: 0.52\n",
      "\n"
     ]
    }
   ],
   "source": [
    "# Use GridSearchCV to find optimum hyperparameter values for the SVC poly model\n",
    "\n",
    "# create a dictionary of all values we want to test\n",
    "param_grid2 = {'gamma':['auto','scale'],    \n",
    "              'degree': [2,3,4],     \n",
    "              'C': [0.1,1,10]}       \n",
    "   \n",
    "    \n",
    "# use gridsearch to test all values\n",
    "grid_search2 = GridSearchCV(poly_svc_clf['classifier'], \n",
    "                           param_grid2, \n",
    "                           cv=3, verbose=10)\n",
    "\n",
    "# fit the model \n",
    "grid_search2.fit(preprocessor.fit_transform(X), Y)\n",
    "\n",
    "\n",
    "print(\"The best SVC poly model hyperparameters:\", grid_search2.best_params_)   \n",
    "print(\"The best achieved accuracy after hyperparameter optimization: %.2f\\n\" % grid_search2.best_score_)\n",
    "\n",
    "# C=1000 deg=2 gamma=auto kern=poly time = 2-3 min/fold\n",
    "# C=1000 deg=3 gamma=auto kern=poly time = 9-15 min/fold"
   ]
  },
  {
   "cell_type": "markdown",
   "id": "brutal-edward",
   "metadata": {},
   "source": [
    "#### We can see the improvement is only slight."
   ]
  },
  {
   "cell_type": "markdown",
   "id": "annoying-cross",
   "metadata": {},
   "source": [
    "## SVC linear\n",
    "### I wasn't going to try a higher degree because obviously t his is a linear kernal, but again I tried a number of combinations of C and gamma.  I ultimately found I was getting worse results by specifying values for gamma so I went with the two options, 'auto' and 'scale'."
   ]
  },
  {
   "cell_type": "code",
   "execution_count": 43,
   "id": "future-elimination",
   "metadata": {
    "colab": {
     "base_uri": "https://localhost:8080/"
    },
    "executionInfo": {
     "elapsed": 24983,
     "status": "ok",
     "timestamp": 1618855318340,
     "user": {
      "displayName": "Michael Polinsky",
      "photoUrl": "",
      "userId": "01023161198689739095"
     },
     "user_tz": 240
    },
    "id": "z5LOOdLG4RVK",
    "outputId": "27ca1118-e35e-4a2b-cb09-2710a7d6c2ef"
   },
   "outputs": [
    {
     "name": "stdout",
     "output_type": "stream",
     "text": [
      "Fitting 3 folds for each of 6 candidates, totalling 18 fits\n",
      "[CV 1/3; 1/6] START C=0.1, gamma=auto...........................................\n",
      "[CV 1/3; 1/6] END .........................C=0.1, gamma=auto; total time=   1.2s\n",
      "[CV 2/3; 1/6] START C=0.1, gamma=auto...........................................\n",
      "[CV 2/3; 1/6] END .........................C=0.1, gamma=auto; total time=   1.2s\n",
      "[CV 3/3; 1/6] START C=0.1, gamma=auto...........................................\n",
      "[CV 3/3; 1/6] END .........................C=0.1, gamma=auto; total time=   1.2s\n",
      "[CV 1/3; 2/6] START C=0.1, gamma=scale..........................................\n",
      "[CV 1/3; 2/6] END ........................C=0.1, gamma=scale; total time=   1.2s\n",
      "[CV 2/3; 2/6] START C=0.1, gamma=scale..........................................\n",
      "[CV 2/3; 2/6] END ........................C=0.1, gamma=scale; total time=   1.1s\n",
      "[CV 3/3; 2/6] START C=0.1, gamma=scale..........................................\n",
      "[CV 3/3; 2/6] END ........................C=0.1, gamma=scale; total time=   1.2s\n",
      "[CV 1/3; 3/6] START C=1, gamma=auto.............................................\n",
      "[CV 1/3; 3/6] END ...........................C=1, gamma=auto; total time=   1.5s\n",
      "[CV 2/3; 3/6] START C=1, gamma=auto.............................................\n",
      "[CV 2/3; 3/6] END ...........................C=1, gamma=auto; total time=   1.5s\n",
      "[CV 3/3; 3/6] START C=1, gamma=auto.............................................\n",
      "[CV 3/3; 3/6] END ...........................C=1, gamma=auto; total time=   1.5s\n",
      "[CV 1/3; 4/6] START C=1, gamma=scale............................................\n",
      "[CV 1/3; 4/6] END ..........................C=1, gamma=scale; total time=   1.5s\n",
      "[CV 2/3; 4/6] START C=1, gamma=scale............................................\n",
      "[CV 2/3; 4/6] END ..........................C=1, gamma=scale; total time=   1.5s\n",
      "[CV 3/3; 4/6] START C=1, gamma=scale............................................\n",
      "[CV 3/3; 4/6] END ..........................C=1, gamma=scale; total time=   1.5s\n",
      "[CV 1/3; 5/6] START C=10, gamma=auto............................................\n",
      "[CV 1/3; 5/6] END ..........................C=10, gamma=auto; total time=   4.0s\n",
      "[CV 2/3; 5/6] START C=10, gamma=auto............................................\n",
      "[CV 2/3; 5/6] END ..........................C=10, gamma=auto; total time=   3.6s\n",
      "[CV 3/3; 5/6] START C=10, gamma=auto............................................\n",
      "[CV 3/3; 5/6] END ..........................C=10, gamma=auto; total time=   3.8s\n",
      "[CV 1/3; 6/6] START C=10, gamma=scale...........................................\n",
      "[CV 1/3; 6/6] END .........................C=10, gamma=scale; total time=   4.0s\n",
      "[CV 2/3; 6/6] START C=10, gamma=scale...........................................\n",
      "[CV 2/3; 6/6] END .........................C=10, gamma=scale; total time=   3.6s\n",
      "[CV 3/3; 6/6] START C=10, gamma=scale...........................................\n",
      "[CV 3/3; 6/6] END .........................C=10, gamma=scale; total time=   3.8s\n",
      "The best SVC poly model hyperparameters: {'C': 10, 'gamma': 'auto'}\n",
      "The best achieved accuracy after hyperparameter optimization: 0.49\n",
      "\n"
     ]
    }
   ],
   "source": [
    "# Use GridSearchCV to find optimum hyperparameter values for the SVC linear model\n",
    "# was around 25 minutes with degrees 3,4,5 and C 10, 1000\n",
    "\n",
    "# create a dictionary of all values we want to test\n",
    "param_grid3 = {'gamma':['auto','scale'], \n",
    "               'C': [0.1,1,10]}         \n",
    "   \n",
    "    \n",
    "# use gridsearch to test all values\n",
    "grid_search3 = GridSearchCV(lin_svc_clf['classifier'], \n",
    "                           param_grid3, \n",
    "                           cv=3, verbose=10)\n",
    "\n",
    "# fit the model \n",
    "grid_search3.fit(preprocessor.fit_transform(X), Y)\n",
    "\n",
    "   \n",
    "print(\"The best SVC poly model hyperparameters:\", grid_search3.best_params_)\n",
    "print(\"The best achieved accuracy after hyperparameter optimization: %.2f\\n\" % grid_search3.best_score_)"
   ]
  },
  {
   "cell_type": "markdown",
   "id": "alive-fiction",
   "metadata": {},
   "source": [
    "## SVC rbf"
   ]
  },
  {
   "cell_type": "code",
   "execution_count": 38,
   "id": "dominican-courtesy",
   "metadata": {
    "colab": {
     "base_uri": "https://localhost:8080/"
    },
    "executionInfo": {
     "elapsed": 24983,
     "status": "ok",
     "timestamp": 1618855318340,
     "user": {
      "displayName": "Michael Polinsky",
      "photoUrl": "",
      "userId": "01023161198689739095"
     },
     "user_tz": 240
    },
    "id": "z5LOOdLG4RVK",
    "outputId": "27ca1118-e35e-4a2b-cb09-2710a7d6c2ef"
   },
   "outputs": [
    {
     "name": "stdout",
     "output_type": "stream",
     "text": [
      "Fitting 3 folds for each of 4 candidates, totalling 12 fits\n",
      "[CV 1/3; 1/4] START C=1, degree=3, gamma=scale..................................\n",
      "[CV 1/3; 1/4] END ................C=1, degree=3, gamma=scale; total time=   2.3s\n",
      "[CV 2/3; 1/4] START C=1, degree=3, gamma=scale..................................\n",
      "[CV 2/3; 1/4] END ................C=1, degree=3, gamma=scale; total time=   2.3s\n",
      "[CV 3/3; 1/4] START C=1, degree=3, gamma=scale..................................\n",
      "[CV 3/3; 1/4] END ................C=1, degree=3, gamma=scale; total time=   2.3s\n",
      "[CV 1/3; 2/4] START C=1, degree=3, gamma=auto...................................\n",
      "[CV 1/3; 2/4] END .................C=1, degree=3, gamma=auto; total time=   2.3s\n",
      "[CV 2/3; 2/4] START C=1, degree=3, gamma=auto...................................\n",
      "[CV 2/3; 2/4] END .................C=1, degree=3, gamma=auto; total time=   2.3s\n",
      "[CV 3/3; 2/4] START C=1, degree=3, gamma=auto...................................\n",
      "[CV 3/3; 2/4] END .................C=1, degree=3, gamma=auto; total time=   2.3s\n",
      "[CV 1/3; 3/4] START C=10, degree=3, gamma=scale.................................\n",
      "[CV 1/3; 3/4] END ...............C=10, degree=3, gamma=scale; total time=   2.5s\n",
      "[CV 2/3; 3/4] START C=10, degree=3, gamma=scale.................................\n",
      "[CV 2/3; 3/4] END ...............C=10, degree=3, gamma=scale; total time=   2.5s\n",
      "[CV 3/3; 3/4] START C=10, degree=3, gamma=scale.................................\n",
      "[CV 3/3; 3/4] END ...............C=10, degree=3, gamma=scale; total time=   2.5s\n",
      "[CV 1/3; 4/4] START C=10, degree=3, gamma=auto..................................\n",
      "[CV 1/3; 4/4] END ................C=10, degree=3, gamma=auto; total time=   2.5s\n",
      "[CV 2/3; 4/4] START C=10, degree=3, gamma=auto..................................\n",
      "[CV 2/3; 4/4] END ................C=10, degree=3, gamma=auto; total time=   2.5s\n",
      "[CV 3/3; 4/4] START C=10, degree=3, gamma=auto..................................\n",
      "[CV 3/3; 4/4] END ................C=10, degree=3, gamma=auto; total time=   2.5s\n",
      "The best SVC poly model hyperparameters: {'C': 10, 'degree': 3, 'gamma': 'auto'}\n",
      "The best achieved accuracy after hyperparameter optimization: 0.52\n",
      "\n"
     ]
    }
   ],
   "source": [
    "# Use GridSearchCV to find optimum hyperparameter values for the SVC poly model\n",
    "\n",
    "# create a dictionary of all values we want to test\n",
    "param_grid4 = {'gamma':['scale', 'auto'],      \n",
    "               'degree': [3],     \n",
    "               'C': [1, 10]}       \n",
    "    \n",
    "# use gridsearch to test all values\n",
    "grid_search4 = GridSearchCV(rbf_svc_clf['classifier'], \n",
    "                           param_grid4, \n",
    "                           cv=3, verbose=10)\n",
    "\n",
    "# fit the model \n",
    "grid_search4.fit(preprocessor.fit_transform(X), Y)\n",
    "\n",
    "\n",
    "print(\"The best SVC poly model hyperparameters:\", grid_search4.best_params_)\n",
    "print(\"The best achieved accuracy after hyperparameter optimization: %.2f\\n\" % grid_search4.best_score_)"
   ]
  },
  {
   "cell_type": "markdown",
   "id": "raised-duncan",
   "metadata": {},
   "source": [
    "## Display grid search results"
   ]
  },
  {
   "cell_type": "code",
   "execution_count": 67,
   "id": "raising-applicant",
   "metadata": {
    "colab": {
     "base_uri": "https://localhost:8080/",
     "height": 281
    },
    "executionInfo": {
     "elapsed": 22108,
     "status": "ok",
     "timestamp": 1618855318341,
     "user": {
      "displayName": "Michael Polinsky",
      "photoUrl": "",
      "userId": "01023161198689739095"
     },
     "user_tz": 240
    },
    "id": "m0eegQdOk_7b",
    "outputId": "4d634dde-2b5b-49c2-bc8f-b39e2e418789"
   },
   "outputs": [
    {
     "data": {
      "image/png": "[encoded data removed]",
      "text/plain": [
       "<Figure size 432x288 with 1 Axes>"
      ]
     },
     "metadata": {
      "needs_background": "light"
     },
     "output_type": "display_data"
    }
   ],
   "source": [
    "# graph results of grid search for the two models\n",
    "\n",
    "labels = ['SVC (Linear)', 'SVC (Poly)', 'SVC (rbf)', 'DT (Entropy)', 'DT (Gini)']\n",
    "before_optimization_scores = [lin_svc_clf_train_score, rbf_svc_clf_train_score, poly_svc_clf_train_score, entropy_dt_train_score, gini_dt_train_score]\n",
    "after_optimization_scores = [grid_search3.best_score_, grid_search2.best_score_, grid_search4.best_score_, grid_search1.best_score_, grid_search0.best_score_]\n",
    "\n",
    "x = np.arange(len(labels))  # the label locations\n",
    "width = 0.25                # the width of the bars\n",
    "\n",
    "fig, ax = plt.subplots()\n",
    "rects1 = ax.bar(x - width/2, before_optimization_scores, width, label='Before Optimization', color='gray')\n",
    "rects2 = ax.bar(x + width/2, after_optimization_scores, width, label='After Optimization', color='maroon')\n",
    "\n",
    "# Add some text for labels, title and custom x-axis tick labels, etc.\n",
    "ax.set_ylabel('Accuracy')\n",
    "ax.set_xticks(x)\n",
    "ax.set_ylim(0,1.0)\n",
    "ax.set_xticklabels(labels)\n",
    "ax.legend(bbox_to_anchor = (1.45, 1.0), loc='upper right')\n",
    "\n",
    "plt.title('Hyperparamater Optimization Results')\n",
    "plt.show()"
   ]
  },
  {
   "cell_type": "markdown",
   "id": "elder-promise",
   "metadata": {},
   "source": [
    "#### It seems that improving the hyperparameters is not delivering a huge improvement.  It seems that in some cases, hyperparamter tuning is a good way to get a better model from a good model but not a good one from a bad one."
   ]
  },
  {
   "cell_type": "markdown",
   "id": "spiritual-stranger",
   "metadata": {},
   "source": [
    "# Summary/Conclusions"
   ]
  },
  {
   "cell_type": "markdown",
   "id": "amazing-costume",
   "metadata": {},
   "source": [
    "### Results\n",
    "\n",
    "#### In this project my goal was to train five models to classify customers into four classes.  The models used were SVCs with polynomial, linear, and rbf kernels, and decision trees that used entropy and gini for their scores.  \n",
    "\n",
    "#### As you can see, I can't say my models were able to classify.  There were no pure leaf nodes in my decision trees and the SVCs hovered around 50% accuracy on the training set, and were not able to generalize, with an accuracy between 33-35% on the test set. Initially, the models were achieving closer to 40% accuracy on the training sets, and I made some adjustments that did get them to 50%.  Those adjustments included tweaking the pipeline and attempting to create new features.   \n",
    "\n",
    "### Pipeline\n",
    "\n",
    "#### I also used pipelines to prepare the data and found that one-hot encodings for the categorical data slightly improved the score of the decision tree that used entropy, and made a separate preprocessor for that tree. I also found that the MinMaxScaler achieved slightly better results than the StandardScaler, so I used that instead.  The other change I made was to add a feature selection stage with sklearn's SelectKBest class.  It turned out that SelectKBest helped the trees a bit but caused the SVC's accuracy to decline slightly, so I added the transformation only to the trees' pipelines.\n",
    "\n",
    "### Feature engineering\n",
    "\n",
    "#### I added three features, 'AgeGroup', 'Has_Work_Experience', and 'Family_size_range', which were just binned versions of 'Age', 'Work_Experience', and 'Family_Size'.  'AgeGroup' and 'Family_size_range'.  When I plotted them there seemed to be clear correlations between the classes the model was predicted and the trends in the engineered features.  Like the other tweaks I made, these features seemed to help only slightly.\n",
    "\n",
    "#### I also tried limiting the number of features used but that only caused the accuracy to decrease.\n",
    "\n",
    "### Grid Search\n",
    "\n",
    "#### To try and discover the best parameters I tried a number of combinations of SVC and DTree parameters.  For the SVC poly I tried a number of combinations of degree from 2 to 6 and C from 0.01 to 1000, which became impractical for certain combinations.  Degree 3 and C=1000 took beteween 8 and 15 minutes for a single fit.  The results I show here were the most promising I had, but in general the best degrees were 2 and 3, and the best C was higher, which makes sense becuase my models are all underfitting.  The grid search did not make the accuracy jump very far, which was expected. "
   ]
  },
  {
   "cell_type": "markdown",
   "id": "reserved-vocabulary",
   "metadata": {},
   "source": [
    "### Conclusion\n",
    "#### This was the toughest project so far, and the one I most wanted to keep working on at the deadline. Using the pipeline was intially challenging because in streamlining the process it also obscures things that had been manually coded before.  Now I see how useful the pipeline is, and how it isn't limiting at all, it's really a powerful tool that makes the process cleaner.  I think the feature engineering and data processing stages are where the biggest difference in model quality can be made from where I am now.\n",
    "#### Something I will remember for the future is to try GridSearch to tune the pipeline parameters, such as the value of k and the metric used in the Select K Best feature selector."
   ]
  },
  {
   "cell_type": "markdown",
   "id": "disturbed-persian",
   "metadata": {},
   "source": [
    "#### If I were to continue with this project I would dig more deeply into how to engineer more relevant features, specifically trying to understnad how to better transfer insights gained from data exploration to feature engineering."
   ]
  }
 ],
 "metadata": {
  "kernelspec": {
   "display_name": "aml",
   "language": "python",
   "name": "aml"
  },
  "language_info": {
   "codemirror_mode": {
    "name": "ipython",
    "version": 3
   },
   "file_extension": ".py",
   "mimetype": "text/x-python",
   "name": "python",
   "nbconvert_exporter": "python",
   "pygments_lexer": "ipython3",
   "version": "3.6.5"
  }
 },
 "nbformat": 4,
 "nbformat_minor": 5
}
