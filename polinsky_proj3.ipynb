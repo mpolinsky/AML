{
 "cells": [
  {
   "cell_type": "markdown",
   "id": "piano-symbol",
   "metadata": {},
   "source": [
    "#### Author: Michael Polinsky"
   ]
  },
  {
   "cell_type": "code",
   "execution_count": 476,
   "id": "efficient-execution",
   "metadata": {},
   "outputs": [],
   "source": [
    "import pandas as pd\n",
    "import numpy as np\n",
    "import seaborn as sbn\n",
    "import matplotlib\n",
    "import matplotlib.pyplot as plt\n",
    "import scipy as sp\n",
    "\n",
    "from sklearn.model_selection import train_test_split, cross_val_score, cross_val_predict\n",
    "from sklearn.linear_model import LogisticRegression, SGDClassifier\n",
    "from sklearn.ensemble import RandomForestClassifier\n",
    "from sklearn.preprocessing import StandardScaler, MinMaxScaler\n",
    "from sklearn.decomposition import PCA\n",
    "from sklearn.pipeline import make_pipeline\n",
    "from sklearn.metrics import confusion_matrix, classification_report, plot_roc_curve, roc_curve"
   ]
  },
  {
   "cell_type": "markdown",
   "id": "atmospheric-start",
   "metadata": {},
   "source": [
    "# Import data"
   ]
  },
  {
   "cell_type": "code",
   "execution_count": 477,
   "id": "offensive-programmer",
   "metadata": {},
   "outputs": [],
   "source": [
    "d = pd.read_csv('heart.csv')"
   ]
  },
  {
   "cell_type": "markdown",
   "id": "related-experiment",
   "metadata": {},
   "source": [
    "## Examine data: some of these are categorical and some are raw values.  "
   ]
  },
  {
   "cell_type": "code",
   "execution_count": 478,
   "id": "improving-indianapolis",
   "metadata": {},
   "outputs": [
    {
     "data": {
      "text/html": [
       "<div>\n",
       "<style scoped>\n",
       "    .dataframe tbody tr th:only-of-type {\n",
       "        vertical-align: middle;\n",
       "    }\n",
       "\n",
       "    .dataframe tbody tr th {\n",
       "        vertical-align: top;\n",
       "    }\n",
       "\n",
       "    .dataframe thead th {\n",
       "        text-align: right;\n",
       "    }\n",
       "</style>\n",
       "<table border=\"1\" class=\"dataframe\">\n",
       "  <thead>\n",
       "    <tr style=\"text-align: right;\">\n",
       "      <th></th>\n",
       "      <th>age</th>\n",
       "      <th>sex</th>\n",
       "      <th>cp</th>\n",
       "      <th>trestbps</th>\n",
       "      <th>chol</th>\n",
       "      <th>fbs</th>\n",
       "      <th>restecg</th>\n",
       "      <th>thalach</th>\n",
       "      <th>exang</th>\n",
       "      <th>oldpeak</th>\n",
       "      <th>slope</th>\n",
       "      <th>ca</th>\n",
       "      <th>thal</th>\n",
       "      <th>target</th>\n",
       "    </tr>\n",
       "  </thead>\n",
       "  <tbody>\n",
       "    <tr>\n",
       "      <th>count</th>\n",
       "      <td>303.000000</td>\n",
       "      <td>303.000000</td>\n",
       "      <td>303.000000</td>\n",
       "      <td>303.000000</td>\n",
       "      <td>303.000000</td>\n",
       "      <td>303.000000</td>\n",
       "      <td>303.000000</td>\n",
       "      <td>303.000000</td>\n",
       "      <td>303.000000</td>\n",
       "      <td>303.000000</td>\n",
       "      <td>303.000000</td>\n",
       "      <td>303.000000</td>\n",
       "      <td>303.000000</td>\n",
       "      <td>303.000000</td>\n",
       "    </tr>\n",
       "    <tr>\n",
       "      <th>mean</th>\n",
       "      <td>54.366337</td>\n",
       "      <td>0.683168</td>\n",
       "      <td>0.966997</td>\n",
       "      <td>131.623762</td>\n",
       "      <td>246.264026</td>\n",
       "      <td>0.148515</td>\n",
       "      <td>0.528053</td>\n",
       "      <td>149.646865</td>\n",
       "      <td>0.326733</td>\n",
       "      <td>1.039604</td>\n",
       "      <td>1.399340</td>\n",
       "      <td>0.729373</td>\n",
       "      <td>2.313531</td>\n",
       "      <td>0.544554</td>\n",
       "    </tr>\n",
       "    <tr>\n",
       "      <th>std</th>\n",
       "      <td>9.082101</td>\n",
       "      <td>0.466011</td>\n",
       "      <td>1.032052</td>\n",
       "      <td>17.538143</td>\n",
       "      <td>51.830751</td>\n",
       "      <td>0.356198</td>\n",
       "      <td>0.525860</td>\n",
       "      <td>22.905161</td>\n",
       "      <td>0.469794</td>\n",
       "      <td>1.161075</td>\n",
       "      <td>0.616226</td>\n",
       "      <td>1.022606</td>\n",
       "      <td>0.612277</td>\n",
       "      <td>0.498835</td>\n",
       "    </tr>\n",
       "    <tr>\n",
       "      <th>min</th>\n",
       "      <td>29.000000</td>\n",
       "      <td>0.000000</td>\n",
       "      <td>0.000000</td>\n",
       "      <td>94.000000</td>\n",
       "      <td>126.000000</td>\n",
       "      <td>0.000000</td>\n",
       "      <td>0.000000</td>\n",
       "      <td>71.000000</td>\n",
       "      <td>0.000000</td>\n",
       "      <td>0.000000</td>\n",
       "      <td>0.000000</td>\n",
       "      <td>0.000000</td>\n",
       "      <td>0.000000</td>\n",
       "      <td>0.000000</td>\n",
       "    </tr>\n",
       "    <tr>\n",
       "      <th>25%</th>\n",
       "      <td>47.500000</td>\n",
       "      <td>0.000000</td>\n",
       "      <td>0.000000</td>\n",
       "      <td>120.000000</td>\n",
       "      <td>211.000000</td>\n",
       "      <td>0.000000</td>\n",
       "      <td>0.000000</td>\n",
       "      <td>133.500000</td>\n",
       "      <td>0.000000</td>\n",
       "      <td>0.000000</td>\n",
       "      <td>1.000000</td>\n",
       "      <td>0.000000</td>\n",
       "      <td>2.000000</td>\n",
       "      <td>0.000000</td>\n",
       "    </tr>\n",
       "    <tr>\n",
       "      <th>50%</th>\n",
       "      <td>55.000000</td>\n",
       "      <td>1.000000</td>\n",
       "      <td>1.000000</td>\n",
       "      <td>130.000000</td>\n",
       "      <td>240.000000</td>\n",
       "      <td>0.000000</td>\n",
       "      <td>1.000000</td>\n",
       "      <td>153.000000</td>\n",
       "      <td>0.000000</td>\n",
       "      <td>0.800000</td>\n",
       "      <td>1.000000</td>\n",
       "      <td>0.000000</td>\n",
       "      <td>2.000000</td>\n",
       "      <td>1.000000</td>\n",
       "    </tr>\n",
       "    <tr>\n",
       "      <th>75%</th>\n",
       "      <td>61.000000</td>\n",
       "      <td>1.000000</td>\n",
       "      <td>2.000000</td>\n",
       "      <td>140.000000</td>\n",
       "      <td>274.500000</td>\n",
       "      <td>0.000000</td>\n",
       "      <td>1.000000</td>\n",
       "      <td>166.000000</td>\n",
       "      <td>1.000000</td>\n",
       "      <td>1.600000</td>\n",
       "      <td>2.000000</td>\n",
       "      <td>1.000000</td>\n",
       "      <td>3.000000</td>\n",
       "      <td>1.000000</td>\n",
       "    </tr>\n",
       "    <tr>\n",
       "      <th>max</th>\n",
       "      <td>77.000000</td>\n",
       "      <td>1.000000</td>\n",
       "      <td>3.000000</td>\n",
       "      <td>200.000000</td>\n",
       "      <td>564.000000</td>\n",
       "      <td>1.000000</td>\n",
       "      <td>2.000000</td>\n",
       "      <td>202.000000</td>\n",
       "      <td>1.000000</td>\n",
       "      <td>6.200000</td>\n",
       "      <td>2.000000</td>\n",
       "      <td>4.000000</td>\n",
       "      <td>3.000000</td>\n",
       "      <td>1.000000</td>\n",
       "    </tr>\n",
       "  </tbody>\n",
       "</table>\n",
       "</div>"
      ],
      "text/plain": [
       "              age         sex          cp    trestbps        chol         fbs  \\\n",
       "count  303.000000  303.000000  303.000000  303.000000  303.000000  303.000000   \n",
       "mean    54.366337    0.683168    0.966997  131.623762  246.264026    0.148515   \n",
       "std      9.082101    0.466011    1.032052   17.538143   51.830751    0.356198   \n",
       "min     29.000000    0.000000    0.000000   94.000000  126.000000    0.000000   \n",
       "25%     47.500000    0.000000    0.000000  120.000000  211.000000    0.000000   \n",
       "50%     55.000000    1.000000    1.000000  130.000000  240.000000    0.000000   \n",
       "75%     61.000000    1.000000    2.000000  140.000000  274.500000    0.000000   \n",
       "max     77.000000    1.000000    3.000000  200.000000  564.000000    1.000000   \n",
       "\n",
       "          restecg     thalach       exang     oldpeak       slope          ca  \\\n",
       "count  303.000000  303.000000  303.000000  303.000000  303.000000  303.000000   \n",
       "mean     0.528053  149.646865    0.326733    1.039604    1.399340    0.729373   \n",
       "std      0.525860   22.905161    0.469794    1.161075    0.616226    1.022606   \n",
       "min      0.000000   71.000000    0.000000    0.000000    0.000000    0.000000   \n",
       "25%      0.000000  133.500000    0.000000    0.000000    1.000000    0.000000   \n",
       "50%      1.000000  153.000000    0.000000    0.800000    1.000000    0.000000   \n",
       "75%      1.000000  166.000000    1.000000    1.600000    2.000000    1.000000   \n",
       "max      2.000000  202.000000    1.000000    6.200000    2.000000    4.000000   \n",
       "\n",
       "             thal      target  \n",
       "count  303.000000  303.000000  \n",
       "mean     2.313531    0.544554  \n",
       "std      0.612277    0.498835  \n",
       "min      0.000000    0.000000  \n",
       "25%      2.000000    0.000000  \n",
       "50%      2.000000    1.000000  \n",
       "75%      3.000000    1.000000  \n",
       "max      3.000000    1.000000  "
      ]
     },
     "execution_count": 478,
     "metadata": {},
     "output_type": "execute_result"
    }
   ],
   "source": [
    "d.describe()"
   ]
  },
  {
   "cell_type": "markdown",
   "id": "annual-contemporary",
   "metadata": {},
   "source": [
    "### Non-null count equals total number of lines, suggests no nulls in the dataset."
   ]
  },
  {
   "cell_type": "code",
   "execution_count": 479,
   "id": "drawn-reunion",
   "metadata": {},
   "outputs": [
    {
     "name": "stdout",
     "output_type": "stream",
     "text": [
      "<class 'pandas.core.frame.DataFrame'>\n",
      "RangeIndex: 303 entries, 0 to 302\n",
      "Data columns (total 14 columns):\n",
      " #   Column    Non-Null Count  Dtype  \n",
      "---  ------    --------------  -----  \n",
      " 0   age       303 non-null    int64  \n",
      " 1   sex       303 non-null    int64  \n",
      " 2   cp        303 non-null    int64  \n",
      " 3   trestbps  303 non-null    int64  \n",
      " 4   chol      303 non-null    int64  \n",
      " 5   fbs       303 non-null    int64  \n",
      " 6   restecg   303 non-null    int64  \n",
      " 7   thalach   303 non-null    int64  \n",
      " 8   exang     303 non-null    int64  \n",
      " 9   oldpeak   303 non-null    float64\n",
      " 10  slope     303 non-null    int64  \n",
      " 11  ca        303 non-null    int64  \n",
      " 12  thal      303 non-null    int64  \n",
      " 13  target    303 non-null    int64  \n",
      "dtypes: float64(1), int64(13)\n",
      "memory usage: 33.3 KB\n"
     ]
    }
   ],
   "source": [
    "d.info() # Suggests zero non-null but will have to look more closely for missing values"
   ]
  },
  {
   "cell_type": "markdown",
   "id": "empirical-wrong",
   "metadata": {},
   "source": [
    "## Taking a look at the distributions of the data.  The scales range from tenths to hundreds."
   ]
  },
  {
   "cell_type": "code",
   "execution_count": 480,
   "id": "worth-coaching",
   "metadata": {},
   "outputs": [
    {
     "data": {
      "text/plain": [
       "array([[<AxesSubplot:title={'center':'age'}>,\n",
       "        <AxesSubplot:title={'center':'sex'}>,\n",
       "        <AxesSubplot:title={'center':'cp'}>,\n",
       "        <AxesSubplot:title={'center':'trestbps'}>],\n",
       "       [<AxesSubplot:title={'center':'chol'}>,\n",
       "        <AxesSubplot:title={'center':'fbs'}>,\n",
       "        <AxesSubplot:title={'center':'restecg'}>,\n",
       "        <AxesSubplot:title={'center':'thalach'}>],\n",
       "       [<AxesSubplot:title={'center':'exang'}>,\n",
       "        <AxesSubplot:title={'center':'oldpeak'}>,\n",
       "        <AxesSubplot:title={'center':'slope'}>,\n",
       "        <AxesSubplot:title={'center':'ca'}>],\n",
       "       [<AxesSubplot:title={'center':'thal'}>,\n",
       "        <AxesSubplot:title={'center':'target'}>, <AxesSubplot:>,\n",
       "        <AxesSubplot:>]], dtype=object)"
      ]
     },
     "execution_count": 480,
     "metadata": {},
     "output_type": "execute_result"
    },
    {
     "data": {
      "image/png": "[encoded data removed]",
      "text/plain": [
       "<Figure size 1440x1080 with 16 Axes>"
      ]
     },
     "metadata": {
      "needs_background": "light"
     },
     "output_type": "display_data"
    }
   ],
   "source": [
    "d.hist(bins=50, figsize=(20,15))"
   ]
  },
  {
   "cell_type": "code",
   "execution_count": 481,
   "id": "broke-connection",
   "metadata": {},
   "outputs": [
    {
     "data": {
      "text/plain": [
       "age          41\n",
       "sex           2\n",
       "cp            4\n",
       "trestbps     49\n",
       "chol        152\n",
       "fbs           2\n",
       "restecg       3\n",
       "thalach      91\n",
       "exang         2\n",
       "oldpeak      40\n",
       "slope         3\n",
       "ca            5\n",
       "thal          4\n",
       "target        2\n",
       "dtype: int64"
      ]
     },
     "execution_count": 481,
     "metadata": {},
     "output_type": "execute_result"
    }
   ],
   "source": [
    "d.nunique()"
   ]
  },
  {
   "cell_type": "markdown",
   "id": "professional-resort",
   "metadata": {},
   "source": [
    "# 1. Plot distribution of age and sex for each target class."
   ]
  },
  {
   "cell_type": "markdown",
   "id": "imperial-declaration",
   "metadata": {},
   "source": [
    "### Age:"
   ]
  },
  {
   "cell_type": "code",
   "execution_count": 482,
   "id": "august-pricing",
   "metadata": {},
   "outputs": [
    {
     "data": {
      "text/plain": [
       "<seaborn.axisgrid.FacetGrid at 0x1537e7cf8>"
      ]
     },
     "execution_count": 482,
     "metadata": {},
     "output_type": "execute_result"
    },
    {
     "data": {
      "image/png": "[encoded data removed]",
      "text/plain": [
       "<Figure size 720x360 with 2 Axes>"
      ]
     },
     "metadata": {
      "needs_background": "light"
     },
     "output_type": "display_data"
    }
   ],
   "source": [
    "sbn.displot(d, x='age', col='target', bins=41, color='thistle') #element='step' kind='kde',"
   ]
  },
  {
   "cell_type": "markdown",
   "id": "victorian-edward",
   "metadata": {},
   "source": [
    "### Sex:"
   ]
  },
  {
   "cell_type": "code",
   "execution_count": 483,
   "id": "primary-pacific",
   "metadata": {},
   "outputs": [
    {
     "data": {
      "text/plain": [
       "<seaborn.axisgrid.FacetGrid at 0x1537b6d68>"
      ]
     },
     "execution_count": 483,
     "metadata": {},
     "output_type": "execute_result"
    },
    {
     "data": {
      "image/png": "[encoded data removed]",
      "text/plain": [
       "<Figure size 720x360 with 2 Axes>"
      ]
     },
     "metadata": {
      "needs_background": "light"
     },
     "output_type": "display_data"
    }
   ],
   "source": [
    "sbn.displot(d, x='sex', col='target', color='peachpuff') #element='step'"
   ]
  },
  {
   "cell_type": "markdown",
   "id": "strange-clinic",
   "metadata": {},
   "source": [
    "# 2. Plot correlation values for all features with respect to the target class."
   ]
  },
  {
   "cell_type": "markdown",
   "id": "romantic-passenger",
   "metadata": {},
   "source": [
    "### Using .corr()  to calculate Pearson's r for the whole dataset"
   ]
  },
  {
   "cell_type": "code",
   "execution_count": 484,
   "id": "connected-sitting",
   "metadata": {},
   "outputs": [],
   "source": [
    "correlations = d.corr()"
   ]
  },
  {
   "cell_type": "code",
   "execution_count": 485,
   "id": "tender-trick",
   "metadata": {},
   "outputs": [],
   "source": [
    "target_corr = pd.DataFrame(correlations['target'])"
   ]
  },
  {
   "cell_type": "markdown",
   "id": "hungarian-seven",
   "metadata": {},
   "source": [
    "## Plotting the 'target' column of the correlation heatmap.\n",
    "### Shows the correlation of each feature with the target"
   ]
  },
  {
   "cell_type": "code",
   "execution_count": 486,
   "id": "chemical-assurance",
   "metadata": {},
   "outputs": [
    {
     "data": {
      "text/plain": [
       "<AxesSubplot:>"
      ]
     },
     "execution_count": 486,
     "metadata": {},
     "output_type": "execute_result"
    },
    {
     "data": {
      "image/png": "[encoded data removed]",
      "text/plain": [
       "<Figure size 72x720 with 2 Axes>"
      ]
     },
     "metadata": {
      "needs_background": "light"
     },
     "output_type": "display_data"
    }
   ],
   "source": [
    "plt.figure(figsize=(1,10)) \n",
    "sbn.heatmap(target_corr, cmap='hot', annot=True)"
   ]
  },
  {
   "cell_type": "markdown",
   "id": "welsh-address",
   "metadata": {},
   "source": [
    "### I see the strongest correlations being -0.44, -0.43, -0.39, and +0.43, corresponding to 'exang', 'oldpeak', 'ca', and 'cp'.  \n",
    "### Nothing greater than .50."
   ]
  },
  {
   "cell_type": "markdown",
   "id": "ambient-instruction",
   "metadata": {},
   "source": [
    "# 3. Check for any missing feature values and impute as necessary."
   ]
  },
  {
   "cell_type": "markdown",
   "id": "signal-mouse",
   "metadata": {},
   "source": [
    "### I have found none.  Though I found a suggestion online that there are about 5 missing values in 2 columns."
   ]
  },
  {
   "cell_type": "code",
   "execution_count": 487,
   "id": "designing-reaction",
   "metadata": {},
   "outputs": [
    {
     "data": {
      "text/plain": [
       "Index([], dtype='object')"
      ]
     },
     "execution_count": 487,
     "metadata": {},
     "output_type": "execute_result"
    }
   ],
   "source": [
    "d.loc[:, d.isnull().any()].columns"
   ]
  },
  {
   "cell_type": "code",
   "execution_count": 488,
   "id": "treated-rotation",
   "metadata": {},
   "outputs": [
    {
     "data": {
      "text/plain": [
       "age         False\n",
       "sex         False\n",
       "cp          False\n",
       "trestbps    False\n",
       "chol        False\n",
       "fbs         False\n",
       "restecg     False\n",
       "thalach     False\n",
       "exang       False\n",
       "oldpeak     False\n",
       "slope       False\n",
       "ca          False\n",
       "thal        False\n",
       "target      False\n",
       "dtype: bool"
      ]
     },
     "execution_count": 488,
     "metadata": {},
     "output_type": "execute_result"
    }
   ],
   "source": [
    "np.isnan(d).any() "
   ]
  },
  {
   "cell_type": "code",
   "execution_count": 489,
   "id": "metric-cliff",
   "metadata": {},
   "outputs": [
    {
     "data": {
      "text/plain": [
       "age         0\n",
       "sex         0\n",
       "cp          0\n",
       "trestbps    0\n",
       "chol        0\n",
       "fbs         0\n",
       "restecg     0\n",
       "thalach     0\n",
       "exang       0\n",
       "oldpeak     0\n",
       "slope       0\n",
       "ca          0\n",
       "thal        0\n",
       "target      0\n",
       "dtype: int64"
      ]
     },
     "execution_count": 489,
     "metadata": {},
     "output_type": "execute_result"
    }
   ],
   "source": [
    "d.isnull().sum()"
   ]
  },
  {
   "cell_type": "code",
   "execution_count": 490,
   "id": "funky-marina",
   "metadata": {},
   "outputs": [
    {
     "data": {
      "text/plain": [
       "age         0\n",
       "sex         0\n",
       "cp          0\n",
       "trestbps    0\n",
       "chol        0\n",
       "fbs         0\n",
       "restecg     0\n",
       "thalach     0\n",
       "exang       0\n",
       "oldpeak     0\n",
       "slope       0\n",
       "ca          0\n",
       "thal        0\n",
       "target      0\n",
       "dtype: int64"
      ]
     },
     "execution_count": 490,
     "metadata": {},
     "output_type": "execute_result"
    }
   ],
   "source": [
    "d.isna().sum()"
   ]
  },
  {
   "cell_type": "markdown",
   "id": "removable-surfing",
   "metadata": {},
   "source": [
    "# 4. Use an 80-20 split to train LR, RF, and SGD classifiers."
   ]
  },
  {
   "cell_type": "markdown",
   "id": "seasonal-fitness",
   "metadata": {},
   "source": [
    "### Split off target from input features"
   ]
  },
  {
   "cell_type": "code",
   "execution_count": 491,
   "id": "binary-vector",
   "metadata": {},
   "outputs": [],
   "source": [
    "X = d.drop(columns='target')#.values.reshape(-1,1)\n",
    "Y = d.loc[:,'target']#.values.reshape(-1,1)"
   ]
  },
  {
   "cell_type": "markdown",
   "id": "operational-blackberry",
   "metadata": {},
   "source": [
    "### Shape dataset columns"
   ]
  },
  {
   "cell_type": "code",
   "execution_count": 492,
   "id": "recovered-soviet",
   "metadata": {},
   "outputs": [],
   "source": [
    "for col, item in X.iteritems():\n",
    "    item = item.values.reshape(-1,1)"
   ]
  },
  {
   "cell_type": "markdown",
   "id": "sharp-sweden",
   "metadata": {},
   "source": [
    "### Split"
   ]
  },
  {
   "cell_type": "code",
   "execution_count": 493,
   "id": "phantom-immunology",
   "metadata": {
    "tags": []
   },
   "outputs": [],
   "source": [
    "trainX, testX, trainY, testY = train_test_split(X, Y, train_size = 0.80, \n",
    "                                                      test_size = 0.20,\n",
    "                                                      random_state = 11)"
   ]
  },
  {
   "cell_type": "markdown",
   "id": "blind-zealand",
   "metadata": {},
   "source": [
    "### Look at the sized of the splits: 242-61.  These are small datasets!"
   ]
  },
  {
   "cell_type": "code",
   "execution_count": 494,
   "id": "fixed-edgar",
   "metadata": {},
   "outputs": [
    {
     "data": {
      "text/plain": [
       "(242, 13)"
      ]
     },
     "execution_count": 494,
     "metadata": {},
     "output_type": "execute_result"
    }
   ],
   "source": [
    "trainX.shape"
   ]
  },
  {
   "cell_type": "code",
   "execution_count": 495,
   "id": "dimensional-blast",
   "metadata": {},
   "outputs": [
    {
     "data": {
      "text/plain": [
       "(61, 13)"
      ]
     },
     "execution_count": 495,
     "metadata": {},
     "output_type": "execute_result"
    }
   ],
   "source": [
    "testX.shape"
   ]
  },
  {
   "cell_type": "markdown",
   "id": "compatible-infection",
   "metadata": {},
   "source": [
    "## Create a scaled copy of the input data.   "
   ]
  },
  {
   "cell_type": "code",
   "execution_count": 496,
   "id": "legal-usage",
   "metadata": {
    "tags": []
   },
   "outputs": [],
   "source": [
    "ss = StandardScaler()\n",
    "SGDX = ss.fit_transform(trainX)\n",
    "SGDX_t = ss.transform(testX)"
   ]
  },
  {
   "cell_type": "markdown",
   "id": "senior-avenue",
   "metadata": {
    "tags": []
   },
   "source": [
    "# Train LR model"
   ]
  },
  {
   "cell_type": "code",
   "execution_count": 497,
   "id": "split-campus",
   "metadata": {
    "tags": []
   },
   "outputs": [
    {
     "name": "stderr",
     "output_type": "stream",
     "text": [
      "[Parallel(n_jobs=5)]: Using backend ThreadingBackend with 5 concurrent workers.\n",
      "[Parallel(n_jobs=5)]: Done   1 out of   1 | elapsed:    0.0s finished\n",
      "[Parallel(n_jobs=5)]: Using backend ThreadingBackend with 5 concurrent workers.\n",
      "[Parallel(n_jobs=5)]: Done   1 out of   1 | elapsed:    0.0s finished\n"
     ]
    },
    {
     "name": "stdout",
     "output_type": "stream",
     "text": [
      "convergence after 22 epochs took 0 seconds\n",
      "convergence after 8 epochs took 0 seconds\n"
     ]
    }
   ],
   "source": [
    "lr = LogisticRegression(fit_intercept=True,\n",
    "                        multi_class='auto',\n",
    "                        penalty='l1', #lasso regression\n",
    "                        solver='saga', \n",
    "                        max_iter=1000, # <--- Hp\n",
    "                        C=50,  \n",
    "                        verbose=2, # output progress\n",
    "                        n_jobs=5, # parallelize over 5 processes <--- Needed? \n",
    "                        tol=0.01  #  <--- what is this?\n",
    "                         ) # radnom state?\n",
    "lr_classifier = lr.fit(trainX, trainY)\n",
    "lr_c_2 = lr.fit(SGDX, trainY)"
   ]
  },
  {
   "cell_type": "markdown",
   "id": "forty-jesus",
   "metadata": {},
   "source": [
    "## Test using crossval score"
   ]
  },
  {
   "cell_type": "code",
   "execution_count": 498,
   "id": "funny-village",
   "metadata": {},
   "outputs": [
    {
     "name": "stderr",
     "output_type": "stream",
     "text": [
      "[Parallel(n_jobs=5)]: Using backend LokyBackend with 5 concurrent workers.\n",
      "[Parallel(n_jobs=5)]: Done   1 out of   1 | elapsed:    1.5s finished\n",
      "[Parallel(n_jobs=5)]: Using backend LokyBackend with 5 concurrent workers.\n",
      "[Parallel(n_jobs=5)]: Done   1 out of   1 | elapsed:    0.4s finished\n",
      "[Parallel(n_jobs=5)]: Using backend LokyBackend with 5 concurrent workers.\n",
      "[Parallel(n_jobs=5)]: Done   1 out of   1 | elapsed:    0.0s finished\n",
      "[Parallel(n_jobs=5)]: Using backend LokyBackend with 5 concurrent workers.\n",
      "[Parallel(n_jobs=5)]: Done   1 out of   1 | elapsed:    0.0s finished\n",
      "[Parallel(n_jobs=5)]: Using backend LokyBackend with 5 concurrent workers.\n",
      "[Parallel(n_jobs=5)]: Done   1 out of   1 | elapsed:    0.0s finished\n",
      "[Parallel(n_jobs=5)]: Using backend LokyBackend with 5 concurrent workers.\n",
      "[Parallel(n_jobs=5)]: Done   1 out of   1 | elapsed:    0.0s finished\n",
      "[Parallel(n_jobs=5)]: Using backend LokyBackend with 5 concurrent workers.\n",
      "[Parallel(n_jobs=5)]: Done   1 out of   1 | elapsed:    0.0s finished\n",
      "[Parallel(n_jobs=5)]: Using backend LokyBackend with 5 concurrent workers.\n",
      "[Parallel(n_jobs=5)]: Done   1 out of   1 | elapsed:    0.0s finished\n",
      "[Parallel(n_jobs=5)]: Using backend LokyBackend with 5 concurrent workers.\n",
      "[Parallel(n_jobs=5)]: Done   1 out of   1 | elapsed:    0.4s finished\n",
      "[Parallel(n_jobs=5)]: Using backend LokyBackend with 5 concurrent workers.\n",
      "[Parallel(n_jobs=5)]: Done   1 out of   1 | elapsed:    0.0s finished\n",
      "[Parallel(n_jobs=5)]: Using backend LokyBackend with 5 concurrent workers.\n",
      "[Parallel(n_jobs=5)]: Done   1 out of   1 | elapsed:    0.0s finished\n",
      "[Parallel(n_jobs=5)]: Using backend LokyBackend with 5 concurrent workers.\n",
      "[Parallel(n_jobs=5)]: Done   1 out of   1 | elapsed:    0.0s finished\n",
      "[Parallel(n_jobs=5)]: Using backend LokyBackend with 5 concurrent workers.\n",
      "[Parallel(n_jobs=5)]: Done   1 out of   1 | elapsed:    0.0s finished\n",
      "[Parallel(n_jobs=5)]: Using backend LokyBackend with 5 concurrent workers.\n",
      "[Parallel(n_jobs=5)]: Done   1 out of   1 | elapsed:    0.0s finished\n",
      "[Parallel(n_jobs=5)]: Using backend LokyBackend with 5 concurrent workers.\n",
      "[Parallel(n_jobs=5)]: Done   1 out of   1 | elapsed:    0.0s finished\n",
      "[Parallel(n_jobs=5)]: Using backend LokyBackend with 5 concurrent workers.\n",
      "[Parallel(n_jobs=5)]: Done   1 out of   1 | elapsed:    0.0s finished\n",
      "[Parallel(n_jobs=5)]: Using backend LokyBackend with 5 concurrent workers.\n",
      "[Parallel(n_jobs=5)]: Done   1 out of   1 | elapsed:    0.0s finished\n",
      "[Parallel(n_jobs=5)]: Using backend LokyBackend with 5 concurrent workers.\n",
      "[Parallel(n_jobs=5)]: Done   1 out of   1 | elapsed:    0.0s finished\n",
      "[Parallel(n_jobs=5)]: Using backend LokyBackend with 5 concurrent workers.\n",
      "[Parallel(n_jobs=5)]: Done   1 out of   1 | elapsed:    0.0s finished\n",
      "[Parallel(n_jobs=5)]: Using backend LokyBackend with 5 concurrent workers.\n",
      "[Parallel(n_jobs=5)]: Done   1 out of   1 | elapsed:    0.0s finished\n"
     ]
    }
   ],
   "source": [
    "# Score using 5-fold cv on classifier trained on unscaled data\n",
    "score1 = cross_val_score(lr_classifier, trainX, trainY, cv=5, scoring='accuracy')\n",
    "score2 = cross_val_score(lr_classifier, testX, testY, cv=5, scoring='accuracy')\n",
    "\n",
    "# Score using 5-fold cv on classifier trained on scaled data\n",
    "score1b = cross_val_score(lr_c_2, SGDX, trainY, cv=5, scoring='accuracy', verbose=0)\n",
    "score2b = cross_val_score(lr_c_2, SGDX_t, testY, cv=5, scoring='accuracy', verbose=0)\n",
    "\n",
    "# Collect means of cv accuracy scores for display\n",
    "lr_means = []\n",
    "lr_means.append(np.mean(score1))\n",
    "lr_means.append(np.mean(score2))\n",
    "lr_means.append(np.mean(score1b))\n",
    "lr_means.append(np.mean(score2b))\n",
    "\n",
    "# Create dataFrames to display scores\n",
    "lr_mean = pd.DataFrame({ 'Training mean' : [lr_means[0]] , 'Test mean' : [lr_means[1]], 'Training mean (scaled)' : [lr_means[2]] , 'Test mean (scaled)' : [lr_means[3]]})\n",
    "lr_scores = pd.DataFrame({ 'Training score' : score1 , 'Test score' : score2, 'Training score (scaled)' : score1b , 'Test score (scaled)' : score2b})"
   ]
  },
  {
   "cell_type": "markdown",
   "id": "another-education",
   "metadata": {},
   "source": [
    "### Display Training/Test Scores and averages"
   ]
  },
  {
   "cell_type": "code",
   "execution_count": 499,
   "id": "dressed-finish",
   "metadata": {},
   "outputs": [
    {
     "data": {
      "text/html": [
       "<div>\n",
       "<style scoped>\n",
       "    .dataframe tbody tr th:only-of-type {\n",
       "        vertical-align: middle;\n",
       "    }\n",
       "\n",
       "    .dataframe tbody tr th {\n",
       "        vertical-align: top;\n",
       "    }\n",
       "\n",
       "    .dataframe thead th {\n",
       "        text-align: right;\n",
       "    }\n",
       "</style>\n",
       "<table border=\"1\" class=\"dataframe\">\n",
       "  <thead>\n",
       "    <tr style=\"text-align: right;\">\n",
       "      <th></th>\n",
       "      <th>Training score</th>\n",
       "      <th>Test score</th>\n",
       "      <th>Training score (scaled)</th>\n",
       "      <th>Test score (scaled)</th>\n",
       "    </tr>\n",
       "  </thead>\n",
       "  <tbody>\n",
       "    <tr>\n",
       "      <th>0</th>\n",
       "      <td>0.734694</td>\n",
       "      <td>0.307692</td>\n",
       "      <td>0.836735</td>\n",
       "      <td>0.692308</td>\n",
       "    </tr>\n",
       "    <tr>\n",
       "      <th>1</th>\n",
       "      <td>0.775510</td>\n",
       "      <td>0.666667</td>\n",
       "      <td>0.816327</td>\n",
       "      <td>0.916667</td>\n",
       "    </tr>\n",
       "    <tr>\n",
       "      <th>2</th>\n",
       "      <td>0.708333</td>\n",
       "      <td>0.833333</td>\n",
       "      <td>0.791667</td>\n",
       "      <td>0.916667</td>\n",
       "    </tr>\n",
       "    <tr>\n",
       "      <th>3</th>\n",
       "      <td>0.541667</td>\n",
       "      <td>0.666667</td>\n",
       "      <td>0.875000</td>\n",
       "      <td>0.583333</td>\n",
       "    </tr>\n",
       "    <tr>\n",
       "      <th>4</th>\n",
       "      <td>0.729167</td>\n",
       "      <td>0.750000</td>\n",
       "      <td>0.875000</td>\n",
       "      <td>0.750000</td>\n",
       "    </tr>\n",
       "  </tbody>\n",
       "</table>\n",
       "</div>"
      ],
      "text/plain": [
       "   Training score  Test score  Training score (scaled)  Test score (scaled)\n",
       "0        0.734694    0.307692                 0.836735             0.692308\n",
       "1        0.775510    0.666667                 0.816327             0.916667\n",
       "2        0.708333    0.833333                 0.791667             0.916667\n",
       "3        0.541667    0.666667                 0.875000             0.583333\n",
       "4        0.729167    0.750000                 0.875000             0.750000"
      ]
     },
     "execution_count": 499,
     "metadata": {},
     "output_type": "execute_result"
    }
   ],
   "source": [
    "lr_scores"
   ]
  },
  {
   "cell_type": "code",
   "execution_count": 500,
   "id": "fifty-question",
   "metadata": {},
   "outputs": [
    {
     "data": {
      "text/html": [
       "<div>\n",
       "<style scoped>\n",
       "    .dataframe tbody tr th:only-of-type {\n",
       "        vertical-align: middle;\n",
       "    }\n",
       "\n",
       "    .dataframe tbody tr th {\n",
       "        vertical-align: top;\n",
       "    }\n",
       "\n",
       "    .dataframe thead th {\n",
       "        text-align: right;\n",
       "    }\n",
       "</style>\n",
       "<table border=\"1\" class=\"dataframe\">\n",
       "  <thead>\n",
       "    <tr style=\"text-align: right;\">\n",
       "      <th></th>\n",
       "      <th>Training mean</th>\n",
       "      <th>Test mean</th>\n",
       "      <th>Training mean (scaled)</th>\n",
       "      <th>Test mean (scaled)</th>\n",
       "    </tr>\n",
       "  </thead>\n",
       "  <tbody>\n",
       "    <tr>\n",
       "      <th>0</th>\n",
       "      <td>0.697874</td>\n",
       "      <td>0.644872</td>\n",
       "      <td>0.838946</td>\n",
       "      <td>0.771795</td>\n",
       "    </tr>\n",
       "  </tbody>\n",
       "</table>\n",
       "</div>"
      ],
      "text/plain": [
       "   Training mean  Test mean  Training mean (scaled)  Test mean (scaled)\n",
       "0       0.697874   0.644872                0.838946            0.771795"
      ]
     },
     "execution_count": 500,
     "metadata": {},
     "output_type": "execute_result"
    }
   ],
   "source": [
    "lr_mean"
   ]
  },
  {
   "cell_type": "markdown",
   "id": "ranking-strength",
   "metadata": {},
   "source": [
    "# Confusion matrix and ROC curve"
   ]
  },
  {
   "cell_type": "code",
   "execution_count": 501,
   "id": "informative-account",
   "metadata": {
    "tags": []
   },
   "outputs": [
    {
     "name": "stderr",
     "output_type": "stream",
     "text": [
      "[Parallel(n_jobs=5)]: Using backend LokyBackend with 5 concurrent workers.\n",
      "[Parallel(n_jobs=5)]: Done   1 out of   1 | elapsed:    0.0s finished\n",
      "[Parallel(n_jobs=5)]: Using backend LokyBackend with 5 concurrent workers.\n",
      "[Parallel(n_jobs=5)]: Done   1 out of   1 | elapsed:    0.0s finished\n",
      "[Parallel(n_jobs=5)]: Using backend LokyBackend with 5 concurrent workers.\n",
      "[Parallel(n_jobs=5)]: Done   1 out of   1 | elapsed:    0.0s finished\n",
      "[Parallel(n_jobs=5)]: Using backend LokyBackend with 5 concurrent workers.\n",
      "[Parallel(n_jobs=5)]: Done   1 out of   1 | elapsed:    0.0s finished\n",
      "[Parallel(n_jobs=5)]: Using backend LokyBackend with 5 concurrent workers.\n",
      "[Parallel(n_jobs=5)]: Done   1 out of   1 | elapsed:    0.0s finished\n",
      "[Parallel(n_jobs=5)]: Using backend LokyBackend with 5 concurrent workers.\n",
      "[Parallel(n_jobs=5)]: Done   1 out of   1 | elapsed:    0.0s finished\n",
      "[Parallel(n_jobs=5)]: Using backend LokyBackend with 5 concurrent workers.\n",
      "[Parallel(n_jobs=5)]: Done   1 out of   1 | elapsed:    0.0s finished\n",
      "[Parallel(n_jobs=5)]: Using backend LokyBackend with 5 concurrent workers.\n",
      "[Parallel(n_jobs=5)]: Done   1 out of   1 | elapsed:    0.0s finished\n",
      "[Parallel(n_jobs=5)]: Using backend LokyBackend with 5 concurrent workers.\n",
      "[Parallel(n_jobs=5)]: Done   1 out of   1 | elapsed:    0.0s finished\n",
      "[Parallel(n_jobs=5)]: Using backend LokyBackend with 5 concurrent workers.\n",
      "[Parallel(n_jobs=5)]: Done   1 out of   1 | elapsed:    0.0s finished\n",
      "[Parallel(n_jobs=5)]: Using backend LokyBackend with 5 concurrent workers.\n",
      "[Parallel(n_jobs=5)]: Done   1 out of   1 | elapsed:    0.0s finished\n",
      "[Parallel(n_jobs=5)]: Using backend LokyBackend with 5 concurrent workers.\n",
      "[Parallel(n_jobs=5)]: Done   1 out of   1 | elapsed:    0.0s finished\n",
      "[Parallel(n_jobs=5)]: Using backend LokyBackend with 5 concurrent workers.\n",
      "[Parallel(n_jobs=5)]: Done   1 out of   1 | elapsed:    0.0s finished\n",
      "[Parallel(n_jobs=5)]: Using backend LokyBackend with 5 concurrent workers.\n",
      "[Parallel(n_jobs=5)]: Done   1 out of   1 | elapsed:    0.0s finished\n",
      "[Parallel(n_jobs=5)]: Using backend LokyBackend with 5 concurrent workers.\n",
      "[Parallel(n_jobs=5)]: Done   1 out of   1 | elapsed:    0.0s finished\n",
      "[Parallel(n_jobs=5)]: Using backend LokyBackend with 5 concurrent workers.\n",
      "[Parallel(n_jobs=5)]: Done   1 out of   1 | elapsed:    0.0s finished\n",
      "[Parallel(n_jobs=5)]: Using backend LokyBackend with 5 concurrent workers.\n",
      "[Parallel(n_jobs=5)]: Done   1 out of   1 | elapsed:    0.0s finished\n",
      "[Parallel(n_jobs=5)]: Using backend LokyBackend with 5 concurrent workers.\n",
      "[Parallel(n_jobs=5)]: Done   1 out of   1 | elapsed:    0.4s finished\n",
      "[Parallel(n_jobs=5)]: Using backend LokyBackend with 5 concurrent workers.\n",
      "[Parallel(n_jobs=5)]: Done   1 out of   1 | elapsed:    0.0s finished\n",
      "[Parallel(n_jobs=5)]: Using backend LokyBackend with 5 concurrent workers.\n",
      "[Parallel(n_jobs=5)]: Done   1 out of   1 | elapsed:    0.0s finished\n"
     ]
    }
   ],
   "source": [
    "# Get predictions using cross_val_predict\n",
    "lr_prd = cross_val_predict(lr_classifier, testX, testY, cv=10)\n",
    "lr_pred2 = cross_val_predict(lr_c_2, SGDX_t, testY, cv=10)\n",
    "labels = lr_classifier.classes_\n",
    "\n",
    "# compute TP, TN, FP, FN values for each classifier\n",
    "lr_cm = confusion_matrix(y_true=testY, y_pred = lr_prd, labels = labels)\n",
    "lr2_cm = confusion_matrix(y_true=testY, y_pred = lr_pred2, labels = labels)\n",
    "# compute recall, precision, f1-scores for each classifier\n",
    "lr_cr = classification_report(y_true=testY, y_pred = lr_prd, labels = labels)\n",
    "lr2_cr = classification_report(y_true=testY, y_pred = lr_pred2, labels = labels)"
   ]
  },
  {
   "cell_type": "markdown",
   "id": "typical-justice",
   "metadata": {},
   "source": [
    "#### Confusion matrix for classifier trained on unscaled data"
   ]
  },
  {
   "cell_type": "code",
   "execution_count": 502,
   "id": "academic-company",
   "metadata": {},
   "outputs": [
    {
     "data": {
      "text/html": [
       "<div>\n",
       "<style scoped>\n",
       "    .dataframe tbody tr th:only-of-type {\n",
       "        vertical-align: middle;\n",
       "    }\n",
       "\n",
       "    .dataframe tbody tr th {\n",
       "        vertical-align: top;\n",
       "    }\n",
       "\n",
       "    .dataframe thead th {\n",
       "        text-align: right;\n",
       "    }\n",
       "</style>\n",
       "<table border=\"1\" class=\"dataframe\">\n",
       "  <thead>\n",
       "    <tr style=\"text-align: right;\">\n",
       "      <th></th>\n",
       "      <th>0</th>\n",
       "      <th>1</th>\n",
       "    </tr>\n",
       "  </thead>\n",
       "  <tbody>\n",
       "    <tr>\n",
       "      <th>0</th>\n",
       "      <td>8</td>\n",
       "      <td>16</td>\n",
       "    </tr>\n",
       "    <tr>\n",
       "      <th>1</th>\n",
       "      <td>7</td>\n",
       "      <td>30</td>\n",
       "    </tr>\n",
       "  </tbody>\n",
       "</table>\n",
       "</div>"
      ],
      "text/plain": [
       "   0   1\n",
       "0  8  16\n",
       "1  7  30"
      ]
     },
     "execution_count": 502,
     "metadata": {},
     "output_type": "execute_result"
    }
   ],
   "source": [
    "pd.DataFrame(lr_cm, index=labels, columns=labels)"
   ]
  },
  {
   "cell_type": "markdown",
   "id": "supported-buyer",
   "metadata": {},
   "source": [
    "#### Classification report for classifier trained on unscaled data"
   ]
  },
  {
   "cell_type": "code",
   "execution_count": 503,
   "id": "thick-beverage",
   "metadata": {},
   "outputs": [
    {
     "name": "stdout",
     "output_type": "stream",
     "text": [
      "              precision    recall  f1-score   support\n",
      "\n",
      "           0       0.53      0.33      0.41        24\n",
      "           1       0.65      0.81      0.72        37\n",
      "\n",
      "    accuracy                           0.62        61\n",
      "   macro avg       0.59      0.57      0.57        61\n",
      "weighted avg       0.61      0.62      0.60        61\n",
      "\n"
     ]
    }
   ],
   "source": [
    "print(lr_cr)"
   ]
  },
  {
   "cell_type": "markdown",
   "id": "expected-vitamin",
   "metadata": {},
   "source": [
    "#### Confusion matrix for classifier trained on scaled data"
   ]
  },
  {
   "cell_type": "code",
   "execution_count": 504,
   "id": "overall-terror",
   "metadata": {},
   "outputs": [
    {
     "data": {
      "text/html": [
       "<div>\n",
       "<style scoped>\n",
       "    .dataframe tbody tr th:only-of-type {\n",
       "        vertical-align: middle;\n",
       "    }\n",
       "\n",
       "    .dataframe tbody tr th {\n",
       "        vertical-align: top;\n",
       "    }\n",
       "\n",
       "    .dataframe thead th {\n",
       "        text-align: right;\n",
       "    }\n",
       "</style>\n",
       "<table border=\"1\" class=\"dataframe\">\n",
       "  <thead>\n",
       "    <tr style=\"text-align: right;\">\n",
       "      <th></th>\n",
       "      <th>0</th>\n",
       "      <th>1</th>\n",
       "    </tr>\n",
       "  </thead>\n",
       "  <tbody>\n",
       "    <tr>\n",
       "      <th>0</th>\n",
       "      <td>15</td>\n",
       "      <td>9</td>\n",
       "    </tr>\n",
       "    <tr>\n",
       "      <th>1</th>\n",
       "      <td>7</td>\n",
       "      <td>30</td>\n",
       "    </tr>\n",
       "  </tbody>\n",
       "</table>\n",
       "</div>"
      ],
      "text/plain": [
       "    0   1\n",
       "0  15   9\n",
       "1   7  30"
      ]
     },
     "execution_count": 504,
     "metadata": {},
     "output_type": "execute_result"
    }
   ],
   "source": [
    "pd.DataFrame(lr2_cm, index=labels, columns=labels)"
   ]
  },
  {
   "cell_type": "markdown",
   "id": "violent-india",
   "metadata": {},
   "source": [
    "#### Classification report for classifier trained on scaled data"
   ]
  },
  {
   "cell_type": "code",
   "execution_count": 505,
   "id": "herbal-liverpool",
   "metadata": {},
   "outputs": [
    {
     "name": "stdout",
     "output_type": "stream",
     "text": [
      "              precision    recall  f1-score   support\n",
      "\n",
      "           0       0.68      0.62      0.65        24\n",
      "           1       0.77      0.81      0.79        37\n",
      "\n",
      "    accuracy                           0.74        61\n",
      "   macro avg       0.73      0.72      0.72        61\n",
      "weighted avg       0.73      0.74      0.74        61\n",
      "\n"
     ]
    }
   ],
   "source": [
    "print(lr2_cr)"
   ]
  },
  {
   "cell_type": "markdown",
   "id": "hungry-clinic",
   "metadata": {},
   "source": [
    "### ROC curve for training set"
   ]
  },
  {
   "cell_type": "code",
   "execution_count": 506,
   "id": "thirty-kansas",
   "metadata": {},
   "outputs": [
    {
     "data": {
      "image/png": "[encoded data removed]",
      "text/plain": [
       "<Figure size 432x288 with 1 Axes>"
      ]
     },
     "metadata": {
      "needs_background": "light"
     },
     "output_type": "display_data"
    }
   ],
   "source": [
    "lr_classifier_disp = plot_roc_curve(lr_classifier, trainX, trainY)\n",
    "plt.show()"
   ]
  },
  {
   "cell_type": "markdown",
   "id": "nutritional-metallic",
   "metadata": {},
   "source": [
    "### ROC curve for test set"
   ]
  },
  {
   "cell_type": "code",
   "execution_count": 507,
   "id": "binding-charleston",
   "metadata": {},
   "outputs": [
    {
     "data": {
      "image/png": "[encoded data removed]",
      "text/plain": [
       "<Figure size 432x288 with 1 Axes>"
      ]
     },
     "metadata": {
      "needs_background": "light"
     },
     "output_type": "display_data"
    }
   ],
   "source": [
    "lr_classifier_disp = plot_roc_curve(lr_classifier, testX, testY)\n",
    "plt.show()"
   ]
  },
  {
   "cell_type": "markdown",
   "id": "specialized-official",
   "metadata": {},
   "source": [
    "# Train Random Forest"
   ]
  },
  {
   "cell_type": "code",
   "execution_count": 508,
   "id": "dirty-barrier",
   "metadata": {
    "tags": []
   },
   "outputs": [],
   "source": [
    "rf_classifier = RandomForestClassifier(n_estimators=100, n_jobs=5)\n",
    "rf_c =  rf_classifier.fit(trainX, trainY) # unscaled\n",
    "rf_c_2 = rf_classifier.fit(SGDX, trainY)  # scaled"
   ]
  },
  {
   "cell_type": "markdown",
   "id": "modern-jacket",
   "metadata": {},
   "source": [
    "## Test using crossval score and maybe still round or present as percent"
   ]
  },
  {
   "cell_type": "code",
   "execution_count": 509,
   "id": "urban-hierarchy",
   "metadata": {
    "colab": {
     "base_uri": "https://localhost:8080/"
    },
    "id": "TlT4h2Khv0Fl",
    "outputId": "445cbbab-afed-426d-fc3a-3b8a6bde5e34"
   },
   "outputs": [],
   "source": [
    "# Score using 5-fold cv on classifier trained on unscaled data\n",
    "score3 = cross_val_score(rf_c, trainX, trainY, cv=5, scoring='accuracy')\n",
    "score4 = cross_val_score(rf_c, testX, testY, cv=5, scoring='accuracy')\n",
    "\n",
    "# Score using 5-fold cv on classifier trained on scaled data\n",
    "score3b = cross_val_score(rf_c_2, SGDX, trainY, cv=5, scoring='accuracy')\n",
    "score4b = cross_val_score(rf_c_2, SGDX_t, testY, cv=5, scoring='accuracy')\n",
    "\n",
    "# Collect means of cv accuracy scores for display\n",
    "rf_means = []\n",
    "rf_means.append(np.mean(score3))\n",
    "rf_means.append(np.mean(score4))\n",
    "rf_means.append(np.mean(score3b))\n",
    "rf_means.append(np.mean(score4b))\n",
    "\n",
    "# Create dataFrames to display scores\n",
    "rf_mean = pd.DataFrame({ 'Training mean' : [rf_means[0]] , 'Test mean' : [rf_means[1]], 'Training mean (scaled)' : [rf_means[2]] , 'Test mean (scaled)' : [rf_means[3]]})\n",
    "rf_scores = pd.DataFrame({ 'Training score' : score3 , 'Test score' : score4, 'Training score (scaled)' : score3b , 'Test score (scaled)' : score4b})"
   ]
  },
  {
   "cell_type": "code",
   "execution_count": 510,
   "id": "czech-professor",
   "metadata": {},
   "outputs": [
    {
     "data": {
      "text/html": [
       "<div>\n",
       "<style scoped>\n",
       "    .dataframe tbody tr th:only-of-type {\n",
       "        vertical-align: middle;\n",
       "    }\n",
       "\n",
       "    .dataframe tbody tr th {\n",
       "        vertical-align: top;\n",
       "    }\n",
       "\n",
       "    .dataframe thead th {\n",
       "        text-align: right;\n",
       "    }\n",
       "</style>\n",
       "<table border=\"1\" class=\"dataframe\">\n",
       "  <thead>\n",
       "    <tr style=\"text-align: right;\">\n",
       "      <th></th>\n",
       "      <th>Training score</th>\n",
       "      <th>Test score</th>\n",
       "      <th>Training score (scaled)</th>\n",
       "      <th>Test score (scaled)</th>\n",
       "    </tr>\n",
       "  </thead>\n",
       "  <tbody>\n",
       "    <tr>\n",
       "      <th>0</th>\n",
       "      <td>0.857143</td>\n",
       "      <td>0.769231</td>\n",
       "      <td>0.816327</td>\n",
       "      <td>0.769231</td>\n",
       "    </tr>\n",
       "    <tr>\n",
       "      <th>1</th>\n",
       "      <td>0.836735</td>\n",
       "      <td>0.916667</td>\n",
       "      <td>0.836735</td>\n",
       "      <td>0.916667</td>\n",
       "    </tr>\n",
       "    <tr>\n",
       "      <th>2</th>\n",
       "      <td>0.812500</td>\n",
       "      <td>1.000000</td>\n",
       "      <td>0.812500</td>\n",
       "      <td>0.916667</td>\n",
       "    </tr>\n",
       "    <tr>\n",
       "      <th>3</th>\n",
       "      <td>0.854167</td>\n",
       "      <td>0.583333</td>\n",
       "      <td>0.791667</td>\n",
       "      <td>0.666667</td>\n",
       "    </tr>\n",
       "    <tr>\n",
       "      <th>4</th>\n",
       "      <td>0.812500</td>\n",
       "      <td>0.833333</td>\n",
       "      <td>0.895833</td>\n",
       "      <td>0.750000</td>\n",
       "    </tr>\n",
       "  </tbody>\n",
       "</table>\n",
       "</div>"
      ],
      "text/plain": [
       "   Training score  Test score  Training score (scaled)  Test score (scaled)\n",
       "0        0.857143    0.769231                 0.816327             0.769231\n",
       "1        0.836735    0.916667                 0.836735             0.916667\n",
       "2        0.812500    1.000000                 0.812500             0.916667\n",
       "3        0.854167    0.583333                 0.791667             0.666667\n",
       "4        0.812500    0.833333                 0.895833             0.750000"
      ]
     },
     "execution_count": 510,
     "metadata": {},
     "output_type": "execute_result"
    }
   ],
   "source": [
    "rf_scores"
   ]
  },
  {
   "cell_type": "code",
   "execution_count": 511,
   "id": "devoted-valentine",
   "metadata": {},
   "outputs": [
    {
     "data": {
      "text/html": [
       "<div>\n",
       "<style scoped>\n",
       "    .dataframe tbody tr th:only-of-type {\n",
       "        vertical-align: middle;\n",
       "    }\n",
       "\n",
       "    .dataframe tbody tr th {\n",
       "        vertical-align: top;\n",
       "    }\n",
       "\n",
       "    .dataframe thead th {\n",
       "        text-align: right;\n",
       "    }\n",
       "</style>\n",
       "<table border=\"1\" class=\"dataframe\">\n",
       "  <thead>\n",
       "    <tr style=\"text-align: right;\">\n",
       "      <th></th>\n",
       "      <th>Training mean</th>\n",
       "      <th>Test mean</th>\n",
       "      <th>Training mean (scaled)</th>\n",
       "      <th>Test mean (scaled)</th>\n",
       "    </tr>\n",
       "  </thead>\n",
       "  <tbody>\n",
       "    <tr>\n",
       "      <th>0</th>\n",
       "      <td>0.834609</td>\n",
       "      <td>0.820513</td>\n",
       "      <td>0.830612</td>\n",
       "      <td>0.803846</td>\n",
       "    </tr>\n",
       "  </tbody>\n",
       "</table>\n",
       "</div>"
      ],
      "text/plain": [
       "   Training mean  Test mean  Training mean (scaled)  Test mean (scaled)\n",
       "0       0.834609   0.820513                0.830612            0.803846"
      ]
     },
     "execution_count": 511,
     "metadata": {},
     "output_type": "execute_result"
    }
   ],
   "source": [
    "rf_mean"
   ]
  },
  {
   "cell_type": "markdown",
   "id": "electric-listing",
   "metadata": {},
   "source": [
    "# Confusion matrix and ROC curve"
   ]
  },
  {
   "cell_type": "code",
   "execution_count": 512,
   "id": "turned-windows",
   "metadata": {},
   "outputs": [],
   "source": [
    "# Get predictions using cross_val_predict\n",
    "rf_prd = cross_val_predict(rf_c, testX, testY, cv=10)\n",
    "rf_pred2 = cross_val_predict(rf_c_2, SGDX_t, testY, cv=10)\n",
    "labels = rf_classifier.classes_\n",
    "\n",
    "# compute TP, TN, FP, FN values for each classifier\n",
    "rf_cm = confusion_matrix(y_true=testY, y_pred = rf_prd, labels = labels)\n",
    "rf2_cm = confusion_matrix(y_true=testY, y_pred = rf_pred2, labels = labels)\n",
    "\n",
    "# compute recall, precision, f1-scores for each classifier\n",
    "rf_cr = classification_report(y_true=testY, y_pred = rf_prd, labels = labels)\n",
    "rf2_cr = classification_report(y_true=testY, y_pred = rf_pred2, labels = labels)"
   ]
  },
  {
   "cell_type": "markdown",
   "id": "contemporary-transparency",
   "metadata": {},
   "source": [
    "#### Confusion matrix for classifier trained on unscaled data"
   ]
  },
  {
   "cell_type": "code",
   "execution_count": 513,
   "id": "characteristic-costa",
   "metadata": {},
   "outputs": [
    {
     "data": {
      "text/html": [
       "<div>\n",
       "<style scoped>\n",
       "    .dataframe tbody tr th:only-of-type {\n",
       "        vertical-align: middle;\n",
       "    }\n",
       "\n",
       "    .dataframe tbody tr th {\n",
       "        vertical-align: top;\n",
       "    }\n",
       "\n",
       "    .dataframe thead th {\n",
       "        text-align: right;\n",
       "    }\n",
       "</style>\n",
       "<table border=\"1\" class=\"dataframe\">\n",
       "  <thead>\n",
       "    <tr style=\"text-align: right;\">\n",
       "      <th></th>\n",
       "      <th>0</th>\n",
       "      <th>1</th>\n",
       "    </tr>\n",
       "  </thead>\n",
       "  <tbody>\n",
       "    <tr>\n",
       "      <th>0</th>\n",
       "      <td>18</td>\n",
       "      <td>6</td>\n",
       "    </tr>\n",
       "    <tr>\n",
       "      <th>1</th>\n",
       "      <td>4</td>\n",
       "      <td>33</td>\n",
       "    </tr>\n",
       "  </tbody>\n",
       "</table>\n",
       "</div>"
      ],
      "text/plain": [
       "    0   1\n",
       "0  18   6\n",
       "1   4  33"
      ]
     },
     "execution_count": 513,
     "metadata": {},
     "output_type": "execute_result"
    }
   ],
   "source": [
    "pd.DataFrame(rf_cm, index=labels, columns=labels)"
   ]
  },
  {
   "cell_type": "markdown",
   "id": "thrown-polymer",
   "metadata": {},
   "source": [
    "#### Classification report for classifier trained on unscaled data"
   ]
  },
  {
   "cell_type": "code",
   "execution_count": 514,
   "id": "greenhouse-miniature",
   "metadata": {},
   "outputs": [
    {
     "name": "stdout",
     "output_type": "stream",
     "text": [
      "              precision    recall  f1-score   support\n",
      "\n",
      "           0       0.82      0.75      0.78        24\n",
      "           1       0.85      0.89      0.87        37\n",
      "\n",
      "    accuracy                           0.84        61\n",
      "   macro avg       0.83      0.82      0.83        61\n",
      "weighted avg       0.84      0.84      0.83        61\n",
      "\n"
     ]
    }
   ],
   "source": [
    "print(rf_cr)"
   ]
  },
  {
   "cell_type": "markdown",
   "id": "rational-perspective",
   "metadata": {},
   "source": [
    "#### Confusion matrix for classifier trained on scaled data"
   ]
  },
  {
   "cell_type": "code",
   "execution_count": 515,
   "id": "molecular-moses",
   "metadata": {},
   "outputs": [
    {
     "data": {
      "text/html": [
       "<div>\n",
       "<style scoped>\n",
       "    .dataframe tbody tr th:only-of-type {\n",
       "        vertical-align: middle;\n",
       "    }\n",
       "\n",
       "    .dataframe tbody tr th {\n",
       "        vertical-align: top;\n",
       "    }\n",
       "\n",
       "    .dataframe thead th {\n",
       "        text-align: right;\n",
       "    }\n",
       "</style>\n",
       "<table border=\"1\" class=\"dataframe\">\n",
       "  <thead>\n",
       "    <tr style=\"text-align: right;\">\n",
       "      <th></th>\n",
       "      <th>0</th>\n",
       "      <th>1</th>\n",
       "    </tr>\n",
       "  </thead>\n",
       "  <tbody>\n",
       "    <tr>\n",
       "      <th>0</th>\n",
       "      <td>18</td>\n",
       "      <td>6</td>\n",
       "    </tr>\n",
       "    <tr>\n",
       "      <th>1</th>\n",
       "      <td>4</td>\n",
       "      <td>33</td>\n",
       "    </tr>\n",
       "  </tbody>\n",
       "</table>\n",
       "</div>"
      ],
      "text/plain": [
       "    0   1\n",
       "0  18   6\n",
       "1   4  33"
      ]
     },
     "execution_count": 515,
     "metadata": {},
     "output_type": "execute_result"
    }
   ],
   "source": [
    "pd.DataFrame(rf2_cm, index=labels, columns=labels)"
   ]
  },
  {
   "cell_type": "markdown",
   "id": "wound-delaware",
   "metadata": {},
   "source": [
    "#### Classification report for classifier trained on scaled data"
   ]
  },
  {
   "cell_type": "code",
   "execution_count": 516,
   "id": "acute-violin",
   "metadata": {},
   "outputs": [
    {
     "name": "stdout",
     "output_type": "stream",
     "text": [
      "              precision    recall  f1-score   support\n",
      "\n",
      "           0       0.82      0.75      0.78        24\n",
      "           1       0.85      0.89      0.87        37\n",
      "\n",
      "    accuracy                           0.84        61\n",
      "   macro avg       0.83      0.82      0.83        61\n",
      "weighted avg       0.84      0.84      0.83        61\n",
      "\n"
     ]
    }
   ],
   "source": [
    "print(rf2_cr)"
   ]
  },
  {
   "cell_type": "markdown",
   "id": "approved-sword",
   "metadata": {},
   "source": [
    "### ROC curve for training set"
   ]
  },
  {
   "cell_type": "code",
   "execution_count": 517,
   "id": "wired-italy",
   "metadata": {},
   "outputs": [
    {
     "data": {
      "image/png": "[encoded data removed]",
      "text/plain": [
       "<Figure size 432x288 with 1 Axes>"
      ]
     },
     "metadata": {
      "needs_background": "light"
     },
     "output_type": "display_data"
    }
   ],
   "source": [
    "rf_classifier_disp = plot_roc_curve(rf_classifier, trainX, trainY)\n",
    "plt.show()"
   ]
  },
  {
   "cell_type": "markdown",
   "id": "cognitive-saint",
   "metadata": {},
   "source": [
    "### ROC curve for test set"
   ]
  },
  {
   "cell_type": "code",
   "execution_count": 518,
   "id": "buried-warning",
   "metadata": {},
   "outputs": [
    {
     "data": {
      "image/png": "[encoded data removed]",
      "text/plain": [
       "<Figure size 432x288 with 1 Axes>"
      ]
     },
     "metadata": {
      "needs_background": "light"
     },
     "output_type": "display_data"
    }
   ],
   "source": [
    "rf_classifier_disp = plot_roc_curve(rf_classifier, testX, testY)\n",
    "plt.show()"
   ]
  },
  {
   "cell_type": "markdown",
   "id": "balanced-delta",
   "metadata": {},
   "source": [
    "# Train SGD Classifier   "
   ]
  },
  {
   "cell_type": "code",
   "execution_count": 519,
   "id": "harmful-somerset",
   "metadata": {},
   "outputs": [],
   "source": [
    "sgd_classifier = SGDClassifier(max_iter=1000, tol=1e-3, \n",
    "                        random_state=42).fit(trainX, trainY) \n",
    "\n",
    "sgd_2 = SGDClassifier(max_iter=1000, tol=1e-3, \n",
    "                        random_state=42).fit(SGDX, trainY)"
   ]
  },
  {
   "cell_type": "markdown",
   "id": "tired-museum",
   "metadata": {},
   "source": [
    "## Test using crossval score and maybe still round or present as percent"
   ]
  },
  {
   "cell_type": "code",
   "execution_count": 520,
   "id": "extraordinary-person",
   "metadata": {},
   "outputs": [],
   "source": [
    "# Score using 5-fold cv on classifier trained on unscaled data\n",
    "score5 = cross_val_score(sgd_classifier, trainX, trainY, cv=5, scoring='accuracy')\n",
    "score6 = cross_val_score(sgd_classifier, testX, testY, cv=5, scoring='accuracy')\n",
    "\n",
    "# Score using 5-fold cv on classifier trained on scaled data\n",
    "score5b = cross_val_score(sgd_2, SGDX, trainY, cv=5, scoring='accuracy')\n",
    "score6b = cross_val_score(sgd_2, SGDX_t, testY, cv=5, scoring='accuracy')\n",
    "\n",
    "# Collect means of cv accuracy scores for display\n",
    "sgd_means = []\n",
    "sgd_means.append(np.mean(score5))\n",
    "sgd_means.append(np.mean(score6))\n",
    "sgd_means.append(np.mean(score5b))\n",
    "sgd_means.append(np.mean(score6b))\n",
    "\n",
    "# Create dataFrames to display scores\n",
    "sgd_scores = pd.DataFrame({ 'Training score' : score5 , 'Test score' : score6, 'Training score (scaled)' : score5b , 'Test score (scaled)' : score6b})\n",
    "sgd_mean = pd.DataFrame({ 'Training mean' : [sgd_means[0]] , 'Test mean' : [sgd_means[1]], 'Training mean (scaled)' : [sgd_means[2]] , 'Test mean (scaled)' : [sgd_means[3]]})"
   ]
  },
  {
   "cell_type": "code",
   "execution_count": 521,
   "id": "chinese-panic",
   "metadata": {},
   "outputs": [
    {
     "data": {
      "text/html": [
       "<div>\n",
       "<style scoped>\n",
       "    .dataframe tbody tr th:only-of-type {\n",
       "        vertical-align: middle;\n",
       "    }\n",
       "\n",
       "    .dataframe tbody tr th {\n",
       "        vertical-align: top;\n",
       "    }\n",
       "\n",
       "    .dataframe thead th {\n",
       "        text-align: right;\n",
       "    }\n",
       "</style>\n",
       "<table border=\"1\" class=\"dataframe\">\n",
       "  <thead>\n",
       "    <tr style=\"text-align: right;\">\n",
       "      <th></th>\n",
       "      <th>Training score</th>\n",
       "      <th>Test score</th>\n",
       "      <th>Training score (scaled)</th>\n",
       "      <th>Test score (scaled)</th>\n",
       "    </tr>\n",
       "  </thead>\n",
       "  <tbody>\n",
       "    <tr>\n",
       "      <th>0</th>\n",
       "      <td>0.612245</td>\n",
       "      <td>0.538462</td>\n",
       "      <td>0.775510</td>\n",
       "      <td>0.692308</td>\n",
       "    </tr>\n",
       "    <tr>\n",
       "      <th>1</th>\n",
       "      <td>0.775510</td>\n",
       "      <td>0.666667</td>\n",
       "      <td>0.816327</td>\n",
       "      <td>0.916667</td>\n",
       "    </tr>\n",
       "    <tr>\n",
       "      <th>2</th>\n",
       "      <td>0.708333</td>\n",
       "      <td>0.583333</td>\n",
       "      <td>0.791667</td>\n",
       "      <td>0.916667</td>\n",
       "    </tr>\n",
       "    <tr>\n",
       "      <th>3</th>\n",
       "      <td>0.583333</td>\n",
       "      <td>0.583333</td>\n",
       "      <td>0.791667</td>\n",
       "      <td>0.500000</td>\n",
       "    </tr>\n",
       "    <tr>\n",
       "      <th>4</th>\n",
       "      <td>0.520833</td>\n",
       "      <td>0.666667</td>\n",
       "      <td>0.854167</td>\n",
       "      <td>0.583333</td>\n",
       "    </tr>\n",
       "  </tbody>\n",
       "</table>\n",
       "</div>"
      ],
      "text/plain": [
       "   Training score  Test score  Training score (scaled)  Test score (scaled)\n",
       "0        0.612245    0.538462                 0.775510             0.692308\n",
       "1        0.775510    0.666667                 0.816327             0.916667\n",
       "2        0.708333    0.583333                 0.791667             0.916667\n",
       "3        0.583333    0.583333                 0.791667             0.500000\n",
       "4        0.520833    0.666667                 0.854167             0.583333"
      ]
     },
     "execution_count": 521,
     "metadata": {},
     "output_type": "execute_result"
    }
   ],
   "source": [
    "sgd_scores"
   ]
  },
  {
   "cell_type": "code",
   "execution_count": 522,
   "id": "right-department",
   "metadata": {},
   "outputs": [
    {
     "data": {
      "text/html": [
       "<div>\n",
       "<style scoped>\n",
       "    .dataframe tbody tr th:only-of-type {\n",
       "        vertical-align: middle;\n",
       "    }\n",
       "\n",
       "    .dataframe tbody tr th {\n",
       "        vertical-align: top;\n",
       "    }\n",
       "\n",
       "    .dataframe thead th {\n",
       "        text-align: right;\n",
       "    }\n",
       "</style>\n",
       "<table border=\"1\" class=\"dataframe\">\n",
       "  <thead>\n",
       "    <tr style=\"text-align: right;\">\n",
       "      <th></th>\n",
       "      <th>Training mean</th>\n",
       "      <th>Test mean</th>\n",
       "      <th>Training mean (scaled)</th>\n",
       "      <th>Test mean (scaled)</th>\n",
       "    </tr>\n",
       "  </thead>\n",
       "  <tbody>\n",
       "    <tr>\n",
       "      <th>0</th>\n",
       "      <td>0.640051</td>\n",
       "      <td>0.607692</td>\n",
       "      <td>0.805867</td>\n",
       "      <td>0.721795</td>\n",
       "    </tr>\n",
       "  </tbody>\n",
       "</table>\n",
       "</div>"
      ],
      "text/plain": [
       "   Training mean  Test mean  Training mean (scaled)  Test mean (scaled)\n",
       "0       0.640051   0.607692                0.805867            0.721795"
      ]
     },
     "execution_count": 522,
     "metadata": {},
     "output_type": "execute_result"
    }
   ],
   "source": [
    "sgd_mean"
   ]
  },
  {
   "cell_type": "markdown",
   "id": "indirect-unknown",
   "metadata": {},
   "source": [
    "## Confusion matrix and ROC curve"
   ]
  },
  {
   "cell_type": "code",
   "execution_count": 523,
   "id": "ready-maldives",
   "metadata": {},
   "outputs": [],
   "source": [
    "# Get predictions using cross_val_predict\n",
    "sgd_prd = cross_val_predict(sgd_classifier, testX, testY, cv=10)\n",
    "sgd_prd2 = cross_val_predict(sgd_classifier, SGDX_t, testY, cv=10)\n",
    "labels = sgd_classifier.classes_\n",
    "\n",
    "# compute TP, TN, FP, FN values for each classifier\n",
    "sgd_cm = confusion_matrix(y_true=testY, y_pred = sgd_prd, labels = labels)\n",
    "sgd_cr = classification_report(y_true=testY, y_pred = sgd_prd, labels = labels)\n",
    "\n",
    "# compute recall, precision, f1-scores for each classifier\n",
    "sgd2_cm = confusion_matrix(y_true=testY, y_pred = sgd_prd2, labels = labels)\n",
    "sgd2_cr = classification_report(y_true=testY, y_pred = sgd_prd2, labels = labels)"
   ]
  },
  {
   "cell_type": "markdown",
   "id": "removed-omega",
   "metadata": {},
   "source": [
    "#### Confusion matrix for classifier trained on unscaled data"
   ]
  },
  {
   "cell_type": "code",
   "execution_count": 524,
   "id": "perceived-smooth",
   "metadata": {},
   "outputs": [
    {
     "data": {
      "text/html": [
       "<div>\n",
       "<style scoped>\n",
       "    .dataframe tbody tr th:only-of-type {\n",
       "        vertical-align: middle;\n",
       "    }\n",
       "\n",
       "    .dataframe tbody tr th {\n",
       "        vertical-align: top;\n",
       "    }\n",
       "\n",
       "    .dataframe thead th {\n",
       "        text-align: right;\n",
       "    }\n",
       "</style>\n",
       "<table border=\"1\" class=\"dataframe\">\n",
       "  <thead>\n",
       "    <tr style=\"text-align: right;\">\n",
       "      <th></th>\n",
       "      <th>0</th>\n",
       "      <th>1</th>\n",
       "    </tr>\n",
       "  </thead>\n",
       "  <tbody>\n",
       "    <tr>\n",
       "      <th>0</th>\n",
       "      <td>10</td>\n",
       "      <td>14</td>\n",
       "    </tr>\n",
       "    <tr>\n",
       "      <th>1</th>\n",
       "      <td>9</td>\n",
       "      <td>28</td>\n",
       "    </tr>\n",
       "  </tbody>\n",
       "</table>\n",
       "</div>"
      ],
      "text/plain": [
       "    0   1\n",
       "0  10  14\n",
       "1   9  28"
      ]
     },
     "execution_count": 524,
     "metadata": {},
     "output_type": "execute_result"
    }
   ],
   "source": [
    "# print confusion matrix\n",
    "pd.DataFrame(sgd_cm, index=labels, columns=labels)"
   ]
  },
  {
   "cell_type": "markdown",
   "id": "equal-dispute",
   "metadata": {},
   "source": [
    "#### Classification report for classifier trained on unscaled data"
   ]
  },
  {
   "cell_type": "code",
   "execution_count": 525,
   "id": "stable-kuwait",
   "metadata": {},
   "outputs": [
    {
     "name": "stdout",
     "output_type": "stream",
     "text": [
      "              precision    recall  f1-score   support\n",
      "\n",
      "           0       0.53      0.42      0.47        24\n",
      "           1       0.67      0.76      0.71        37\n",
      "\n",
      "    accuracy                           0.62        61\n",
      "   macro avg       0.60      0.59      0.59        61\n",
      "weighted avg       0.61      0.62      0.61        61\n",
      "\n"
     ]
    }
   ],
   "source": [
    "print(sgd_cr)"
   ]
  },
  {
   "cell_type": "markdown",
   "id": "opened-fault",
   "metadata": {},
   "source": [
    "#### Confusion matrix for classifier trained on scaled data"
   ]
  },
  {
   "cell_type": "code",
   "execution_count": 526,
   "id": "italian-checklist",
   "metadata": {},
   "outputs": [
    {
     "data": {
      "text/html": [
       "<div>\n",
       "<style scoped>\n",
       "    .dataframe tbody tr th:only-of-type {\n",
       "        vertical-align: middle;\n",
       "    }\n",
       "\n",
       "    .dataframe tbody tr th {\n",
       "        vertical-align: top;\n",
       "    }\n",
       "\n",
       "    .dataframe thead th {\n",
       "        text-align: right;\n",
       "    }\n",
       "</style>\n",
       "<table border=\"1\" class=\"dataframe\">\n",
       "  <thead>\n",
       "    <tr style=\"text-align: right;\">\n",
       "      <th></th>\n",
       "      <th>0</th>\n",
       "      <th>1</th>\n",
       "    </tr>\n",
       "  </thead>\n",
       "  <tbody>\n",
       "    <tr>\n",
       "      <th>0</th>\n",
       "      <td>15</td>\n",
       "      <td>9</td>\n",
       "    </tr>\n",
       "    <tr>\n",
       "      <th>1</th>\n",
       "      <td>6</td>\n",
       "      <td>31</td>\n",
       "    </tr>\n",
       "  </tbody>\n",
       "</table>\n",
       "</div>"
      ],
      "text/plain": [
       "    0   1\n",
       "0  15   9\n",
       "1   6  31"
      ]
     },
     "execution_count": 526,
     "metadata": {},
     "output_type": "execute_result"
    }
   ],
   "source": [
    "pd.DataFrame(sgd2_cm, index=labels, columns=labels)"
   ]
  },
  {
   "cell_type": "markdown",
   "id": "sustained-transaction",
   "metadata": {},
   "source": [
    "#### Classification report for classifier trained on scaled data"
   ]
  },
  {
   "cell_type": "code",
   "execution_count": 527,
   "id": "figured-plumbing",
   "metadata": {},
   "outputs": [
    {
     "name": "stdout",
     "output_type": "stream",
     "text": [
      "              precision    recall  f1-score   support\n",
      "\n",
      "           0       0.71      0.62      0.67        24\n",
      "           1       0.78      0.84      0.81        37\n",
      "\n",
      "    accuracy                           0.75        61\n",
      "   macro avg       0.74      0.73      0.74        61\n",
      "weighted avg       0.75      0.75      0.75        61\n",
      "\n"
     ]
    }
   ],
   "source": [
    "print(sgd2_cr)"
   ]
  },
  {
   "cell_type": "markdown",
   "id": "animated-astronomy",
   "metadata": {},
   "source": [
    "### ROC curve for training set"
   ]
  },
  {
   "cell_type": "code",
   "execution_count": 528,
   "id": "copyrighted-interpretation",
   "metadata": {},
   "outputs": [
    {
     "data": {
      "image/png": "[encoded data removed]",
      "text/plain": [
       "<Figure size 432x288 with 1 Axes>"
      ]
     },
     "metadata": {
      "needs_background": "light"
     },
     "output_type": "display_data"
    }
   ],
   "source": [
    "sgd_classifier_disp = plot_roc_curve(sgd_classifier, trainX, trainY)\n",
    "plt.show()"
   ]
  },
  {
   "cell_type": "markdown",
   "id": "rough-brooks",
   "metadata": {},
   "source": [
    "### ROC curve for test set"
   ]
  },
  {
   "cell_type": "code",
   "execution_count": 529,
   "id": "ignored-accused",
   "metadata": {},
   "outputs": [
    {
     "data": {
      "image/png": "[encoded data removed]",
      "text/plain": [
       "<Figure size 432x288 with 1 Axes>"
      ]
     },
     "metadata": {
      "needs_background": "light"
     },
     "output_type": "display_data"
    }
   ],
   "source": [
    "sgd_classifier_disp = plot_roc_curve(sgd_classifier, testX, testY)\n",
    "plt.show()"
   ]
  },
  {
   "cell_type": "markdown",
   "id": "virtual-flour",
   "metadata": {},
   "source": [
    "# 6. Plot the obtained training and testing accuracies for all 3 models in one graph "
   ]
  },
  {
   "cell_type": "code",
   "execution_count": 530,
   "id": "medieval-configuration",
   "metadata": {},
   "outputs": [
    {
     "data": {
      "image/png": "[encoded data removed]",
      "text/plain": [
       "<Figure size 432x288 with 1 Axes>"
      ]
     },
     "metadata": {
      "needs_background": "light"
     },
     "output_type": "display_data"
    }
   ],
   "source": [
    "labels = ['Logistic Regressor \\n(multiregession)', 'Random Forest', 'SGD Classifier']\n",
    "training_scores = [lr_means[0], rf_means[0], sgd_means[0]]\n",
    "testing_scores =  [lr_means[1], rf_means[1], sgd_means[1]]\n",
    "\n",
    "x = np.arange(len(labels))  # the label locations\n",
    "width = 0.35  # the width of the bars\n",
    "\n",
    "fig, ax = plt.subplots()\n",
    "rects1 = ax.bar(x - width/2, training_scores, width, label='Training', color='firebrick')\n",
    "rects2 = ax.bar(x + width/2, testing_scores, width, label='Testing', color='lightslategray')\n",
    "\n",
    "# Add some text for labels, title and custom x-axis tick labels, etc.\n",
    "ax.set_ylabel('Model Accuracy')\n",
    "ax.set_xticks(x)\n",
    "ax.set_ylim(0,1)\n",
    "ax.set_xticklabels(labels)\n",
    "ax.legend(bbox_to_anchor = (1.3, 1.0), loc='upper right')\n",
    "\n",
    "plt.title('Model Comparisons: Mean Accuracy cv=5')\n",
    "plt.show()"
   ]
  },
  {
   "cell_type": "markdown",
   "id": "empirical-degree",
   "metadata": {},
   "source": [
    "# 7. Verify whether or not scaling the data helps improve model accuracies."
   ]
  },
  {
   "cell_type": "markdown",
   "id": "japanese-symbol",
   "metadata": {},
   "source": [
    "### The confusion matrices for each model in this notebook have shown improvement from the model trained on unscaled data to the model trained onthe scaled data, except for the regression forest, which was unaffected.  \n",
    "\n",
    "### The first graph below shows the accuracy scores as above but for the models trained on scaled data.  The second graph shows all 6 models, both models of each type plotted next to each other to make the improvement with scaling clearer."
   ]
  },
  {
   "cell_type": "code",
   "execution_count": 531,
   "id": "latest-moral",
   "metadata": {},
   "outputs": [
    {
     "data": {
      "image/png": "[encoded data removed]",
      "text/plain": [
       "<Figure size 432x288 with 1 Axes>"
      ]
     },
     "metadata": {
      "needs_background": "light"
     },
     "output_type": "display_data"
    }
   ],
   "source": [
    "labels = ['Logistic Regressor \\n(multiregession)', 'Random Forest', 'SGD Classifier']\n",
    "training_scores = [lr_means[2], rf_means[2], sgd_means[2]]\n",
    "testing_scores =  [lr_means[3], rf_means[3], sgd_means[3]]\n",
    "\n",
    "x = np.arange(len(labels))  # the label locations\n",
    "width = 0.35  # the width of the bars\n",
    "\n",
    "fig, ax = plt.subplots()\n",
    "rects1 = ax.bar(x - width/2, training_scores, width, label='Training', color='firebrick')\n",
    "rects2 = ax.bar(x + width/2, testing_scores, width, label='Testing', color='lightslategray')\n",
    "\n",
    "# Add some text for labels, title and custom x-axis tick labels, etc.\n",
    "ax.set_ylabel('Model Accuracy')\n",
    "ax.set_xticks(x)\n",
    "ax.set_ylim(0,1)\n",
    "ax.set_xticklabels(labels)\n",
    "ax.legend(bbox_to_anchor = (1.3, 1.0), loc='upper right')\n",
    "\n",
    "plt.title('Model Comparisons: Mean Accuracy cv=5')\n",
    "plt.show()"
   ]
  },
  {
   "cell_type": "code",
   "execution_count": 532,
   "id": "dying-perspective",
   "metadata": {},
   "outputs": [
    {
     "data": {
      "image/png": "[encoded data removed]",
      "text/plain": [
       "<Figure size 432x288 with 1 Axes>"
      ]
     },
     "metadata": {
      "needs_background": "light"
     },
     "output_type": "display_data"
    }
   ],
   "source": [
    "labels = ['Logistic \\nRegressor \\n', 'LR \\n(Standard \\nScaler)',  'Random \\nForest', 'Random \\nForest \\n (Standard \\nScalar)', 'SGD\\n Classifier', 'SGD Classifier\\n(Standard \\nScaler)']\n",
    "training_scores = [lr_means[0], lr_means[2], rf_means[0], rf_means[2], sgd_means[0], sgd_means[2]]\n",
    "testing_scores =  [lr_means[1], lr_means[3], rf_means[1], rf_means[3], sgd_means[1], sgd_means[3]]\n",
    "\n",
    "x = np.arange(len(labels))  # the label locations\n",
    "width = 0.35  # the width of the bars\n",
    "\n",
    "fig, ax = plt.subplots()\n",
    "rects1 = ax.bar(x - width/2, training_scores, width, label='Training', color='firebrick')\n",
    "rects2 = ax.bar(x + width/2, testing_scores, width, label='Testing', color='lightslategrey')\n",
    "\n",
    "# Add some text for labels, title and custom x-axis tick labels, etc.\n",
    "ax.set_ylabel('Model Accuracy')\n",
    "ax.set_xticks(x)\n",
    "ax.set_ylim(0,1)\n",
    "ax.set_xticklabels(labels)\n",
    "ax.legend(bbox_to_anchor = (1.3, 1.0), loc='upper right')\n",
    "\n",
    "plt.title('Model Comparisons: Mean Accuracy cv=5')\n",
    "plt.show()"
   ]
  },
  {
   "cell_type": "markdown",
   "id": "proud-composer",
   "metadata": {},
   "source": [
    "# 8. Summary of Findings"
   ]
  },
  {
   "cell_type": "markdown",
   "id": "figured-flooring",
   "metadata": {},
   "source": [
    "### The most consistent model was the Random Forest, which was the best model before and after scaling.  Scaling the data led to serious improvement in the performance of the LR and SGD classifiers but left the Random Forest classifier's performance unchanged.  The logistic regression classifier moderately outperformed the SGD before and after scaling.  The best performing model, the Random Forest Regressor, had accuracy of 84%."
   ]
  },
  {
   "cell_type": "markdown",
   "id": "severe-winning",
   "metadata": {},
   "source": [
    "### A problem I had at first was that the test accuracy was higher than the training accuracy.  After some searching online I came to the conclusion that the small size of the dataset made it prone to the problem of sampling bias.  For the 80-20 splits, there were only 61 instances in the test set!  That made it more likely that  the distributions of the splits could be responsible for strange results.  For the submission I found splits that did not do better on the test set than the training set.  "
   ]
  }
 ],
 "metadata": {
  "kernelspec": {
   "display_name": "aml",
   "language": "python",
   "name": "aml"
  },
  "language_info": {
   "codemirror_mode": {
    "name": "ipython",
    "version": 3
   },
   "file_extension": ".py",
   "mimetype": "text/x-python",
   "name": "python",
   "nbconvert_exporter": "python",
   "pygments_lexer": "ipython3",
   "version": "3.6.5"
  }
 },
 "nbformat": 4,
 "nbformat_minor": 5
}
