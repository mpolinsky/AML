{
 "cells": [
  {
   "cell_type": "markdown",
   "id": "competent-selling",
   "metadata": {},
   "source": [
    "#### Author: Michael Polinsky"
   ]
  },
  {
   "cell_type": "markdown",
   "id": "coupled-behavior",
   "metadata": {},
   "source": [
    "# Project 2: Epicurious Recipe Data, PCA, and Logistic Regression"
   ]
  },
  {
   "cell_type": "markdown",
   "id": "desperate-zimbabwe",
   "metadata": {},
   "source": [
    "#### Imports"
   ]
  },
  {
   "cell_type": "code",
   "execution_count": 926,
   "id": "integrated-beverage",
   "metadata": {},
   "outputs": [],
   "source": [
    "import matplotlib.pyplot as plt\n",
    "import pandas as pd\n",
    "import numpy as np\n",
    "import seaborn as sbn\n",
    "import scipy as sp\n",
    "from sklearn.model_selection import train_test_split\n",
    "from sklearn.preprocessing import StandardScaler, MinMaxScaler, MaxAbsScaler\n",
    "from sklearn.decomposition import PCA\n",
    "from sklearn.metrics import matthews_corrcoef as matts_c\n",
    "from sklearn.linear_model import LogisticRegression\n",
    "from sklearn.metrics import confusion_matrix, precision_score, recall_score"
   ]
  },
  {
   "cell_type": "markdown",
   "id": "blessed-trout",
   "metadata": {},
   "source": [
    "## Load Data"
   ]
  },
  {
   "cell_type": "code",
   "execution_count": 927,
   "id": "changing-crash",
   "metadata": {},
   "outputs": [],
   "source": [
    "all_data = pd.read_csv('epi_r.csv')"
   ]
  },
  {
   "cell_type": "markdown",
   "id": "enormous-wildlife",
   "metadata": {},
   "source": [
    "## Describe data"
   ]
  },
  {
   "cell_type": "code",
   "execution_count": 928,
   "id": "valued-month",
   "metadata": {},
   "outputs": [
    {
     "data": {
      "text/html": [
       "<div>\n",
       "<style scoped>\n",
       "    .dataframe tbody tr th:only-of-type {\n",
       "        vertical-align: middle;\n",
       "    }\n",
       "\n",
       "    .dataframe tbody tr th {\n",
       "        vertical-align: top;\n",
       "    }\n",
       "\n",
       "    .dataframe thead th {\n",
       "        text-align: right;\n",
       "    }\n",
       "</style>\n",
       "<table border=\"1\" class=\"dataframe\">\n",
       "  <thead>\n",
       "    <tr style=\"text-align: right;\">\n",
       "      <th></th>\n",
       "      <th>rating</th>\n",
       "      <th>calories</th>\n",
       "      <th>protein</th>\n",
       "      <th>fat</th>\n",
       "      <th>sodium</th>\n",
       "      <th>#cakeweek</th>\n",
       "      <th>#wasteless</th>\n",
       "      <th>22-minute meals</th>\n",
       "      <th>3-ingredient recipes</th>\n",
       "      <th>30 days of groceries</th>\n",
       "      <th>...</th>\n",
       "      <th>yellow squash</th>\n",
       "      <th>yogurt</th>\n",
       "      <th>yonkers</th>\n",
       "      <th>yuca</th>\n",
       "      <th>zucchini</th>\n",
       "      <th>cookbooks</th>\n",
       "      <th>leftovers</th>\n",
       "      <th>snack</th>\n",
       "      <th>snack week</th>\n",
       "      <th>turkey</th>\n",
       "    </tr>\n",
       "  </thead>\n",
       "  <tbody>\n",
       "    <tr>\n",
       "      <th>count</th>\n",
       "      <td>20052.000000</td>\n",
       "      <td>1.593500e+04</td>\n",
       "      <td>15890.000000</td>\n",
       "      <td>1.586900e+04</td>\n",
       "      <td>1.593300e+04</td>\n",
       "      <td>20052.000000</td>\n",
       "      <td>20052.000000</td>\n",
       "      <td>20052.000000</td>\n",
       "      <td>20052.000000</td>\n",
       "      <td>20052.000000</td>\n",
       "      <td>...</td>\n",
       "      <td>20052.000000</td>\n",
       "      <td>20052.000000</td>\n",
       "      <td>20052.000000</td>\n",
       "      <td>20052.000000</td>\n",
       "      <td>20052.000000</td>\n",
       "      <td>20052.000000</td>\n",
       "      <td>20052.000000</td>\n",
       "      <td>20052.000000</td>\n",
       "      <td>20052.000000</td>\n",
       "      <td>20052.000000</td>\n",
       "    </tr>\n",
       "    <tr>\n",
       "      <th>mean</th>\n",
       "      <td>3.714467</td>\n",
       "      <td>6.322958e+03</td>\n",
       "      <td>100.160793</td>\n",
       "      <td>3.468775e+02</td>\n",
       "      <td>6.225975e+03</td>\n",
       "      <td>0.000299</td>\n",
       "      <td>0.000050</td>\n",
       "      <td>0.000848</td>\n",
       "      <td>0.001346</td>\n",
       "      <td>0.000349</td>\n",
       "      <td>...</td>\n",
       "      <td>0.001247</td>\n",
       "      <td>0.026332</td>\n",
       "      <td>0.000050</td>\n",
       "      <td>0.000299</td>\n",
       "      <td>0.014861</td>\n",
       "      <td>0.000150</td>\n",
       "      <td>0.000349</td>\n",
       "      <td>0.001396</td>\n",
       "      <td>0.000948</td>\n",
       "      <td>0.022741</td>\n",
       "    </tr>\n",
       "    <tr>\n",
       "      <th>std</th>\n",
       "      <td>1.340829</td>\n",
       "      <td>3.590460e+05</td>\n",
       "      <td>3840.318527</td>\n",
       "      <td>2.045611e+04</td>\n",
       "      <td>3.333182e+05</td>\n",
       "      <td>0.017296</td>\n",
       "      <td>0.007062</td>\n",
       "      <td>0.029105</td>\n",
       "      <td>0.036671</td>\n",
       "      <td>0.018681</td>\n",
       "      <td>...</td>\n",
       "      <td>0.035288</td>\n",
       "      <td>0.160123</td>\n",
       "      <td>0.007062</td>\n",
       "      <td>0.017296</td>\n",
       "      <td>0.121001</td>\n",
       "      <td>0.012231</td>\n",
       "      <td>0.018681</td>\n",
       "      <td>0.037343</td>\n",
       "      <td>0.030768</td>\n",
       "      <td>0.149080</td>\n",
       "    </tr>\n",
       "    <tr>\n",
       "      <th>min</th>\n",
       "      <td>0.000000</td>\n",
       "      <td>0.000000e+00</td>\n",
       "      <td>0.000000</td>\n",
       "      <td>0.000000e+00</td>\n",
       "      <td>0.000000e+00</td>\n",
       "      <td>0.000000</td>\n",
       "      <td>0.000000</td>\n",
       "      <td>0.000000</td>\n",
       "      <td>0.000000</td>\n",
       "      <td>0.000000</td>\n",
       "      <td>...</td>\n",
       "      <td>0.000000</td>\n",
       "      <td>0.000000</td>\n",
       "      <td>0.000000</td>\n",
       "      <td>0.000000</td>\n",
       "      <td>0.000000</td>\n",
       "      <td>0.000000</td>\n",
       "      <td>0.000000</td>\n",
       "      <td>0.000000</td>\n",
       "      <td>0.000000</td>\n",
       "      <td>0.000000</td>\n",
       "    </tr>\n",
       "    <tr>\n",
       "      <th>25%</th>\n",
       "      <td>3.750000</td>\n",
       "      <td>1.980000e+02</td>\n",
       "      <td>3.000000</td>\n",
       "      <td>7.000000e+00</td>\n",
       "      <td>8.000000e+01</td>\n",
       "      <td>0.000000</td>\n",
       "      <td>0.000000</td>\n",
       "      <td>0.000000</td>\n",
       "      <td>0.000000</td>\n",
       "      <td>0.000000</td>\n",
       "      <td>...</td>\n",
       "      <td>0.000000</td>\n",
       "      <td>0.000000</td>\n",
       "      <td>0.000000</td>\n",
       "      <td>0.000000</td>\n",
       "      <td>0.000000</td>\n",
       "      <td>0.000000</td>\n",
       "      <td>0.000000</td>\n",
       "      <td>0.000000</td>\n",
       "      <td>0.000000</td>\n",
       "      <td>0.000000</td>\n",
       "    </tr>\n",
       "    <tr>\n",
       "      <th>50%</th>\n",
       "      <td>4.375000</td>\n",
       "      <td>3.310000e+02</td>\n",
       "      <td>8.000000</td>\n",
       "      <td>1.700000e+01</td>\n",
       "      <td>2.940000e+02</td>\n",
       "      <td>0.000000</td>\n",
       "      <td>0.000000</td>\n",
       "      <td>0.000000</td>\n",
       "      <td>0.000000</td>\n",
       "      <td>0.000000</td>\n",
       "      <td>...</td>\n",
       "      <td>0.000000</td>\n",
       "      <td>0.000000</td>\n",
       "      <td>0.000000</td>\n",
       "      <td>0.000000</td>\n",
       "      <td>0.000000</td>\n",
       "      <td>0.000000</td>\n",
       "      <td>0.000000</td>\n",
       "      <td>0.000000</td>\n",
       "      <td>0.000000</td>\n",
       "      <td>0.000000</td>\n",
       "    </tr>\n",
       "    <tr>\n",
       "      <th>75%</th>\n",
       "      <td>4.375000</td>\n",
       "      <td>5.860000e+02</td>\n",
       "      <td>27.000000</td>\n",
       "      <td>3.300000e+01</td>\n",
       "      <td>7.110000e+02</td>\n",
       "      <td>0.000000</td>\n",
       "      <td>0.000000</td>\n",
       "      <td>0.000000</td>\n",
       "      <td>0.000000</td>\n",
       "      <td>0.000000</td>\n",
       "      <td>...</td>\n",
       "      <td>0.000000</td>\n",
       "      <td>0.000000</td>\n",
       "      <td>0.000000</td>\n",
       "      <td>0.000000</td>\n",
       "      <td>0.000000</td>\n",
       "      <td>0.000000</td>\n",
       "      <td>0.000000</td>\n",
       "      <td>0.000000</td>\n",
       "      <td>0.000000</td>\n",
       "      <td>0.000000</td>\n",
       "    </tr>\n",
       "    <tr>\n",
       "      <th>max</th>\n",
       "      <td>5.000000</td>\n",
       "      <td>3.011122e+07</td>\n",
       "      <td>236489.000000</td>\n",
       "      <td>1.722763e+06</td>\n",
       "      <td>2.767511e+07</td>\n",
       "      <td>1.000000</td>\n",
       "      <td>1.000000</td>\n",
       "      <td>1.000000</td>\n",
       "      <td>1.000000</td>\n",
       "      <td>1.000000</td>\n",
       "      <td>...</td>\n",
       "      <td>1.000000</td>\n",
       "      <td>1.000000</td>\n",
       "      <td>1.000000</td>\n",
       "      <td>1.000000</td>\n",
       "      <td>1.000000</td>\n",
       "      <td>1.000000</td>\n",
       "      <td>1.000000</td>\n",
       "      <td>1.000000</td>\n",
       "      <td>1.000000</td>\n",
       "      <td>1.000000</td>\n",
       "    </tr>\n",
       "  </tbody>\n",
       "</table>\n",
       "<p>8 rows × 679 columns</p>\n",
       "</div>"
      ],
      "text/plain": [
       "             rating      calories        protein           fat        sodium  \\\n",
       "count  20052.000000  1.593500e+04   15890.000000  1.586900e+04  1.593300e+04   \n",
       "mean       3.714467  6.322958e+03     100.160793  3.468775e+02  6.225975e+03   \n",
       "std        1.340829  3.590460e+05    3840.318527  2.045611e+04  3.333182e+05   \n",
       "min        0.000000  0.000000e+00       0.000000  0.000000e+00  0.000000e+00   \n",
       "25%        3.750000  1.980000e+02       3.000000  7.000000e+00  8.000000e+01   \n",
       "50%        4.375000  3.310000e+02       8.000000  1.700000e+01  2.940000e+02   \n",
       "75%        4.375000  5.860000e+02      27.000000  3.300000e+01  7.110000e+02   \n",
       "max        5.000000  3.011122e+07  236489.000000  1.722763e+06  2.767511e+07   \n",
       "\n",
       "          #cakeweek    #wasteless  22-minute meals  3-ingredient recipes  \\\n",
       "count  20052.000000  20052.000000     20052.000000          20052.000000   \n",
       "mean       0.000299      0.000050         0.000848              0.001346   \n",
       "std        0.017296      0.007062         0.029105              0.036671   \n",
       "min        0.000000      0.000000         0.000000              0.000000   \n",
       "25%        0.000000      0.000000         0.000000              0.000000   \n",
       "50%        0.000000      0.000000         0.000000              0.000000   \n",
       "75%        0.000000      0.000000         0.000000              0.000000   \n",
       "max        1.000000      1.000000         1.000000              1.000000   \n",
       "\n",
       "       30 days of groceries  ...  yellow squash        yogurt       yonkers  \\\n",
       "count          20052.000000  ...   20052.000000  20052.000000  20052.000000   \n",
       "mean               0.000349  ...       0.001247      0.026332      0.000050   \n",
       "std                0.018681  ...       0.035288      0.160123      0.007062   \n",
       "min                0.000000  ...       0.000000      0.000000      0.000000   \n",
       "25%                0.000000  ...       0.000000      0.000000      0.000000   \n",
       "50%                0.000000  ...       0.000000      0.000000      0.000000   \n",
       "75%                0.000000  ...       0.000000      0.000000      0.000000   \n",
       "max                1.000000  ...       1.000000      1.000000      1.000000   \n",
       "\n",
       "               yuca      zucchini     cookbooks     leftovers         snack  \\\n",
       "count  20052.000000  20052.000000  20052.000000  20052.000000  20052.000000   \n",
       "mean       0.000299      0.014861      0.000150      0.000349      0.001396   \n",
       "std        0.017296      0.121001      0.012231      0.018681      0.037343   \n",
       "min        0.000000      0.000000      0.000000      0.000000      0.000000   \n",
       "25%        0.000000      0.000000      0.000000      0.000000      0.000000   \n",
       "50%        0.000000      0.000000      0.000000      0.000000      0.000000   \n",
       "75%        0.000000      0.000000      0.000000      0.000000      0.000000   \n",
       "max        1.000000      1.000000      1.000000      1.000000      1.000000   \n",
       "\n",
       "         snack week        turkey  \n",
       "count  20052.000000  20052.000000  \n",
       "mean       0.000948      0.022741  \n",
       "std        0.030768      0.149080  \n",
       "min        0.000000      0.000000  \n",
       "25%        0.000000      0.000000  \n",
       "50%        0.000000      0.000000  \n",
       "75%        0.000000      0.000000  \n",
       "max        1.000000      1.000000  \n",
       "\n",
       "[8 rows x 679 columns]"
      ]
     },
     "execution_count": 928,
     "metadata": {},
     "output_type": "execute_result"
    }
   ],
   "source": [
    "all_data.describe()"
   ]
  },
  {
   "cell_type": "markdown",
   "id": "cross-brother",
   "metadata": {},
   "source": [
    "## Look at rating"
   ]
  },
  {
   "cell_type": "code",
   "execution_count": 929,
   "id": "colored-playback",
   "metadata": {},
   "outputs": [
    {
     "data": {
      "text/plain": [
       "<AxesSubplot:>"
      ]
     },
     "execution_count": 929,
     "metadata": {},
     "output_type": "execute_result"
    },
    {
     "data": {
      "image/png": "[encoded data removed]",
      "text/plain": [
       "<Figure size 432x288 with 1 Axes>"
      ]
     },
     "metadata": {
      "needs_background": "light"
     },
     "output_type": "display_data"
    }
   ],
   "source": [
    "all_data['rating'].hist()"
   ]
  },
  {
   "cell_type": "markdown",
   "id": "immediate-saver",
   "metadata": {},
   "source": [
    "### There are far more scores at the top of the range than the bottom."
   ]
  },
  {
   "cell_type": "markdown",
   "id": "northern-transcript",
   "metadata": {},
   "source": [
    "##  Plot 22-minute meals and #cakeweek"
   ]
  },
  {
   "cell_type": "code",
   "execution_count": 930,
   "id": "super-column",
   "metadata": {},
   "outputs": [
    {
     "data": {
      "text/plain": [
       "<AxesSubplot:>"
      ]
     },
     "execution_count": 930,
     "metadata": {},
     "output_type": "execute_result"
    },
    {
     "data": {
      "image/png": "[encoded data removed]",
      "text/plain": [
       "<Figure size 432x288 with 1 Axes>"
      ]
     },
     "metadata": {
      "needs_background": "light"
     },
     "output_type": "display_data"
    }
   ],
   "source": [
    "all_data['#cakeweek'].hist()"
   ]
  },
  {
   "cell_type": "markdown",
   "id": "exotic-mixture",
   "metadata": {},
   "source": [
    "### These appear not to have any 1 values."
   ]
  },
  {
   "cell_type": "code",
   "execution_count": 931,
   "id": "affected-saver",
   "metadata": {},
   "outputs": [
    {
     "data": {
      "text/plain": [
       "<AxesSubplot:>"
      ]
     },
     "execution_count": 931,
     "metadata": {},
     "output_type": "execute_result"
    },
    {
     "data": {
      "image/png": "[encoded data removed]",
      "text/plain": [
       "<Figure size 432x288 with 1 Axes>"
      ]
     },
     "metadata": {
      "needs_background": "light"
     },
     "output_type": "display_data"
    }
   ],
   "source": [
    "all_data['spring'].hist()"
   ]
  },
  {
   "cell_type": "code",
   "execution_count": 932,
   "id": "smaller-opposition",
   "metadata": {},
   "outputs": [
    {
     "data": {
      "text/plain": [
       "6"
      ]
     },
     "execution_count": 932,
     "metadata": {},
     "output_type": "execute_result"
    }
   ],
   "source": [
    "len(all_data[all_data['#cakeweek'] == 1])"
   ]
  },
  {
   "cell_type": "code",
   "execution_count": 933,
   "id": "published-magic",
   "metadata": {},
   "outputs": [
    {
     "data": {
      "text/plain": [
       "17"
      ]
     },
     "execution_count": 933,
     "metadata": {},
     "output_type": "execute_result"
    }
   ],
   "source": [
    "len(all_data[all_data['22-minute meals'] == 1])"
   ]
  },
  {
   "cell_type": "markdown",
   "id": "honey-occurrence",
   "metadata": {},
   "source": [
    "## I did more visualizations than I want to fill the notebook with here but I discovered a set of features that were not so sparse, and decided to add them."
   ]
  },
  {
   "cell_type": "code",
   "execution_count": 934,
   "id": "selective-settle",
   "metadata": {},
   "outputs": [
    {
     "data": {
      "text/plain": [
       "3099"
      ]
     },
     "execution_count": 934,
     "metadata": {},
     "output_type": "execute_result"
    }
   ],
   "source": [
    "len(all_data[all_data['winter'] == 1])"
   ]
  },
  {
   "cell_type": "code",
   "execution_count": 935,
   "id": "applicable-relative",
   "metadata": {},
   "outputs": [
    {
     "data": {
      "text/plain": [
       "1715"
      ]
     },
     "execution_count": 935,
     "metadata": {},
     "output_type": "execute_result"
    }
   ],
   "source": [
    "len(all_data[all_data['spring'] == 1])"
   ]
  },
  {
   "cell_type": "code",
   "execution_count": 936,
   "id": "lined-testament",
   "metadata": {},
   "outputs": [
    {
     "data": {
      "text/plain": [
       "4151"
      ]
     },
     "execution_count": 936,
     "metadata": {},
     "output_type": "execute_result"
    }
   ],
   "source": [
    "len(all_data[all_data['summer'] == 1])"
   ]
  },
  {
   "cell_type": "code",
   "execution_count": 937,
   "id": "focal-regression",
   "metadata": {},
   "outputs": [
    {
     "data": {
      "text/plain": [
       "3015"
      ]
     },
     "execution_count": 937,
     "metadata": {},
     "output_type": "execute_result"
    }
   ],
   "source": [
    "len(all_data[all_data['fall'] == 1])"
   ]
  },
  {
   "cell_type": "code",
   "execution_count": 938,
   "id": "natural-bahamas",
   "metadata": {},
   "outputs": [
    {
     "data": {
      "text/plain": [
       "4413"
      ]
     },
     "execution_count": 938,
     "metadata": {},
     "output_type": "execute_result"
    }
   ],
   "source": [
    "len(all_data[all_data['bake'] == 1])"
   ]
  },
  {
   "cell_type": "code",
   "execution_count": 939,
   "id": "suburban-myrtle",
   "metadata": {},
   "outputs": [
    {
     "data": {
      "text/plain": [
       "8390"
      ]
     },
     "execution_count": 939,
     "metadata": {},
     "output_type": "execute_result"
    }
   ],
   "source": [
    "len(all_data[all_data['peanut free'] == 1])"
   ]
  },
  {
   "cell_type": "markdown",
   "id": "tutorial-astrology",
   "metadata": {
    "tags": []
   },
   "source": [
    "## Making a smaller dataset.  Looking at histograms and a covariance matrix graph led me to try the additional categories."
   ]
  },
  {
   "cell_type": "code",
   "execution_count": 940,
   "id": "residential-efficiency",
   "metadata": {},
   "outputs": [],
   "source": [
    "bakers_dozen_columns = ['calories','fat','sodium','protein', 'winter', 'spring', 'summer', 'fall', 'peanut free', 'bake', '#cakeweek', '22-minute meals', 'rating'] # 13 columns"
   ]
  },
  {
   "cell_type": "code",
   "execution_count": 941,
   "id": "adult-investing",
   "metadata": {},
   "outputs": [],
   "source": [
    "small_data = all_data.loc[:,bakers_dozen_columns]"
   ]
  },
  {
   "cell_type": "markdown",
   "id": "pending-silly",
   "metadata": {},
   "source": [
    "# Drop duplicates and outliers from small data"
   ]
  },
  {
   "cell_type": "code",
   "execution_count": 942,
   "id": "interesting-split",
   "metadata": {},
   "outputs": [],
   "source": [
    "small_data_no_dups = small_data.drop_duplicates()"
   ]
  },
  {
   "cell_type": "code",
   "execution_count": 943,
   "id": "intense-boston",
   "metadata": {},
   "outputs": [
    {
     "data": {
      "text/html": [
       "<div>\n",
       "<style scoped>\n",
       "    .dataframe tbody tr th:only-of-type {\n",
       "        vertical-align: middle;\n",
       "    }\n",
       "\n",
       "    .dataframe tbody tr th {\n",
       "        vertical-align: top;\n",
       "    }\n",
       "\n",
       "    .dataframe thead th {\n",
       "        text-align: right;\n",
       "    }\n",
       "</style>\n",
       "<table border=\"1\" class=\"dataframe\">\n",
       "  <thead>\n",
       "    <tr style=\"text-align: right;\">\n",
       "      <th></th>\n",
       "      <th>calories</th>\n",
       "      <th>fat</th>\n",
       "      <th>sodium</th>\n",
       "      <th>protein</th>\n",
       "      <th>winter</th>\n",
       "      <th>spring</th>\n",
       "      <th>summer</th>\n",
       "      <th>fall</th>\n",
       "      <th>peanut free</th>\n",
       "      <th>bake</th>\n",
       "      <th>#cakeweek</th>\n",
       "      <th>22-minute meals</th>\n",
       "      <th>rating</th>\n",
       "    </tr>\n",
       "  </thead>\n",
       "  <tbody>\n",
       "    <tr>\n",
       "      <th>0</th>\n",
       "      <td>426.0</td>\n",
       "      <td>7.0</td>\n",
       "      <td>559.0</td>\n",
       "      <td>30.0</td>\n",
       "      <td>0.0</td>\n",
       "      <td>0.0</td>\n",
       "      <td>0.0</td>\n",
       "      <td>0.0</td>\n",
       "      <td>0.0</td>\n",
       "      <td>0.0</td>\n",
       "      <td>0.0</td>\n",
       "      <td>0.0</td>\n",
       "      <td>2.500</td>\n",
       "    </tr>\n",
       "    <tr>\n",
       "      <th>1</th>\n",
       "      <td>403.0</td>\n",
       "      <td>23.0</td>\n",
       "      <td>1439.0</td>\n",
       "      <td>18.0</td>\n",
       "      <td>1.0</td>\n",
       "      <td>0.0</td>\n",
       "      <td>0.0</td>\n",
       "      <td>0.0</td>\n",
       "      <td>0.0</td>\n",
       "      <td>1.0</td>\n",
       "      <td>0.0</td>\n",
       "      <td>0.0</td>\n",
       "      <td>4.375</td>\n",
       "    </tr>\n",
       "    <tr>\n",
       "      <th>2</th>\n",
       "      <td>165.0</td>\n",
       "      <td>7.0</td>\n",
       "      <td>165.0</td>\n",
       "      <td>6.0</td>\n",
       "      <td>0.0</td>\n",
       "      <td>0.0</td>\n",
       "      <td>0.0</td>\n",
       "      <td>0.0</td>\n",
       "      <td>0.0</td>\n",
       "      <td>0.0</td>\n",
       "      <td>0.0</td>\n",
       "      <td>0.0</td>\n",
       "      <td>3.750</td>\n",
       "    </tr>\n",
       "    <tr>\n",
       "      <th>3</th>\n",
       "      <td>NaN</td>\n",
       "      <td>NaN</td>\n",
       "      <td>NaN</td>\n",
       "      <td>NaN</td>\n",
       "      <td>0.0</td>\n",
       "      <td>0.0</td>\n",
       "      <td>0.0</td>\n",
       "      <td>0.0</td>\n",
       "      <td>1.0</td>\n",
       "      <td>0.0</td>\n",
       "      <td>0.0</td>\n",
       "      <td>0.0</td>\n",
       "      <td>5.000</td>\n",
       "    </tr>\n",
       "    <tr>\n",
       "      <th>4</th>\n",
       "      <td>547.0</td>\n",
       "      <td>32.0</td>\n",
       "      <td>452.0</td>\n",
       "      <td>20.0</td>\n",
       "      <td>0.0</td>\n",
       "      <td>0.0</td>\n",
       "      <td>0.0</td>\n",
       "      <td>1.0</td>\n",
       "      <td>0.0</td>\n",
       "      <td>1.0</td>\n",
       "      <td>0.0</td>\n",
       "      <td>0.0</td>\n",
       "      <td>3.125</td>\n",
       "    </tr>\n",
       "    <tr>\n",
       "      <th>...</th>\n",
       "      <td>...</td>\n",
       "      <td>...</td>\n",
       "      <td>...</td>\n",
       "      <td>...</td>\n",
       "      <td>...</td>\n",
       "      <td>...</td>\n",
       "      <td>...</td>\n",
       "      <td>...</td>\n",
       "      <td>...</td>\n",
       "      <td>...</td>\n",
       "      <td>...</td>\n",
       "      <td>...</td>\n",
       "      <td>...</td>\n",
       "    </tr>\n",
       "    <tr>\n",
       "      <th>20047</th>\n",
       "      <td>28.0</td>\n",
       "      <td>2.0</td>\n",
       "      <td>64.0</td>\n",
       "      <td>2.0</td>\n",
       "      <td>1.0</td>\n",
       "      <td>0.0</td>\n",
       "      <td>0.0</td>\n",
       "      <td>0.0</td>\n",
       "      <td>0.0</td>\n",
       "      <td>0.0</td>\n",
       "      <td>0.0</td>\n",
       "      <td>0.0</td>\n",
       "      <td>3.125</td>\n",
       "    </tr>\n",
       "    <tr>\n",
       "      <th>20048</th>\n",
       "      <td>671.0</td>\n",
       "      <td>28.0</td>\n",
       "      <td>583.0</td>\n",
       "      <td>22.0</td>\n",
       "      <td>0.0</td>\n",
       "      <td>1.0</td>\n",
       "      <td>1.0</td>\n",
       "      <td>0.0</td>\n",
       "      <td>1.0</td>\n",
       "      <td>0.0</td>\n",
       "      <td>0.0</td>\n",
       "      <td>0.0</td>\n",
       "      <td>4.375</td>\n",
       "    </tr>\n",
       "    <tr>\n",
       "      <th>20049</th>\n",
       "      <td>563.0</td>\n",
       "      <td>38.0</td>\n",
       "      <td>652.0</td>\n",
       "      <td>31.0</td>\n",
       "      <td>0.0</td>\n",
       "      <td>0.0</td>\n",
       "      <td>0.0</td>\n",
       "      <td>1.0</td>\n",
       "      <td>1.0</td>\n",
       "      <td>1.0</td>\n",
       "      <td>0.0</td>\n",
       "      <td>0.0</td>\n",
       "      <td>4.375</td>\n",
       "    </tr>\n",
       "    <tr>\n",
       "      <th>20050</th>\n",
       "      <td>631.0</td>\n",
       "      <td>24.0</td>\n",
       "      <td>517.0</td>\n",
       "      <td>45.0</td>\n",
       "      <td>0.0</td>\n",
       "      <td>0.0</td>\n",
       "      <td>1.0</td>\n",
       "      <td>0.0</td>\n",
       "      <td>0.0</td>\n",
       "      <td>0.0</td>\n",
       "      <td>0.0</td>\n",
       "      <td>0.0</td>\n",
       "      <td>4.375</td>\n",
       "    </tr>\n",
       "    <tr>\n",
       "      <th>20051</th>\n",
       "      <td>560.0</td>\n",
       "      <td>10.0</td>\n",
       "      <td>3698.0</td>\n",
       "      <td>73.0</td>\n",
       "      <td>1.0</td>\n",
       "      <td>0.0</td>\n",
       "      <td>0.0</td>\n",
       "      <td>0.0</td>\n",
       "      <td>0.0</td>\n",
       "      <td>1.0</td>\n",
       "      <td>0.0</td>\n",
       "      <td>0.0</td>\n",
       "      <td>4.375</td>\n",
       "    </tr>\n",
       "  </tbody>\n",
       "</table>\n",
       "<p>14689 rows × 13 columns</p>\n",
       "</div>"
      ],
      "text/plain": [
       "       calories   fat  sodium  protein  winter  spring  summer  fall  \\\n",
       "0         426.0   7.0   559.0     30.0     0.0     0.0     0.0   0.0   \n",
       "1         403.0  23.0  1439.0     18.0     1.0     0.0     0.0   0.0   \n",
       "2         165.0   7.0   165.0      6.0     0.0     0.0     0.0   0.0   \n",
       "3           NaN   NaN     NaN      NaN     0.0     0.0     0.0   0.0   \n",
       "4         547.0  32.0   452.0     20.0     0.0     0.0     0.0   1.0   \n",
       "...         ...   ...     ...      ...     ...     ...     ...   ...   \n",
       "20047      28.0   2.0    64.0      2.0     1.0     0.0     0.0   0.0   \n",
       "20048     671.0  28.0   583.0     22.0     0.0     1.0     1.0   0.0   \n",
       "20049     563.0  38.0   652.0     31.0     0.0     0.0     0.0   1.0   \n",
       "20050     631.0  24.0   517.0     45.0     0.0     0.0     1.0   0.0   \n",
       "20051     560.0  10.0  3698.0     73.0     1.0     0.0     0.0   0.0   \n",
       "\n",
       "       peanut free  bake  #cakeweek  22-minute meals  rating  \n",
       "0              0.0   0.0        0.0              0.0   2.500  \n",
       "1              0.0   1.0        0.0              0.0   4.375  \n",
       "2              0.0   0.0        0.0              0.0   3.750  \n",
       "3              1.0   0.0        0.0              0.0   5.000  \n",
       "4              0.0   1.0        0.0              0.0   3.125  \n",
       "...            ...   ...        ...              ...     ...  \n",
       "20047          0.0   0.0        0.0              0.0   3.125  \n",
       "20048          1.0   0.0        0.0              0.0   4.375  \n",
       "20049          1.0   1.0        0.0              0.0   4.375  \n",
       "20050          0.0   0.0        0.0              0.0   4.375  \n",
       "20051          0.0   1.0        0.0              0.0   4.375  \n",
       "\n",
       "[14689 rows x 13 columns]"
      ]
     },
     "execution_count": 943,
     "metadata": {},
     "output_type": "execute_result"
    }
   ],
   "source": [
    "small_data_no_dups"
   ]
  },
  {
   "cell_type": "markdown",
   "id": "similar-first",
   "metadata": {},
   "source": [
    "# Dropping outliers "
   ]
  },
  {
   "cell_type": "code",
   "execution_count": 944,
   "id": "permanent-tuition",
   "metadata": {},
   "outputs": [],
   "source": [
    "drop_list = small_data_no_dups[(small_data_no_dups['fat'] > 300) | (small_data_no_dups['calories'] > 5000) | (small_data_no_dups['sodium'] > 5000) | (small_data_no_dups['protein'] > 300) ].index "
   ]
  },
  {
   "cell_type": "code",
   "execution_count": 945,
   "id": "naked-suite",
   "metadata": {},
   "outputs": [],
   "source": [
    "small_data_dropped = small_data_no_dups.drop(drop_list)"
   ]
  },
  {
   "cell_type": "markdown",
   "id": "seeing-promise",
   "metadata": {},
   "source": [
    "# Drop NA"
   ]
  },
  {
   "cell_type": "code",
   "execution_count": 946,
   "id": "dependent-spanking",
   "metadata": {},
   "outputs": [],
   "source": [
    "df = small_data_dropped.dropna()"
   ]
  },
  {
   "cell_type": "markdown",
   "id": "uniform-contest",
   "metadata": {},
   "source": [
    "## The number of instances with 1s for '#cakeweek' and '22-minute meals' is dwindling."
   ]
  },
  {
   "cell_type": "code",
   "execution_count": 947,
   "id": "previous-jacob",
   "metadata": {},
   "outputs": [
    {
     "data": {
      "text/plain": [
       "4"
      ]
     },
     "execution_count": 947,
     "metadata": {},
     "output_type": "execute_result"
    }
   ],
   "source": [
    "len(df[df['#cakeweek'] == 1])"
   ]
  },
  {
   "cell_type": "code",
   "execution_count": 948,
   "id": "appropriate-thailand",
   "metadata": {},
   "outputs": [
    {
     "data": {
      "text/plain": [
       "15"
      ]
     },
     "execution_count": 948,
     "metadata": {},
     "output_type": "execute_result"
    }
   ],
   "source": [
    "len(df[df['22-minute meals'] == 1])"
   ]
  },
  {
   "cell_type": "markdown",
   "id": "changed-warehouse",
   "metadata": {},
   "source": [
    "# Train/Test Splits"
   ]
  },
  {
   "cell_type": "code",
   "execution_count": 949,
   "id": "optical-chambers",
   "metadata": {},
   "outputs": [],
   "source": [
    "xList = ['fat','calories','protein','sodium','bake','peanut free'] \n",
    "yList = ['rating','#cakeweek','22-minute meals', 'winter','spring','summer','fall']"
   ]
  },
  {
   "cell_type": "code",
   "execution_count": 950,
   "id": "frank-federation",
   "metadata": {},
   "outputs": [],
   "source": [
    "trainX, testX, trainY, testY = train_test_split(df[xList], df[yList], train_size = 0.8, \n",
    "                                                          test_size = 0.2, \n",
    "                                                          random_state = 100)"
   ]
  },
  {
   "cell_type": "markdown",
   "id": "acceptable-graphics",
   "metadata": {},
   "source": [
    "### And now we have the following 1-0 splits in our Y sets. (I realize that in practice we never look at the test data.)"
   ]
  },
  {
   "cell_type": "code",
   "execution_count": 951,
   "id": "lesser-floor",
   "metadata": {},
   "outputs": [
    {
     "data": {
      "text/plain": [
       "10"
      ]
     },
     "execution_count": 951,
     "metadata": {},
     "output_type": "execute_result"
    }
   ],
   "source": [
    "len(trainY[trainY['22-minute meals'] == 1])"
   ]
  },
  {
   "cell_type": "code",
   "execution_count": 952,
   "id": "institutional-sacrifice",
   "metadata": {},
   "outputs": [
    {
     "data": {
      "text/plain": [
       "11323"
      ]
     },
     "execution_count": 952,
     "metadata": {},
     "output_type": "execute_result"
    }
   ],
   "source": [
    "len(trainY[trainY['22-minute meals'] == 0])"
   ]
  },
  {
   "cell_type": "code",
   "execution_count": 953,
   "id": "after-structure",
   "metadata": {},
   "outputs": [
    {
     "data": {
      "text/plain": [
       "5"
      ]
     },
     "execution_count": 953,
     "metadata": {},
     "output_type": "execute_result"
    }
   ],
   "source": [
    "len(testY[testY['22-minute meals'] == 1])"
   ]
  },
  {
   "cell_type": "markdown",
   "id": "charged-clarity",
   "metadata": {},
   "source": [
    "### This means #cakeweek will have all 0s in the test data, and the regressor will only see 4 1s vs 11,329 0s.\n",
    "### The same numbers for '22-minute meals' are 10 1s vs 11323 0s  in the training set and only 5 1s in the test."
   ]
  },
  {
   "cell_type": "markdown",
   "id": "current-coalition",
   "metadata": {},
   "source": [
    "# Scale the data"
   ]
  },
  {
   "cell_type": "markdown",
   "id": "handed-sheriff",
   "metadata": {},
   "source": [
    "### I'm using a MaxAbsScaler because I read that it maintains sparseness in data.  I wondered if that would be a good thing or not, so I tried using StandardScaler instead and found that the classification was worse, and the PCA required twice as many components to account for 95% of the variance compared to MaxAbsScaler.  "
   ]
  },
  {
   "cell_type": "markdown",
   "id": "proof-electric",
   "metadata": {},
   "source": [
    "#### Scale training X"
   ]
  },
  {
   "cell_type": "code",
   "execution_count": 954,
   "id": "ecological-comment",
   "metadata": {},
   "outputs": [
    {
     "data": {
      "text/html": [
       "<div>\n",
       "<style scoped>\n",
       "    .dataframe tbody tr th:only-of-type {\n",
       "        vertical-align: middle;\n",
       "    }\n",
       "\n",
       "    .dataframe tbody tr th {\n",
       "        vertical-align: top;\n",
       "    }\n",
       "\n",
       "    .dataframe thead th {\n",
       "        text-align: right;\n",
       "    }\n",
       "</style>\n",
       "<table border=\"1\" class=\"dataframe\">\n",
       "  <thead>\n",
       "    <tr style=\"text-align: right;\">\n",
       "      <th></th>\n",
       "      <th>0</th>\n",
       "      <th>1</th>\n",
       "      <th>2</th>\n",
       "      <th>3</th>\n",
       "      <th>4</th>\n",
       "      <th>5</th>\n",
       "    </tr>\n",
       "  </thead>\n",
       "  <tbody>\n",
       "    <tr>\n",
       "      <th>0</th>\n",
       "      <td>0.108108</td>\n",
       "      <td>0.072059</td>\n",
       "      <td>0.049822</td>\n",
       "      <td>0.158358</td>\n",
       "      <td>0.0</td>\n",
       "      <td>0.0</td>\n",
       "    </tr>\n",
       "    <tr>\n",
       "      <th>1</th>\n",
       "      <td>0.027027</td>\n",
       "      <td>0.023685</td>\n",
       "      <td>0.035587</td>\n",
       "      <td>0.088889</td>\n",
       "      <td>0.0</td>\n",
       "      <td>1.0</td>\n",
       "    </tr>\n",
       "    <tr>\n",
       "      <th>2</th>\n",
       "      <td>0.003378</td>\n",
       "      <td>0.039141</td>\n",
       "      <td>0.007117</td>\n",
       "      <td>0.000400</td>\n",
       "      <td>0.0</td>\n",
       "      <td>1.0</td>\n",
       "    </tr>\n",
       "    <tr>\n",
       "      <th>3</th>\n",
       "      <td>0.118243</td>\n",
       "      <td>0.115817</td>\n",
       "      <td>0.010676</td>\n",
       "      <td>0.002803</td>\n",
       "      <td>0.0</td>\n",
       "      <td>1.0</td>\n",
       "    </tr>\n",
       "    <tr>\n",
       "      <th>4</th>\n",
       "      <td>0.324324</td>\n",
       "      <td>0.282015</td>\n",
       "      <td>0.060498</td>\n",
       "      <td>0.119520</td>\n",
       "      <td>0.0</td>\n",
       "      <td>0.0</td>\n",
       "    </tr>\n",
       "    <tr>\n",
       "      <th>...</th>\n",
       "      <td>...</td>\n",
       "      <td>...</td>\n",
       "      <td>...</td>\n",
       "      <td>...</td>\n",
       "      <td>...</td>\n",
       "      <td>...</td>\n",
       "    </tr>\n",
       "    <tr>\n",
       "      <th>11328</th>\n",
       "      <td>0.060811</td>\n",
       "      <td>0.102770</td>\n",
       "      <td>0.032028</td>\n",
       "      <td>0.128128</td>\n",
       "      <td>0.0</td>\n",
       "      <td>1.0</td>\n",
       "    </tr>\n",
       "    <tr>\n",
       "      <th>11329</th>\n",
       "      <td>0.006757</td>\n",
       "      <td>0.060618</td>\n",
       "      <td>0.195730</td>\n",
       "      <td>0.320320</td>\n",
       "      <td>0.0</td>\n",
       "      <td>1.0</td>\n",
       "    </tr>\n",
       "    <tr>\n",
       "      <th>11330</th>\n",
       "      <td>0.084459</td>\n",
       "      <td>0.120434</td>\n",
       "      <td>0.195730</td>\n",
       "      <td>0.264064</td>\n",
       "      <td>0.0</td>\n",
       "      <td>0.0</td>\n",
       "    </tr>\n",
       "    <tr>\n",
       "      <th>11331</th>\n",
       "      <td>0.040541</td>\n",
       "      <td>0.043557</td>\n",
       "      <td>0.010676</td>\n",
       "      <td>0.033233</td>\n",
       "      <td>0.0</td>\n",
       "      <td>0.0</td>\n",
       "    </tr>\n",
       "    <tr>\n",
       "      <th>11332</th>\n",
       "      <td>0.226351</td>\n",
       "      <td>0.183862</td>\n",
       "      <td>0.049822</td>\n",
       "      <td>0.076677</td>\n",
       "      <td>1.0</td>\n",
       "      <td>0.0</td>\n",
       "    </tr>\n",
       "  </tbody>\n",
       "</table>\n",
       "<p>11333 rows × 6 columns</p>\n",
       "</div>"
      ],
      "text/plain": [
       "              0         1         2         3    4    5\n",
       "0      0.108108  0.072059  0.049822  0.158358  0.0  0.0\n",
       "1      0.027027  0.023685  0.035587  0.088889  0.0  1.0\n",
       "2      0.003378  0.039141  0.007117  0.000400  0.0  1.0\n",
       "3      0.118243  0.115817  0.010676  0.002803  0.0  1.0\n",
       "4      0.324324  0.282015  0.060498  0.119520  0.0  0.0\n",
       "...         ...       ...       ...       ...  ...  ...\n",
       "11328  0.060811  0.102770  0.032028  0.128128  0.0  1.0\n",
       "11329  0.006757  0.060618  0.195730  0.320320  0.0  1.0\n",
       "11330  0.084459  0.120434  0.195730  0.264064  0.0  0.0\n",
       "11331  0.040541  0.043557  0.010676  0.033233  0.0  0.0\n",
       "11332  0.226351  0.183862  0.049822  0.076677  1.0  0.0\n",
       "\n",
       "[11333 rows x 6 columns]"
      ]
     },
     "execution_count": 954,
     "metadata": {},
     "output_type": "execute_result"
    }
   ],
   "source": [
    "# also try MinMaxScaler\n",
    "scaler = MaxAbsScaler().fit(trainX)\n",
    "scaled_data = scaler.transform(trainX)\n",
    "sdf1 = pd.DataFrame(scaled_data)\n",
    "sdf1"
   ]
  },
  {
   "cell_type": "markdown",
   "id": "black-investment",
   "metadata": {},
   "source": [
    "#### Scale test X"
   ]
  },
  {
   "cell_type": "code",
   "execution_count": 955,
   "id": "identical-things",
   "metadata": {},
   "outputs": [],
   "source": [
    "scaler_test = MaxAbsScaler().fit(testX)\n",
    "scaled_data_test = scaler_test.transform(testX)\n",
    "sdf2 = pd.DataFrame(scaled_data_test)"
   ]
  },
  {
   "cell_type": "markdown",
   "id": "appreciated-unknown",
   "metadata": {},
   "source": [
    "## show distributions before and after scaling"
   ]
  },
  {
   "cell_type": "code",
   "execution_count": 956,
   "id": "cloudy-search",
   "metadata": {
    "colab": {
     "base_uri": "https://localhost:8080/",
     "height": 1000
    },
    "id": "O8CQgsFk7xAH",
    "outputId": "74108481-241a-428d-c354-b8475d67b3e3"
   },
   "outputs": [
    {
     "data": {
      "text/plain": [
       "array([[<AxesSubplot:title={'center':'0'}>,\n",
       "        <AxesSubplot:title={'center':'1'}>],\n",
       "       [<AxesSubplot:title={'center':'2'}>,\n",
       "        <AxesSubplot:title={'center':'3'}>],\n",
       "       [<AxesSubplot:title={'center':'4'}>,\n",
       "        <AxesSubplot:title={'center':'5'}>]], dtype=object)"
      ]
     },
     "execution_count": 956,
     "metadata": {},
     "output_type": "execute_result"
    },
    {
     "data": {
      "image/png": "[encoded data removed]",
      "text/plain": [
       "<Figure size 1440x1080 with 16 Axes>"
      ]
     },
     "metadata": {
      "needs_background": "light"
     },
     "output_type": "display_data"
    },
    {
     "data": {
      "image/png": "[encoded data removed]",
      "text/plain": [
       "<Figure size 1440x1080 with 6 Axes>"
      ]
     },
     "metadata": {
      "needs_background": "light"
     },
     "output_type": "display_data"
    }
   ],
   "source": [
    "#Raw Data\n",
    "df.hist(bins=50, figsize=(20,15))\n",
    "\n",
    "#Scaled Data:\n",
    "sdf1.hist(bins=50, figsize=(20,15))\n"
   ]
  },
  {
   "cell_type": "markdown",
   "id": "simple-chrome",
   "metadata": {},
   "source": [
    "## Pearson coefficient"
   ]
  },
  {
   "cell_type": "markdown",
   "id": "right-script",
   "metadata": {},
   "source": [
    "### Using a loop to accumulate the r's for the features in X"
   ]
  },
  {
   "cell_type": "code",
   "execution_count": 957,
   "id": "published-suicide",
   "metadata": {},
   "outputs": [],
   "source": [
    "pearson_rs = []\n",
    "for col, item in sdf1.iteritems():\n",
    "    pearson_rs.append(sp.stats.pearsonr(item, trainY['rating']))"
   ]
  },
  {
   "cell_type": "markdown",
   "id": "partial-horse",
   "metadata": {},
   "source": [
    "### The highest r is fat at 0.125, then calories at 0.112, then protein at .116, peanut free at 0.081, sodium at 0.079, and bake at 0.074."
   ]
  },
  {
   "cell_type": "code",
   "execution_count": 958,
   "id": "unnecessary-devon",
   "metadata": {},
   "outputs": [
    {
     "name": "stdout",
     "output_type": "stream",
     "text": [
      "0.12510094438317437\n",
      "0.11238710088024306\n",
      "0.11637318169164582\n",
      "0.07923854231827958\n",
      "0.07417411236055874\n",
      "0.0805646984374423\n"
     ]
    }
   ],
   "source": [
    "for each in pearson_rs:\n",
    "    print(each[0])"
   ]
  },
  {
   "cell_type": "markdown",
   "id": "married-infrastructure",
   "metadata": {},
   "source": [
    "## Apply PCA"
   ]
  },
  {
   "cell_type": "markdown",
   "id": "fuzzy-moore",
   "metadata": {},
   "source": [
    "### Apply with fit_transform and specify 95% variance.  "
   ]
  },
  {
   "cell_type": "code",
   "execution_count": 959,
   "id": "remarkable-passage",
   "metadata": {},
   "outputs": [],
   "source": [
    "pca = PCA()\n",
    "x_pca= pca.fit_transform(sdf1)\n",
    "cumsum = np.cumsum(pca.explained_variance_ratio_)\n",
    "d = np.argmax(cumsum >= 0.95) + 1"
   ]
  },
  {
   "cell_type": "markdown",
   "id": "constitutional-manufacturer",
   "metadata": {},
   "source": [
    "### See that the resulting dataseet has the same shape."
   ]
  },
  {
   "cell_type": "code",
   "execution_count": 960,
   "id": "roman-worker",
   "metadata": {},
   "outputs": [
    {
     "name": "stdout",
     "output_type": "stream",
     "text": [
      "Scaled data shape:  (11333, 6)\n",
      "Transformed data shape:  (11333, 6)\n",
      "Explained variance:  [0.53905226 0.37005504 0.06130983 0.02094432 0.00702862 0.00160992]\n"
     ]
    }
   ],
   "source": [
    "print ('Scaled data shape: ', sdf1.shape)\n",
    "print ('Transformed data shape: ', x_pca.shape)\n",
    "print ('Explained variance: ', pca.explained_variance_ratio_)"
   ]
  },
  {
   "cell_type": "markdown",
   "id": "described-annotation",
   "metadata": {},
   "source": [
    "### The first PC accounts for 53% of the variance, the 2nd 37%, the 3rd 6%, and the rest 2% and less than 0.00%."
   ]
  },
  {
   "cell_type": "markdown",
   "id": "dangerous-auction",
   "metadata": {},
   "source": [
    "# Elbow Plot"
   ]
  },
  {
   "cell_type": "markdown",
   "id": "living-journalism",
   "metadata": {},
   "source": [
    "### Shows that we reach 95% varriance with 2 components.\n",
    "### When I used StandardScaler instead of MaxAbsScaler, 4 components were required."
   ]
  },
  {
   "cell_type": "code",
   "execution_count": 961,
   "id": "acquired-wheat",
   "metadata": {
    "colab": {
     "base_uri": "https://localhost:8080/",
     "height": 295
    },
    "id": "WnVcQXQTtEmz",
    "outputId": "ccc1fe0f-893b-468e-e1ab-b8a0ec21dc27"
   },
   "outputs": [
    {
     "data": {
      "image/png": "[encoded data removed]",
      "text/plain": [
       "<Figure size 432x288 with 1 Axes>"
      ]
     },
     "metadata": {
      "needs_background": "light"
     },
     "output_type": "display_data"
    }
   ],
   "source": [
    "# The elbow plot of the explained variance\n",
    "\n",
    "plt.plot(np.cumsum(pca.explained_variance_ratio_))\n",
    "plt.xlabel('No. of Components')\n",
    "plt.ylabel('Explained Variance')\n",
    "plt.title('Elbow Plot')\n",
    "plt.show()"
   ]
  },
  {
   "cell_type": "markdown",
   "id": "harmful-closer",
   "metadata": {},
   "source": [
    "# Logistic Regression"
   ]
  },
  {
   "cell_type": "markdown",
   "id": "excellent-lancaster",
   "metadata": {},
   "source": [
    "### Here I've settled on predicting 'winter' using calories.  Strangely, I got slightly better classification by training on 'calories' and predicting using 'bake', but that seems like nonsense so I left it alone."
   ]
  },
  {
   "cell_type": "code",
   "execution_count": 962,
   "id": "constant-conversion",
   "metadata": {
    "colab": {
     "base_uri": "https://localhost:8080/",
     "height": 157
    },
    "id": "Pwcl9Ud1v0im",
    "outputId": "73350a6b-1370-4b79-c29a-ad562be497e2"
   },
   "outputs": [
    {
     "data": {
      "text/plain": [
       "LogisticRegression()"
      ]
     },
     "execution_count": 962,
     "metadata": {},
     "output_type": "execute_result"
    }
   ],
   "source": [
    "x_col = sdf1[1].values.reshape(-1,1)\n",
    "X = x_col\n",
    "Y = trainY['winter']\n",
    "\n",
    "# Perform logistic regression for the binary output\n",
    "classifier = LogisticRegression()\n",
    "classifier.fit(X, Y)"
   ]
  },
  {
   "cell_type": "markdown",
   "id": "engaging-reply",
   "metadata": {},
   "source": [
    "# Confusion matrix"
   ]
  },
  {
   "cell_type": "code",
   "execution_count": 963,
   "id": "electoral-license",
   "metadata": {},
   "outputs": [
    {
     "name": "stdout",
     "output_type": "stream",
     "text": [
      "#Total cases (14167, 13)\n",
      "#Training and testing cases (11333, 6) (2834, 6)\n",
      "\n",
      "Confusion matrix:\n"
     ]
    },
    {
     "data": {
      "text/html": [
       "<div>\n",
       "<style scoped>\n",
       "    .dataframe tbody tr th:only-of-type {\n",
       "        vertical-align: middle;\n",
       "    }\n",
       "\n",
       "    .dataframe tbody tr th {\n",
       "        vertical-align: top;\n",
       "    }\n",
       "\n",
       "    .dataframe thead th {\n",
       "        text-align: right;\n",
       "    }\n",
       "</style>\n",
       "<table border=\"1\" class=\"dataframe\">\n",
       "  <thead>\n",
       "    <tr style=\"text-align: right;\">\n",
       "      <th></th>\n",
       "      <th>0</th>\n",
       "      <th>1</th>\n",
       "    </tr>\n",
       "  </thead>\n",
       "  <tbody>\n",
       "    <tr>\n",
       "      <th>0</th>\n",
       "      <td>2378</td>\n",
       "      <td>3</td>\n",
       "    </tr>\n",
       "    <tr>\n",
       "      <th>1</th>\n",
       "      <td>452</td>\n",
       "      <td>1</td>\n",
       "    </tr>\n",
       "  </tbody>\n",
       "</table>\n",
       "</div>"
      ],
      "text/plain": [
       "      0  1\n",
       "0  2378  3\n",
       "1   452  1"
      ]
     },
     "execution_count": 963,
     "metadata": {},
     "output_type": "execute_result"
    }
   ],
   "source": [
    "Y_pred = classifier.predict(sdf2[1].values.reshape(-1,1)) \n",
    "labels = [0, 1]\n",
    "cm = confusion_matrix(testY['winter'], Y_pred, labels=labels)\n",
    "\n",
    "print ('#Total cases', df.shape)\n",
    "print ('#Training and testing cases', sdf1.shape, sdf2.shape)\n",
    "print ('\\nConfusion matrix:')\n",
    "pd.DataFrame(cm, index=labels, columns=labels)"
   ]
  },
  {
   "cell_type": "code",
   "execution_count": 964,
   "id": "flying-thomson",
   "metadata": {},
   "outputs": [
    {
     "name": "stdout",
     "output_type": "stream",
     "text": [
      "Precision: 0.25\n",
      "Recall: 0.002207505518763797\n"
     ]
    }
   ],
   "source": [
    "print('Precision:',precision_score(testY['winter'],Y_pred,pos_label=1))\n",
    "print('Recall:',recall_score(testY['winter'],Y_pred,pos_label=1))"
   ]
  },
  {
   "cell_type": "markdown",
   "id": "tough-milan",
   "metadata": {},
   "source": [
    "### That's not very good, but it's better than I was able to get using StandardScaler, which didn't predict any classes at all. Still, the coin-flip predictor is better than this, assuming a fair coin."
   ]
  },
  {
   "cell_type": "markdown",
   "id": "united-scope",
   "metadata": {},
   "source": [
    "# Feature engineering 'healthy'"
   ]
  },
  {
   "cell_type": "markdown",
   "id": "checked-differential",
   "metadata": {},
   "source": [
    "## Create new feature healthy: protein + calories / fat + sodium.  My original formula had protein in the numerator and the other nutrition features in the denominator. To try and get better results I changed it to this which turns out to be no better, but the thought was that healthy foods can contain healthy fats, so just dividing out fat content wouldn't necessarily correspond to healthy foods."
   ]
  },
  {
   "cell_type": "code",
   "execution_count": 965,
   "id": "swiss-reproduction",
   "metadata": {
    "tags": []
   },
   "outputs": [],
   "source": [
    "healthy = pd.Series(df.loc[:,'protein'] + df.loc[:,'fat'] / (df.loc[:,'calories'] + df.loc[:,'sodium']))"
   ]
  },
  {
   "cell_type": "markdown",
   "id": "secure-wireless",
   "metadata": {},
   "source": [
    "### The code below generates a warning but seemingly should not.  I just run it again to get rid of the warning.\n",
    "### The error says: 'Try using .loc[row_indexer,col_indexer] = value instead', which I do, unless I'm just blind to a mistake."
   ]
  },
  {
   "cell_type": "code",
   "execution_count": 968,
   "id": "naval-envelope",
   "metadata": {
    "tags": []
   },
   "outputs": [],
   "source": [
    "df.loc[:,'healthy'] = healthy # Shouldn't be getting this warning.  "
   ]
  },
  {
   "cell_type": "code",
   "execution_count": 969,
   "id": "ruled-alberta",
   "metadata": {
    "tags": []
   },
   "outputs": [
    {
     "data": {
      "text/plain": [
       "0        30.007107\n",
       "1        18.012486\n",
       "2         6.021212\n",
       "4        20.032032\n",
       "5        19.039698\n",
       "           ...    \n",
       "20047     2.021739\n",
       "20048    22.022329\n",
       "20049    31.031276\n",
       "20050    45.020906\n",
       "20051    73.002349\n",
       "Length: 14167, dtype: float64"
      ]
     },
     "execution_count": 969,
     "metadata": {},
     "output_type": "execute_result"
    }
   ],
   "source": [
    "healthy"
   ]
  },
  {
   "cell_type": "markdown",
   "id": "strategic-functionality",
   "metadata": {},
   "source": [
    "## We need to do a little bit of processing on the data set because of the new feature"
   ]
  },
  {
   "cell_type": "code",
   "execution_count": 970,
   "id": "further-monitor",
   "metadata": {},
   "outputs": [
    {
     "data": {
      "text/html": [
       "<div>\n",
       "<style scoped>\n",
       "    .dataframe tbody tr th:only-of-type {\n",
       "        vertical-align: middle;\n",
       "    }\n",
       "\n",
       "    .dataframe tbody tr th {\n",
       "        vertical-align: top;\n",
       "    }\n",
       "\n",
       "    .dataframe thead th {\n",
       "        text-align: right;\n",
       "    }\n",
       "</style>\n",
       "<table border=\"1\" class=\"dataframe\">\n",
       "  <thead>\n",
       "    <tr style=\"text-align: right;\">\n",
       "      <th></th>\n",
       "      <th>calories</th>\n",
       "      <th>fat</th>\n",
       "      <th>sodium</th>\n",
       "      <th>protein</th>\n",
       "      <th>winter</th>\n",
       "      <th>spring</th>\n",
       "      <th>summer</th>\n",
       "      <th>fall</th>\n",
       "      <th>peanut free</th>\n",
       "      <th>bake</th>\n",
       "      <th>#cakeweek</th>\n",
       "      <th>22-minute meals</th>\n",
       "      <th>rating</th>\n",
       "      <th>healthy</th>\n",
       "    </tr>\n",
       "  </thead>\n",
       "  <tbody>\n",
       "    <tr>\n",
       "      <th>4848</th>\n",
       "      <td>0.0</td>\n",
       "      <td>0.0</td>\n",
       "      <td>0.0</td>\n",
       "      <td>0.0</td>\n",
       "      <td>0.0</td>\n",
       "      <td>0.0</td>\n",
       "      <td>0.0</td>\n",
       "      <td>0.0</td>\n",
       "      <td>0.0</td>\n",
       "      <td>0.0</td>\n",
       "      <td>0.0</td>\n",
       "      <td>0.0</td>\n",
       "      <td>5.0</td>\n",
       "      <td>NaN</td>\n",
       "    </tr>\n",
       "    <tr>\n",
       "      <th>6669</th>\n",
       "      <td>0.0</td>\n",
       "      <td>0.0</td>\n",
       "      <td>0.0</td>\n",
       "      <td>0.0</td>\n",
       "      <td>0.0</td>\n",
       "      <td>0.0</td>\n",
       "      <td>0.0</td>\n",
       "      <td>0.0</td>\n",
       "      <td>0.0</td>\n",
       "      <td>0.0</td>\n",
       "      <td>0.0</td>\n",
       "      <td>0.0</td>\n",
       "      <td>0.0</td>\n",
       "      <td>NaN</td>\n",
       "    </tr>\n",
       "  </tbody>\n",
       "</table>\n",
       "</div>"
      ],
      "text/plain": [
       "      calories  fat  sodium  protein  winter  spring  summer  fall  \\\n",
       "4848       0.0  0.0     0.0      0.0     0.0     0.0     0.0   0.0   \n",
       "6669       0.0  0.0     0.0      0.0     0.0     0.0     0.0   0.0   \n",
       "\n",
       "      peanut free  bake  #cakeweek  22-minute meals  rating  healthy  \n",
       "4848          0.0   0.0        0.0              0.0     5.0      NaN  \n",
       "6669          0.0   0.0        0.0              0.0     0.0      NaN  "
      ]
     },
     "execution_count": 970,
     "metadata": {},
     "output_type": "execute_result"
    }
   ],
   "source": [
    "df[df['healthy'].isnull()]"
   ]
  },
  {
   "cell_type": "markdown",
   "id": "conceptual-hopkins",
   "metadata": {},
   "source": [
    "#### Need to get rid of any 'healthy' NaNs.  After running this rerunning the last cell confirms the drop."
   ]
  },
  {
   "cell_type": "code",
   "execution_count": 971,
   "id": "described-estonia",
   "metadata": {},
   "outputs": [],
   "source": [
    "df = df.dropna()"
   ]
  },
  {
   "cell_type": "markdown",
   "id": "chicken-estate",
   "metadata": {},
   "source": [
    "### There are 20 instances with value inf for healthy, which need to be dropped."
   ]
  },
  {
   "cell_type": "code",
   "execution_count": 972,
   "id": "military-oxide",
   "metadata": {},
   "outputs": [],
   "source": [
    "infinite_health = df.iloc[df.values==np.inf]"
   ]
  },
  {
   "cell_type": "code",
   "execution_count": 973,
   "id": "correct-airfare",
   "metadata": {},
   "outputs": [],
   "source": [
    "df = df.drop(infinite_health.index)"
   ]
  },
  {
   "cell_type": "markdown",
   "id": "initial-pierce",
   "metadata": {},
   "source": [
    "## The histogram for healthy."
   ]
  },
  {
   "cell_type": "code",
   "execution_count": 974,
   "id": "preliminary-terror",
   "metadata": {},
   "outputs": [
    {
     "data": {
      "text/plain": [
       "<AxesSubplot:>"
      ]
     },
     "execution_count": 974,
     "metadata": {},
     "output_type": "execute_result"
    },
    {
     "data": {
      "image/png": "[encoded data removed]",
      "text/plain": [
       "<Figure size 432x288 with 1 Axes>"
      ]
     },
     "metadata": {
      "needs_background": "light"
     },
     "output_type": "display_data"
    }
   ],
   "source": [
    "df['healthy'].hist()"
   ]
  },
  {
   "cell_type": "markdown",
   "id": "alive-fraction",
   "metadata": {},
   "source": [
    "## Creating new splits from the processed data in df and training with the new feature."
   ]
  },
  {
   "cell_type": "code",
   "execution_count": 975,
   "id": "inappropriate-poker",
   "metadata": {},
   "outputs": [],
   "source": [
    "xList_h = ['fat','calories','protein','sodium','bake','peanut free', 'healthy'] \n",
    "yList_h = ['rating','#cakeweek','22-minute meals', 'winter','spring','summer','fall']"
   ]
  },
  {
   "cell_type": "code",
   "execution_count": 976,
   "id": "unlikely-uruguay",
   "metadata": {},
   "outputs": [],
   "source": [
    "trainX_h, testX_h, trainY_h, testY_h = train_test_split(df[xList_h], df[yList_h], train_size = 0.8, \n",
    "                                                          test_size = 0.2, \n",
    "                                                          random_state = 100)"
   ]
  },
  {
   "cell_type": "markdown",
   "id": "institutional-tissue",
   "metadata": {},
   "source": [
    "# Scale"
   ]
  },
  {
   "cell_type": "markdown",
   "id": "nasty-flexibility",
   "metadata": {},
   "source": [
    "#### Scale training X"
   ]
  },
  {
   "cell_type": "code",
   "execution_count": 977,
   "id": "biblical-opportunity",
   "metadata": {},
   "outputs": [
    {
     "data": {
      "text/html": [
       "<div>\n",
       "<style scoped>\n",
       "    .dataframe tbody tr th:only-of-type {\n",
       "        vertical-align: middle;\n",
       "    }\n",
       "\n",
       "    .dataframe tbody tr th {\n",
       "        vertical-align: top;\n",
       "    }\n",
       "\n",
       "    .dataframe thead th {\n",
       "        text-align: right;\n",
       "    }\n",
       "</style>\n",
       "<table border=\"1\" class=\"dataframe\">\n",
       "  <thead>\n",
       "    <tr style=\"text-align: right;\">\n",
       "      <th></th>\n",
       "      <th>0</th>\n",
       "      <th>1</th>\n",
       "      <th>2</th>\n",
       "      <th>3</th>\n",
       "      <th>4</th>\n",
       "      <th>5</th>\n",
       "      <th>6</th>\n",
       "    </tr>\n",
       "  </thead>\n",
       "  <tbody>\n",
       "    <tr>\n",
       "      <th>0</th>\n",
       "      <td>0.057432</td>\n",
       "      <td>0.056002</td>\n",
       "      <td>0.039146</td>\n",
       "      <td>0.042242</td>\n",
       "      <td>0.0</td>\n",
       "      <td>1.0</td>\n",
       "      <td>0.039266</td>\n",
       "    </tr>\n",
       "    <tr>\n",
       "      <th>1</th>\n",
       "      <td>0.131757</td>\n",
       "      <td>0.089723</td>\n",
       "      <td>0.067616</td>\n",
       "      <td>0.203203</td>\n",
       "      <td>1.0</td>\n",
       "      <td>1.0</td>\n",
       "      <td>0.067706</td>\n",
       "    </tr>\n",
       "    <tr>\n",
       "      <th>2</th>\n",
       "      <td>0.027027</td>\n",
       "      <td>0.023685</td>\n",
       "      <td>0.035587</td>\n",
       "      <td>0.088889</td>\n",
       "      <td>0.0</td>\n",
       "      <td>1.0</td>\n",
       "      <td>0.035635</td>\n",
       "    </tr>\n",
       "    <tr>\n",
       "      <th>3</th>\n",
       "      <td>0.003378</td>\n",
       "      <td>0.039141</td>\n",
       "      <td>0.007117</td>\n",
       "      <td>0.000400</td>\n",
       "      <td>0.0</td>\n",
       "      <td>1.0</td>\n",
       "      <td>0.007135</td>\n",
       "    </tr>\n",
       "    <tr>\n",
       "      <th>4</th>\n",
       "      <td>0.010135</td>\n",
       "      <td>0.035929</td>\n",
       "      <td>0.017794</td>\n",
       "      <td>0.013013</td>\n",
       "      <td>1.0</td>\n",
       "      <td>0.0</td>\n",
       "      <td>0.017836</td>\n",
       "    </tr>\n",
       "    <tr>\n",
       "      <th>...</th>\n",
       "      <td>...</td>\n",
       "      <td>...</td>\n",
       "      <td>...</td>\n",
       "      <td>...</td>\n",
       "      <td>...</td>\n",
       "      <td>...</td>\n",
       "      <td>...</td>\n",
       "    </tr>\n",
       "    <tr>\n",
       "      <th>11327</th>\n",
       "      <td>0.121622</td>\n",
       "      <td>0.074669</td>\n",
       "      <td>0.039146</td>\n",
       "      <td>0.007407</td>\n",
       "      <td>0.0</td>\n",
       "      <td>0.0</td>\n",
       "      <td>0.039456</td>\n",
       "    </tr>\n",
       "    <tr>\n",
       "      <th>11328</th>\n",
       "      <td>0.037162</td>\n",
       "      <td>0.081092</td>\n",
       "      <td>0.174377</td>\n",
       "      <td>0.035035</td>\n",
       "      <td>0.0</td>\n",
       "      <td>0.0</td>\n",
       "      <td>0.174432</td>\n",
       "    </tr>\n",
       "    <tr>\n",
       "      <th>11329</th>\n",
       "      <td>0.050676</td>\n",
       "      <td>0.060819</td>\n",
       "      <td>0.035587</td>\n",
       "      <td>0.027828</td>\n",
       "      <td>0.0</td>\n",
       "      <td>1.0</td>\n",
       "      <td>0.035705</td>\n",
       "    </tr>\n",
       "    <tr>\n",
       "      <th>11330</th>\n",
       "      <td>0.010135</td>\n",
       "      <td>0.013047</td>\n",
       "      <td>0.007117</td>\n",
       "      <td>0.004004</td>\n",
       "      <td>0.0</td>\n",
       "      <td>0.0</td>\n",
       "      <td>0.007243</td>\n",
       "    </tr>\n",
       "    <tr>\n",
       "      <th>11331</th>\n",
       "      <td>0.864865</td>\n",
       "      <td>0.510438</td>\n",
       "      <td>0.149466</td>\n",
       "      <td>0.071271</td>\n",
       "      <td>0.0</td>\n",
       "      <td>1.0</td>\n",
       "      <td>0.149769</td>\n",
       "    </tr>\n",
       "  </tbody>\n",
       "</table>\n",
       "<p>11332 rows × 7 columns</p>\n",
       "</div>"
      ],
      "text/plain": [
       "              0         1         2         3    4    5         6\n",
       "0      0.057432  0.056002  0.039146  0.042242  0.0  1.0  0.039266\n",
       "1      0.131757  0.089723  0.067616  0.203203  1.0  1.0  0.067706\n",
       "2      0.027027  0.023685  0.035587  0.088889  0.0  1.0  0.035635\n",
       "3      0.003378  0.039141  0.007117  0.000400  0.0  1.0  0.007135\n",
       "4      0.010135  0.035929  0.017794  0.013013  1.0  0.0  0.017836\n",
       "...         ...       ...       ...       ...  ...  ...       ...\n",
       "11327  0.121622  0.074669  0.039146  0.007407  0.0  0.0  0.039456\n",
       "11328  0.037162  0.081092  0.174377  0.035035  0.0  0.0  0.174432\n",
       "11329  0.050676  0.060819  0.035587  0.027828  0.0  1.0  0.035705\n",
       "11330  0.010135  0.013047  0.007117  0.004004  0.0  0.0  0.007243\n",
       "11331  0.864865  0.510438  0.149466  0.071271  0.0  1.0  0.149769\n",
       "\n",
       "[11332 rows x 7 columns]"
      ]
     },
     "execution_count": 977,
     "metadata": {},
     "output_type": "execute_result"
    }
   ],
   "source": [
    "scaler = MaxAbsScaler().fit(trainX_h)\n",
    "scaled_data = scaler.transform(trainX_h)\n",
    "sdf1_h = pd.DataFrame(scaled_data)\n",
    "sdf1_h"
   ]
  },
  {
   "cell_type": "markdown",
   "id": "colored-sister",
   "metadata": {},
   "source": [
    "#### Scale test X"
   ]
  },
  {
   "cell_type": "code",
   "execution_count": 978,
   "id": "continued-excellence",
   "metadata": {},
   "outputs": [],
   "source": [
    "scaler_test = MaxAbsScaler().fit(testX_h)\n",
    "scaled_data_test = scaler_test.transform(testX_h)\n",
    "sdf2_h = pd.DataFrame(scaled_data_test)"
   ]
  },
  {
   "cell_type": "markdown",
   "id": "false-antibody",
   "metadata": {},
   "source": [
    "## Pearson coefficient for 'healthy', 'rating'"
   ]
  },
  {
   "cell_type": "code",
   "execution_count": 979,
   "id": "suffering-indie",
   "metadata": {},
   "outputs": [],
   "source": [
    "healthy_r = sp.stats.pearsonr(trainX_h['healthy'], trainY_h['rating'])"
   ]
  },
  {
   "cell_type": "code",
   "execution_count": 980,
   "id": "scenic-george",
   "metadata": {},
   "outputs": [
    {
     "data": {
      "text/plain": [
       "0.11175401456317735"
      ]
     },
     "execution_count": 980,
     "metadata": {},
     "output_type": "execute_result"
    }
   ],
   "source": [
    "healthy_r[0]"
   ]
  },
  {
   "cell_type": "markdown",
   "id": "weekly-packing",
   "metadata": {},
   "source": [
    "### Not highly correlated, but not surprising, becuase the goal was to create a feature 'healthy' and then see how correlated it was, rather than trying to create any   feature that might be more correlated with rating. I wonder if a feature called 'unhealthy' might have been more likely to lead to a high rating?  "
   ]
  },
  {
   "cell_type": "markdown",
   "id": "hollywood-indian",
   "metadata": {},
   "source": [
    "# Prediction with healthy"
   ]
  },
  {
   "cell_type": "code",
   "execution_count": 981,
   "id": "instant-baghdad",
   "metadata": {
    "colab": {
     "base_uri": "https://localhost:8080/",
     "height": 157
    },
    "id": "Pwcl9Ud1v0im",
    "outputId": "73350a6b-1370-4b79-c29a-ad562be497e2"
   },
   "outputs": [
    {
     "data": {
      "text/plain": [
       "LogisticRegression()"
      ]
     },
     "execution_count": 981,
     "metadata": {},
     "output_type": "execute_result"
    }
   ],
   "source": [
    "pnf_h = sdf1_h[6].values.reshape(-1,1)\n",
    "X_h = pnf_h\n",
    "Y_h = trainY_h['winter']\n",
    "\n",
    "# Split the dataset (569 instances) into the training set (70%) and testing (30%)\n",
    "# random_state Controls the shuffling applied to the data before applying the split. \n",
    "# Pass an int for reproducible output across multiple function calls.\n",
    "#X_train, X_test, Y_train, Y_test = train_test_split(X, Y, test_size = 0.30, random_state = 0)\n",
    "\n",
    "# Perform logistic regression for the binary output\n",
    "healthy_classifier = LogisticRegression()\n",
    "healthy_classifier.fit(X_h, Y_h)"
   ]
  },
  {
   "cell_type": "markdown",
   "id": "developed-wisdom",
   "metadata": {},
   "source": [
    "# Confusion matrix"
   ]
  },
  {
   "cell_type": "code",
   "execution_count": 982,
   "id": "funky-natural",
   "metadata": {},
   "outputs": [
    {
     "name": "stdout",
     "output_type": "stream",
     "text": [
      "#Total cases (14165, 14)\n",
      "#Training and testing cases (11332, 7) (2833, 7)\n",
      "Confusion matrix:\n"
     ]
    },
    {
     "data": {
      "text/html": [
       "<div>\n",
       "<style scoped>\n",
       "    .dataframe tbody tr th:only-of-type {\n",
       "        vertical-align: middle;\n",
       "    }\n",
       "\n",
       "    .dataframe tbody tr th {\n",
       "        vertical-align: top;\n",
       "    }\n",
       "\n",
       "    .dataframe thead th {\n",
       "        text-align: right;\n",
       "    }\n",
       "</style>\n",
       "<table border=\"1\" class=\"dataframe\">\n",
       "  <thead>\n",
       "    <tr style=\"text-align: right;\">\n",
       "      <th></th>\n",
       "      <th>0</th>\n",
       "      <th>1</th>\n",
       "    </tr>\n",
       "  </thead>\n",
       "  <tbody>\n",
       "    <tr>\n",
       "      <th>0</th>\n",
       "      <td>2397</td>\n",
       "      <td>4</td>\n",
       "    </tr>\n",
       "    <tr>\n",
       "      <th>1</th>\n",
       "      <td>432</td>\n",
       "      <td>0</td>\n",
       "    </tr>\n",
       "  </tbody>\n",
       "</table>\n",
       "</div>"
      ],
      "text/plain": [
       "      0  1\n",
       "0  2397  4\n",
       "1   432  0"
      ]
     },
     "execution_count": 982,
     "metadata": {},
     "output_type": "execute_result"
    }
   ],
   "source": [
    "Y_pred_h = healthy_classifier.predict(sdf2_h[6].values.reshape(-1,1)) \n",
    "labels = [0, 1]\n",
    "cm_h = confusion_matrix(testY_h['winter'], Y_pred_h, labels=labels)\n",
    "\n",
    "print ('#Total cases', df.shape)\n",
    "print ('#Training and testing cases', sdf1_h.shape, sdf2_h.shape)\n",
    "print ('Confusion matrix:')\n",
    "pd.DataFrame(cm_h, index=labels, columns=labels)"
   ]
  },
  {
   "cell_type": "code",
   "execution_count": 983,
   "id": "abandoned-payment",
   "metadata": {},
   "outputs": [
    {
     "name": "stdout",
     "output_type": "stream",
     "text": [
      "Precision: 0.0\n",
      "Recall: 0.0\n"
     ]
    }
   ],
   "source": [
    "print('Precision:',precision_score(testY_h['winter'],Y_pred_h, pos_label=1))\n",
    "print('Recall:',recall_score(testY_h['winter'],Y_pred_h, pos_label=1))"
   ]
  },
  {
   "cell_type": "markdown",
   "id": "dental-uzbekistan",
   "metadata": {},
   "source": [
    "### Not a very good classifier."
   ]
  },
  {
   "cell_type": "markdown",
   "id": "combined-charter",
   "metadata": {},
   "source": [
    "# Analysis/Reflections "
   ]
  },
  {
   "cell_type": "markdown",
   "id": "superb-committee",
   "metadata": {},
   "source": [
    "### I was not able to create an LR model that was a good predictor on this data. The sparseness of the data proved to be a real problem.  For instance, when I was attempting to predict '#cakeweek' and '22-minute meals' there were few to no instances in the test and training data that had a value of 1, so the model underfit.\n",
    "\n",
    "### One very interesting part of the lab was discovering the difference that the MaxAbsScaler, which uses the largest absolute value of a feature's values to scale that feature.  Doing so caused a non-classifying model to classify a little, but also led to greater dimensionality reduction.   \n",
    " \n",
    "### I wondered if the problem with 'healthy' was that it was created from all four of the nutrition features, even though not all of them are highly correlated with 'rating', but as in the California Hoousing Data example, it seems like it is generally a possiblilty to create a more highly correlated feature from multiple features that are not highly correlated with the target.\n",
    "\n",
    "### One thing I decided notto include that I mentioned earlier was that I got not good but better classification results when I fit the LR model to the feature 'calories', predicting 'winter', and then predicted on the test set's 'bake' feature.  I imagine that the seemingly-improved performance was just a ghost becuase I would imagine that predicting on a different feature than you trained a regressor on would be meaningless with unpredictable results.  "
   ]
  }
 ],
 "metadata": {
  "kernelspec": {
   "display_name": "aml",
   "language": "python",
   "name": "aml"
  },
  "language_info": {
   "codemirror_mode": {
    "name": "ipython",
    "version": 3
   },
   "file_extension": ".py",
   "mimetype": "text/x-python",
   "name": "python",
   "nbconvert_exporter": "python",
   "pygments_lexer": "ipython3",
   "version": "3.6.5"
  }
 },
 "nbformat": 4,
 "nbformat_minor": 5
}
