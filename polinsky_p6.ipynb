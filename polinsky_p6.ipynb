{
 "cells": [
  {
   "cell_type": "markdown",
   "id": "altered-aquatic",
   "metadata": {},
   "source": [
    "### Author: Michael Polinsky"
   ]
  },
  {
   "cell_type": "markdown",
   "id": "analyzed-appliance",
   "metadata": {},
   "source": [
    "# Project 6: ANNs and Fetal Heart Monitoring"
   ]
  },
  {
   "cell_type": "code",
   "execution_count": 1,
   "id": "twenty-convertible",
   "metadata": {},
   "outputs": [],
   "source": [
    "import pandas as pd\n",
    "import numpy as np\n",
    "import seaborn as sbn\n",
    "\n",
    "from numpy import where\n",
    "\n",
    "import matplotlib as mpl\n",
    "import matplotlib.pyplot as plt\n",
    "from matplotlib.ticker import FixedLocator, FixedFormatter\n",
    "\n",
    "\n",
    "\n",
    "from sklearn.model_selection import train_test_split, cross_val_score, cross_val_predict, GridSearchCV, KFold, StratifiedKFold\n",
    "from sklearn.ensemble import ExtraTreesClassifier\n",
    "from sklearn.metrics import confusion_matrix, classification_report, accuracy_score, silhouette_score, silhouette_samples\n",
    "from sklearn.tree import DecisionTreeClassifier, export_text, export_graphviz\n",
    "from sklearn.svm import SVC, LinearSVC\n",
    "from sklearn.cluster import KMeans, DBSCAN\n",
    "\n",
    "from keras.wrappers.scikit_learn import KerasClassifier\n",
    "from sklearn.preprocessing import StandardScaler, OrdinalEncoder, MinMaxScaler, OneHotEncoder, binarize\n",
    "\n",
    "import tensorflow as tf\n",
    "from tensorflow import keras\n",
    "from tensorflow.keras import layers\n",
    "from keras.layers import Dense, Dropout, Flatten"
   ]
  },
  {
   "cell_type": "markdown",
   "id": "spectacular-batman",
   "metadata": {},
   "source": [
    "### Importing the data from github"
   ]
  },
  {
   "cell_type": "code",
   "execution_count": 233,
   "id": "economic-hybrid",
   "metadata": {},
   "outputs": [],
   "source": [
    "df = pd.read_csv(\"https://raw.githubusercontent.com/mpolinsky/AML/main/fetal_health.csv\")"
   ]
  },
  {
   "cell_type": "code",
   "execution_count": 3,
   "id": "veterinary-prospect",
   "metadata": {},
   "outputs": [
    {
     "name": "stdout",
     "output_type": "stream",
     "text": [
      "<class 'pandas.core.frame.DataFrame'>\n",
      "RangeIndex: 2126 entries, 0 to 2125\n",
      "Data columns (total 22 columns):\n",
      " #   Column                                                  Non-Null Count  Dtype  \n",
      "---  ------                                                  --------------  -----  \n",
      " 0   baseline value                                          2126 non-null   float64\n",
      " 1   accelerations                                           2126 non-null   float64\n",
      " 2   fetal_movement                                          2126 non-null   float64\n",
      " 3   uterine_contractions                                    2126 non-null   float64\n",
      " 4   light_decelerations                                     2126 non-null   float64\n",
      " 5   severe_decelerations                                    2126 non-null   float64\n",
      " 6   prolongued_decelerations                                2126 non-null   float64\n",
      " 7   abnormal_short_term_variability                         2126 non-null   float64\n",
      " 8   mean_value_of_short_term_variability                    2126 non-null   float64\n",
      " 9   percentage_of_time_with_abnormal_long_term_variability  2126 non-null   float64\n",
      " 10  mean_value_of_long_term_variability                     2126 non-null   float64\n",
      " 11  histogram_width                                         2126 non-null   float64\n",
      " 12  histogram_min                                           2126 non-null   float64\n",
      " 13  histogram_max                                           2126 non-null   float64\n",
      " 14  histogram_number_of_peaks                               2126 non-null   float64\n",
      " 15  histogram_number_of_zeroes                              2126 non-null   float64\n",
      " 16  histogram_mode                                          2126 non-null   float64\n",
      " 17  histogram_mean                                          2126 non-null   float64\n",
      " 18  histogram_median                                        2126 non-null   float64\n",
      " 19  histogram_variance                                      2126 non-null   float64\n",
      " 20  histogram_tendency                                      2126 non-null   float64\n",
      " 21  fetal_health                                            2126 non-null   float64\n",
      "dtypes: float64(22)\n",
      "memory usage: 365.5 KB\n"
     ]
    }
   ],
   "source": [
    "df.info()"
   ]
  },
  {
   "cell_type": "markdown",
   "id": "classical-simpson",
   "metadata": {},
   "source": [
    "## 22 columns, all float64. \n",
    "## 11-20 are derived from a histogram\n",
    "## 21 is the target."
   ]
  },
  {
   "cell_type": "markdown",
   "id": "manual-future",
   "metadata": {},
   "source": [
    "### We have:\n",
    "\n",
    " - (baseline_value) fetal heart rate \n",
    " - (accelerations) number of accelerations per second (of the heart?)\n",
    " - (fetal_movement) Number of fetal movements per second\n",
    " - (uterine_contractions) Number of uterine contractions per second\n",
    " - (light_decelerations)  Number of LDs per second\n",
    " - (severe_decelerations) Number of SDs per second\n",
    " - (prolongued_decelerations) Number of PDs per second\n",
    " - (abnormal_short_term_variability) Percentage of time with abnormal short term variability\n",
    " - (mean_value_of_short_term_variability) Mean value of short term variability\n",
    " - (percentage_of_time_with_abnormal_long_term_variability) Percentage of time with abnormal long term variability\n",
    " - (mean_value_of_long_term_variability) Mean value of long term variability\n",
    " - (histogram_width) Width of the histogram made using all values from a record\n",
    " - (histogram_min) Histogram minimum value\n",
    " - (histogram_max) Histogram maximum value\n",
    " - (histogram_number_of_peaks) Number of peaks in the exam histogram\n",
    " - (histogram_number_of_zeroes) Number of zeroes in the exam histogram\n",
    " - (histogram_mode) hist mode\n",
    " - (histogram_mean) hist mean\n",
    " - (histogram_median) hist median\n",
    " - (histogram_variance) hist variance\n",
    " - (histogram_tendency) hist tendency \n",
    " - (fetal_health) 1. Normal 2. Suspect 3. Pathological"
   ]
  },
  {
   "cell_type": "markdown",
   "id": "protective-drunk",
   "metadata": {},
   "source": [
    "## After having difficulty with predicting 3 classes I decided to binarize the target, which I discuss more below.  I'm mentioning it here becuase I learned that binning can change correlation values, making some features appear more or less correlated.  The change is only due to the representation of the data, which will be essentially a lossier version of the original."
   ]
  },
  {
   "cell_type": "markdown",
   "id": "miniature-provincial",
   "metadata": {},
   "source": [
    "### The original target's correlation values"
   ]
  },
  {
   "cell_type": "code",
   "execution_count": 33,
   "id": "magnetic-casino",
   "metadata": {},
   "outputs": [
    {
     "data": {
      "text/plain": [
       "<AxesSubplot:>"
      ]
     },
     "execution_count": 33,
     "metadata": {},
     "output_type": "execute_result"
    },
    {
     "data": {
      "image/png": "[encoded data removed]",
      "text/plain": [
       "<Figure size 72x864 with 2 Axes>"
      ]
     },
     "metadata": {
      "needs_background": "light"
     },
     "output_type": "display_data"
    }
   ],
   "source": [
    "plt.figure(figsize=(1,12)) \n",
    "sbn.heatmap(pd.DataFrame(df.corr()['fetal_health']), cmap='cool', annot=True)"
   ]
  },
  {
   "cell_type": "markdown",
   "id": "representative-tomorrow",
   "metadata": {},
   "source": [
    "### The binarized target's values."
   ]
  },
  {
   "cell_type": "code",
   "execution_count": 35,
   "id": "cross-lighter",
   "metadata": {},
   "outputs": [
    {
     "data": {
      "text/plain": [
       "<AxesSubplot:>"
      ]
     },
     "execution_count": 35,
     "metadata": {},
     "output_type": "execute_result"
    },
    {
     "data": {
      "image/png": "[encoded data removed]",
      "text/plain": [
       "<Figure size 72x864 with 2 Axes>"
      ]
     },
     "metadata": {
      "needs_background": "light"
     },
     "output_type": "display_data"
    }
   ],
   "source": [
    "plt.figure(figsize=(1,12)) \n",
    "sbn.heatmap(pd.DataFrame(df.corr()['fetal_health']), cmap='cool', annot=True)"
   ]
  },
  {
   "cell_type": "markdown",
   "id": "russian-prayer",
   "metadata": {},
   "source": [
    "## I want to look more closely at the target.  How are the classes distributed?"
   ]
  },
  {
   "cell_type": "code",
   "execution_count": 234,
   "id": "egyptian-franchise",
   "metadata": {},
   "outputs": [
    {
     "data": {
      "text/plain": [
       "<AxesSubplot:xlabel='fetal_health', ylabel='count'>"
      ]
     },
     "execution_count": 234,
     "metadata": {},
     "output_type": "execute_result"
    },
    {
     "data": {
      "image/png": "[encoded data removed]",
      "text/plain": [
       "<Figure size 432x288 with 1 Axes>"
      ]
     },
     "metadata": {
      "needs_background": "light"
     },
     "output_type": "display_data"
    }
   ],
   "source": [
    "sbn.countplot(x=df.fetal_health, palette=\"pastel\")"
   ]
  },
  {
   "cell_type": "code",
   "execution_count": 235,
   "id": "indonesian-opening",
   "metadata": {},
   "outputs": [
    {
     "data": {
      "text/plain": [
       "1655"
      ]
     },
     "execution_count": 235,
     "metadata": {},
     "output_type": "execute_result"
    }
   ],
   "source": [
    "len(df[df.loc[:,'fetal_health']==1])"
   ]
  },
  {
   "cell_type": "code",
   "execution_count": 236,
   "id": "isolated-revision",
   "metadata": {},
   "outputs": [
    {
     "data": {
      "text/plain": [
       "295"
      ]
     },
     "execution_count": 236,
     "metadata": {},
     "output_type": "execute_result"
    }
   ],
   "source": [
    "len(df[df.loc[:,'fetal_health']==2])"
   ]
  },
  {
   "cell_type": "code",
   "execution_count": 237,
   "id": "stunning-oakland",
   "metadata": {},
   "outputs": [
    {
     "data": {
      "text/plain": [
       "176"
      ]
     },
     "execution_count": 237,
     "metadata": {},
     "output_type": "execute_result"
    }
   ],
   "source": [
    "len(df[df.loc[:,'fetal_health']==3])"
   ]
  },
  {
   "cell_type": "code",
   "execution_count": 238,
   "id": "latin-imaging",
   "metadata": {},
   "outputs": [
    {
     "data": {
      "text/plain": [
       "0.2845921450151057"
      ]
     },
     "execution_count": 238,
     "metadata": {},
     "output_type": "execute_result"
    }
   ],
   "source": [
    "( len(df[df.loc[:,'fetal_health']==3]) +  len(df[df.loc[:,'fetal_health']==2]) ) / len(df[df.loc[:,'fetal_health']==1])"
   ]
  },
  {
   "cell_type": "markdown",
   "id": "constitutional-spectacular",
   "metadata": {},
   "source": [
    "## 28% of target instances are in 2 of the classes, 72% in one class. That's quite uneven.  "
   ]
  },
  {
   "cell_type": "code",
   "execution_count": 241,
   "id": "talented-document",
   "metadata": {},
   "outputs": [
    {
     "data": {
      "text/plain": [
       "array([[<AxesSubplot:title={'center':'baseline value'}>,\n",
       "        <AxesSubplot:title={'center':'accelerations'}>,\n",
       "        <AxesSubplot:title={'center':'fetal_movement'}>,\n",
       "        <AxesSubplot:title={'center':'uterine_contractions'}>,\n",
       "        <AxesSubplot:title={'center':'light_decelerations'}>],\n",
       "       [<AxesSubplot:title={'center':'severe_decelerations'}>,\n",
       "        <AxesSubplot:title={'center':'prolongued_decelerations'}>,\n",
       "        <AxesSubplot:title={'center':'abnormal_short_term_variability'}>,\n",
       "        <AxesSubplot:title={'center':'mean_value_of_short_term_variability'}>,\n",
       "        <AxesSubplot:title={'center':'percentage_of_time_with_abnormal_long_term_variability'}>],\n",
       "       [<AxesSubplot:title={'center':'mean_value_of_long_term_variability'}>,\n",
       "        <AxesSubplot:title={'center':'histogram_width'}>,\n",
       "        <AxesSubplot:title={'center':'histogram_min'}>,\n",
       "        <AxesSubplot:title={'center':'histogram_max'}>,\n",
       "        <AxesSubplot:title={'center':'histogram_number_of_peaks'}>],\n",
       "       [<AxesSubplot:title={'center':'histogram_number_of_zeroes'}>,\n",
       "        <AxesSubplot:title={'center':'histogram_mode'}>,\n",
       "        <AxesSubplot:title={'center':'histogram_mean'}>,\n",
       "        <AxesSubplot:title={'center':'histogram_median'}>,\n",
       "        <AxesSubplot:title={'center':'histogram_variance'}>],\n",
       "       [<AxesSubplot:title={'center':'histogram_tendency'}>,\n",
       "        <AxesSubplot:title={'center':'fetal_health'}>, <AxesSubplot:>,\n",
       "        <AxesSubplot:>, <AxesSubplot:>]], dtype=object)"
      ]
     },
     "execution_count": 241,
     "metadata": {},
     "output_type": "execute_result"
    },
    {
     "data": {
      "image/png": "[encoded data removed]",
      "text/plain": [
       "<Figure size 1440x1080 with 25 Axes>"
      ]
     },
     "metadata": {
      "needs_background": "light"
     },
     "output_type": "display_data"
    }
   ],
   "source": [
    "df.hist(bins=50, figsize=(20,15))"
   ]
  },
  {
   "cell_type": "markdown",
   "id": "hidden-librarian",
   "metadata": {},
   "source": [
    "## I see several features that appear to have discrete values, possibly yes/no or values 1,2,3.  Some show some skewness but the StandardScaler should help."
   ]
  },
  {
   "cell_type": "markdown",
   "id": "severe-packet",
   "metadata": {},
   "source": [
    "## 137 records are 0 or about 6.5%.  I don't think that's enough to worry, and I don't have any reason to believe they're place-holders or missing values."
   ]
  },
  {
   "cell_type": "code",
   "execution_count": 242,
   "id": "industrial-tanzania",
   "metadata": {},
   "outputs": [
    {
     "data": {
      "text/plain": [
       "6.444026340545625"
      ]
     },
     "execution_count": 242,
     "metadata": {},
     "output_type": "execute_result"
    }
   ],
   "source": [
    "(len(df[df['mean_value_of_long_term_variability']==0]) / len(df['mean_value_of_long_term_variability'])) * 100"
   ]
  },
  {
   "cell_type": "markdown",
   "id": "close-arabic",
   "metadata": {},
   "source": [
    "# I binned the histogram values to cross tabulate each with the binarized target classes."
   ]
  },
  {
   "cell_type": "markdown",
   "id": "continuing-exhibit",
   "metadata": {},
   "source": [
    "## Rebin histogram measures where appropriate"
   ]
  },
  {
   "cell_type": "code",
   "execution_count": 250,
   "id": "conditional-naples",
   "metadata": {},
   "outputs": [],
   "source": [
    "bins = [0, 93, 133, 200]\n",
    "labels = ['0', '1', '2']\n",
    "df.loc[:,'binned_hist_mean'] = pd.cut(df.loc[:,'histogram_mean'], bins=bins, labels=labels, right=True)\n",
    "df.loc[:,'binned_hist_mean'] = df.loc[:,'binned_hist_mean'].astype(object)"
   ]
  },
  {
   "cell_type": "code",
   "execution_count": 251,
   "id": "catholic-damages",
   "metadata": {},
   "outputs": [],
   "source": [
    "bins = [0, 60, 120, 200]\n",
    "labels = ['0', '1', '2']\n",
    "df.loc[:,'binned_hist_width'] = pd.cut(df.loc[:,'histogram_width'], bins=bins, labels=labels, right=True)\n",
    "df.loc[:,'binned_hist_width'] = df.loc[:,'binned_hist_width'].astype(object)"
   ]
  },
  {
   "cell_type": "code",
   "execution_count": 252,
   "id": "rural-beauty",
   "metadata": {},
   "outputs": [],
   "source": [
    "bins = [0, 40, 80, 120, 160]\n",
    "labels = ['40', '80', '120', '160']\n",
    "df.loc[:,'binned_histogram_min'] = pd.cut(df.loc[:,'histogram_min'], bins=bins, labels=labels, right=True)\n",
    "df.loc[:,'binned_histogram_min'] = df.loc[:,'binned_histogram_min'].astype(object)"
   ]
  },
  {
   "cell_type": "code",
   "execution_count": 253,
   "id": "indirect-function",
   "metadata": {},
   "outputs": [],
   "source": [
    "bins = [0, 150, 180, 210, 300]\n",
    "labels = ['40', '80', '120', '160']\n",
    "df.loc[:,'binned_histogram_max'] = pd.cut(df.loc[:,'histogram_max'], bins=bins, labels=labels, right=True)\n",
    "df.loc[:,'binned_histogram_max'] = df.loc[:,'binned_histogram_max'].astype(object)"
   ]
  },
  {
   "cell_type": "code",
   "execution_count": 254,
   "id": "industrial-mystery",
   "metadata": {},
   "outputs": [],
   "source": [
    "bins = [0, 5, 10, 15, 21]\n",
    "labels = ['0', '1', '2', '3']\n",
    "df.loc[:,'binned_histogram_number_of_peaks'] = pd.cut(df.loc[:,'histogram_number_of_peaks'], bins=bins, labels=labels, right=True)\n",
    "df.loc[:,'binned_histogram_number_of_peaks'] = df.loc[:,'binned_histogram_number_of_peaks'].astype(object)"
   ]
  },
  {
   "cell_type": "code",
   "execution_count": 255,
   "id": "public-montana",
   "metadata": {},
   "outputs": [],
   "source": [
    "bins = [0, 50, 100, 150, 250]\n",
    "labels = ['0', '1', '2', '3']\n",
    "df.loc[:,'binned_histogram_mode'] = pd.cut(df.loc[:,'histogram_mode'], bins=bins, labels=labels, right=True)\n",
    "df.loc[:,'binned_histogram_mode'] = df.loc[:,'binned_histogram_mode'].astype(object)"
   ]
  },
  {
   "cell_type": "code",
   "execution_count": 256,
   "id": "spoken-decimal",
   "metadata": {},
   "outputs": [],
   "source": [
    "bins = [0, 50, 100, 150, 250]\n",
    "labels = ['0', '1', '2', '3']\n",
    "df.loc[:,'binned_histogram_median'] = pd.cut(df.loc[:,'histogram_median'], bins=bins, labels=labels, right=True)\n",
    "df.loc[:,'binned_histogram_median'] = df.loc[:,'binned_histogram_median'].astype(object)"
   ]
  },
  {
   "cell_type": "code",
   "execution_count": 257,
   "id": "single-luxury",
   "metadata": {},
   "outputs": [],
   "source": [
    "bins = [0, 10, 20, 30, 40, 50,1000]\n",
    "labels = ['0', '1', '2', '3', '4', '5']\n",
    "df.loc[:,'binned_histogram_variance'] = pd.cut(df.loc[:,'histogram_variance'], bins=bins, labels=labels, right=True)\n",
    "df.loc[:,'binned_histogram_variance'] = df.loc[:,'binned_histogram_variance'].astype(object)"
   ]
  },
  {
   "cell_type": "markdown",
   "id": "eastern-depression",
   "metadata": {},
   "source": [
    "## Cross tabulate"
   ]
  },
  {
   "cell_type": "code",
   "execution_count": 92,
   "id": "understood-campaign",
   "metadata": {},
   "outputs": [
    {
     "data": {
      "text/plain": [
       "<AxesSubplot:xlabel='bin_fetal_health'>"
      ]
     },
     "execution_count": 92,
     "metadata": {},
     "output_type": "execute_result"
    },
    {
     "data": {
      "image/png": "[encoded data removed]",
      "text/plain": [
       "<Figure size 864x360 with 4 Axes>"
      ]
     },
     "metadata": {
      "needs_background": "light"
     },
     "output_type": "display_data"
    }
   ],
   "source": [
    "figure, axes = plt.subplots(1, 4)\n",
    "\n",
    "ct0 = pd.crosstab(df['bin_fetal_health'], df['binned_hist_mean'])\n",
    "ct0.plot.bar(ax = axes[0],figsize=(12,5))\n",
    "\n",
    "ct1 = pd.crosstab(df['bin_fetal_health'], df['binned_hist_width'])\n",
    "ct1.plot.bar(ax = axes[1],figsize=(12,5))\n",
    "\n",
    "ct2 = pd.crosstab(df['bin_fetal_health'], df['binned_histogram_min'])\n",
    "ct2.plot.bar(ax = axes[2], figsize=(12,5))\n",
    "\n",
    "ct3 = pd.crosstab(df['bin_fetal_health'], df['binned_histogram_max'])\n",
    "ct3.plot.bar(ax = axes[3], figsize=(12,5))"
   ]
  },
  {
   "cell_type": "markdown",
   "id": "convenient-design",
   "metadata": {},
   "source": [
    "### There are some clear differences here but with so few labels for pathological or suspect cases vs healthy ones, it's a little tough to tell what part of these cross-tabulations show meaningful relationships.  I could say for the first graph, there don't seem to be any cases of binned-hist-mean = 0 for the 0 label, and that for the second graph there seem to be fewer cases of binned_hist_width = 2 for the 0 label than the 1.  Similarly, each of these features seems to vary in some way with the labels."
   ]
  },
  {
   "cell_type": "code",
   "execution_count": 94,
   "id": "thorough-charm",
   "metadata": {},
   "outputs": [
    {
     "data": {
      "text/plain": [
       "<AxesSubplot:xlabel='bin_fetal_health'>"
      ]
     },
     "execution_count": 94,
     "metadata": {},
     "output_type": "execute_result"
    },
    {
     "data": {
      "image/png": "[encoded data removed]",
      "text/plain": [
       "<Figure size 864x360 with 4 Axes>"
      ]
     },
     "metadata": {
      "needs_background": "light"
     },
     "output_type": "display_data"
    }
   ],
   "source": [
    "figure, axes = plt.subplots(1, 4)\n",
    "\n",
    "ct4 = pd.crosstab(df['bin_fetal_health'], df['binned_histogram_number_of_peaks'])\n",
    "ct4.plot.bar(ax = axes[0],figsize=(12,5))\n",
    "\n",
    "ct5 = pd.crosstab(df['bin_fetal_health'], df['binned_histogram_mode'])\n",
    "ct5.plot.bar(ax = axes[1],figsize=(12,5))\n",
    "\n",
    "ct6 = pd.crosstab(df['bin_fetal_health'], df['binned_histogram_median'])\n",
    "ct6.plot.bar(ax = axes[2], figsize=(12,5))\n",
    "\n",
    "ct7 = pd.crosstab(df['bin_fetal_health'], df['binned_histogram_variance'])\n",
    "ct7.plot.bar(ax = axes[3], figsize=(12,5))"
   ]
  },
  {
   "cell_type": "markdown",
   "id": "completed-conversion",
   "metadata": {},
   "source": [
    "### The same conclusion from above applies to these graphs, though I don't think binned_number_of_peaks shows any particular variation that's unique to the labels.  For all of these binned features, I would think that the method of binning can make a difference in how relevant the binned feature is.  I looked at the histogram of each feaure and decided how many bins to use, trying to keep it to 4 or 5 if it was reasonable."
   ]
  },
  {
   "cell_type": "markdown",
   "id": "champion-luxembourg",
   "metadata": {},
   "source": [
    "#"
   ]
  },
  {
   "cell_type": "markdown",
   "id": "satisfied-connecticut",
   "metadata": {},
   "source": [
    "## Resetting the data to drop those binned categories.  I experimented with using them to train the neural netowrks but they didn't seem to cause any improvement.  I'm also going to binarize the target to make this a simpler task for the network."
   ]
  },
  {
   "cell_type": "code",
   "execution_count": 2,
   "id": "present-prophet",
   "metadata": {},
   "outputs": [],
   "source": [
    "df = pd.read_csv(\"https://raw.githubusercontent.com/mpolinsky/AML/main/fetal_health.csv\")"
   ]
  },
  {
   "cell_type": "code",
   "execution_count": 172,
   "id": "literary-patio",
   "metadata": {},
   "outputs": [
    {
     "data": {
      "text/plain": [
       "<AxesSubplot:xlabel='fetal_health', ylabel='count'>"
      ]
     },
     "execution_count": 172,
     "metadata": {},
     "output_type": "execute_result"
    },
    {
     "data": {
      "image/png": "[encoded data removed]",
      "text/plain": [
       "<Figure size 432x288 with 1 Axes>"
      ]
     },
     "metadata": {
      "needs_background": "light"
     },
     "output_type": "display_data"
    }
   ],
   "source": [
    "sbn.countplot(x=df.fetal_health, palette=\"pastel\")"
   ]
  },
  {
   "cell_type": "code",
   "execution_count": 4,
   "id": "consistent-execution",
   "metadata": {},
   "outputs": [],
   "source": [
    "df.loc[:,'bin_fetal_health'] = binarize(df.loc[:,'fetal_health'].values.reshape(-1,1), threshold=1, copy=False)"
   ]
  },
  {
   "cell_type": "markdown",
   "id": "indian-furniture",
   "metadata": {},
   "source": [
    "## Here is the new binarized target.  Healthy is under label 0 and suspect/pathological goes under the label 1."
   ]
  },
  {
   "cell_type": "code",
   "execution_count": 25,
   "id": "editorial-government",
   "metadata": {},
   "outputs": [
    {
     "data": {
      "text/plain": [
       "<AxesSubplot:xlabel='bin_fetal_health', ylabel='count'>"
      ]
     },
     "execution_count": 25,
     "metadata": {},
     "output_type": "execute_result"
    },
    {
     "data": {
      "image/png": "[encoded data removed]",
      "text/plain": [
       "<Figure size 432x288 with 1 Axes>"
      ]
     },
     "metadata": {
      "needs_background": "light"
     },
     "output_type": "display_data"
    }
   ],
   "source": [
    "sbn.countplot(x=df.bin_fetal_health, palette=\"pastel\")"
   ]
  },
  {
   "cell_type": "markdown",
   "id": "enabling-franklin",
   "metadata": {},
   "source": [
    "## Create splits, scaling the data with a StandardScaler"
   ]
  },
  {
   "cell_type": "code",
   "execution_count": 6,
   "id": "diverse-increase",
   "metadata": {
    "tags": []
   },
   "outputs": [],
   "source": [
    "X = df.drop(columns=['fetal_health', 'bin_fetal_health'])\n",
    "Y = df.loc[:,'bin_fetal_health']\n",
    "X2 = df2.drop(columns=['fetal_health', 'bin_fetal_health'])\n",
    "Y2 = df2.loc[:,'bin_fetal_health'] "
   ]
  },
  {
   "cell_type": "code",
   "execution_count": 7,
   "id": "rural-monster",
   "metadata": {
    "tags": []
   },
   "outputs": [],
   "source": [
    "scaler = StandardScaler()\n",
    "scaled_X = scaler.fit_transform(X)\n",
    "\n",
    "\n",
    "trainX, testX, trainY, testY = train_test_split(scaled_X, Y, train_size = 0.80, \n",
    "                                                      test_size = 0.20,\n",
    "                                                      random_state = 101) \n",
    "\n",
    "trainX2, testX2, trainY2, testY2 = train_test_split(scaled_X, Y, train_size = 0.80, \n",
    "                                                      test_size = 0.20,\n",
    "                                                      random_state = 101) "
   ]
  },
  {
   "cell_type": "code",
   "execution_count": null,
   "id": "fleet-gibson",
   "metadata": {},
   "outputs": [],
   "source": []
  },
  {
   "cell_type": "markdown",
   "id": "sweet-count",
   "metadata": {},
   "source": [
    "# Model Training"
   ]
  },
  {
   "cell_type": "code",
   "execution_count": 274,
   "id": "developed-warrant",
   "metadata": {
    "id": "U9yZuzsKypHl",
    "tags": []
   },
   "outputs": [],
   "source": [
    "# train a network with one hidden layer (50 nodes) and one output node\n",
    "# too many hidden layers and nodes/hidden layer can cause overfitting\n",
    "# experiment with these parameters to better observe the model behavior\n",
    "model4 = keras.models.Sequential([keras.layers.Flatten(input_shape=[trainX.shape[1],]),\n",
    "                                     keras.layers.Dense(12, activation=\"relu\"), \n",
    "                                     keras.layers.Dense(30, activation=\"relu\"), \n",
    "                                     keras.layers.Dense(8, activation=\"relu\"), \n",
    "                                     keras.layers.Dense(2, activation=\"relu\"), \n",
    "                                     keras.layers.Dense(2, activation=\"relu\"), \n",
    "                                     keras.layers.Dense(1, activation=\"sigmoid\") ])\n"
   ]
  },
  {
   "cell_type": "code",
   "execution_count": 278,
   "id": "extended-newark",
   "metadata": {
    "colab": {
     "base_uri": "https://localhost:8080/"
    },
    "id": "xGQuyB32O5Nr",
    "outputId": "dc91293b-1abc-4e2a-87fd-c43fa1736373"
   },
   "outputs": [
    {
     "name": "stdout",
     "output_type": "stream",
     "text": [
      "Model: \"sequential_61\"\n",
      "_________________________________________________________________\n",
      "Layer (type)                 Output Shape              Param #   \n",
      "=================================================================\n",
      "flatten_61 (Flatten)         (None, 21)                0         \n",
      "_________________________________________________________________\n",
      "dense_442 (Dense)            (None, 12)                264       \n",
      "_________________________________________________________________\n",
      "dense_443 (Dense)            (None, 30)                390       \n",
      "_________________________________________________________________\n",
      "dense_444 (Dense)            (None, 8)                 248       \n",
      "_________________________________________________________________\n",
      "dense_445 (Dense)            (None, 2)                 18        \n",
      "_________________________________________________________________\n",
      "dense_446 (Dense)            (None, 2)                 6         \n",
      "_________________________________________________________________\n",
      "dense_447 (Dense)            (None, 1)                 3         \n",
      "=================================================================\n",
      "Total params: 929\n",
      "Trainable params: 929\n",
      "Non-trainable params: 0\n",
      "_________________________________________________________________\n"
     ]
    }
   ],
   "source": [
    "# lets examine the model architecture\n",
    "\n",
    "model4.summary()\n"
   ]
  },
  {
   "cell_type": "code",
   "execution_count": 275,
   "id": "functional-intake",
   "metadata": {
    "colab": {
     "base_uri": "https://localhost:8080/"
    },
    "id": "_kNIIt-ePSEh",
    "outputId": "a5419fc2-fe61-420d-c621-33daa585fcaa"
   },
   "outputs": [
    {
     "name": "stdout",
     "output_type": "stream",
     "text": [
      "dict_keys(['loss', 'accuracy', 'val_loss', 'val_accuracy'])\n"
     ]
    }
   ],
   "source": [
    "model4.compile(loss=\"binary_crossentropy\", optimizer=\"adam\", metrics=[\"accuracy\"])\n",
    "history4 = model4.fit(x=trainX, y=trainY, epochs=4500, batch_size=256, validation_data=(testX, testY), verbose=0)"
   ]
  },
  {
   "cell_type": "code",
   "execution_count": 276,
   "id": "further-microwave",
   "metadata": {
    "colab": {
     "base_uri": "https://localhost:8080/"
    },
    "id": "4WK0iy-owtIQ",
    "outputId": "81ff43ab-304e-4a42-c63c-b25dc5a57efe"
   },
   "outputs": [
    {
     "name": "stdout",
     "output_type": "stream",
     "text": [
      "              precision    recall  f1-score   support\n",
      "\n",
      "           0       0.89      1.00      0.94       330\n",
      "           1       0.98      0.58      0.73        96\n",
      "\n",
      "    accuracy                           0.90       426\n",
      "   macro avg       0.94      0.79      0.84       426\n",
      "weighted avg       0.91      0.90      0.89       426\n",
      "\n"
     ]
    },
    {
     "data": {
      "text/html": [
       "<div>\n",
       "<style scoped>\n",
       "    .dataframe tbody tr th:only-of-type {\n",
       "        vertical-align: middle;\n",
       "    }\n",
       "\n",
       "    .dataframe tbody tr th {\n",
       "        vertical-align: top;\n",
       "    }\n",
       "\n",
       "    .dataframe thead th {\n",
       "        text-align: right;\n",
       "    }\n",
       "</style>\n",
       "<table border=\"1\" class=\"dataframe\">\n",
       "  <thead>\n",
       "    <tr style=\"text-align: right;\">\n",
       "      <th></th>\n",
       "      <th>0</th>\n",
       "      <th>1</th>\n",
       "    </tr>\n",
       "  </thead>\n",
       "  <tbody>\n",
       "    <tr>\n",
       "      <th>0</th>\n",
       "      <td>329</td>\n",
       "      <td>1</td>\n",
       "    </tr>\n",
       "    <tr>\n",
       "      <th>1</th>\n",
       "      <td>40</td>\n",
       "      <td>56</td>\n",
       "    </tr>\n",
       "  </tbody>\n",
       "</table>\n",
       "</div>"
      ],
      "text/plain": [
       "     0   1\n",
       "0  329   1\n",
       "1   40  56"
      ]
     },
     "execution_count": 276,
     "metadata": {},
     "output_type": "execute_result"
    }
   ],
   "source": [
    "y_pred4 = (model4.predict(testX)).astype(\"int32\")\n",
    "\n",
    "cm4 = pd.DataFrame(confusion_matrix(testY, y_pred4))\n",
    "print(classification_report(testY, y_pred4, labels=[0, 1]))\n",
    "\n",
    "cm4"
   ]
  },
  {
   "cell_type": "markdown",
   "id": "incorporate-notice",
   "metadata": {},
   "source": [
    "# "
   ]
  },
  {
   "cell_type": "markdown",
   "id": "liked-tyler",
   "metadata": {},
   "source": [
    "## This graph shows a fairly big divergence in loss between training and validation.  The accuracy suggests overfitting."
   ]
  },
  {
   "cell_type": "code",
   "execution_count": 277,
   "id": "competent-philip",
   "metadata": {
    "colab": {
     "base_uri": "https://localhost:8080/",
     "height": 320
    },
    "id": "Y3LoWgp8Po5O",
    "outputId": "9c5e90e6-12cc-4daa-e2b7-a46b0206a3a2"
   },
   "outputs": [
    {
     "data": {
      "image/png": "[encoded data removed]",
      "text/plain": [
       "<Figure size 576x360 with 1 Axes>"
      ]
     },
     "metadata": {
      "needs_background": "light"
     },
     "output_type": "display_data"
    }
   ],
   "source": [
    "# plot model accuracy and loss during training\n",
    "pd.DataFrame(history4.history).plot(figsize=(8, 5))\n",
    "plt.grid(True)\n",
    "plt.show()\n"
   ]
  },
  {
   "cell_type": "markdown",
   "id": "coordinate-kentucky",
   "metadata": {},
   "source": [
    "#"
   ]
  },
  {
   "cell_type": "markdown",
   "id": "double-window",
   "metadata": {},
   "source": [
    "## Earlier in my experimenting I created the following network and it turned out to be the best one I created, however, I realized that I had committed an off-by-one error and binned healthy/suspect under label 0 and pathological under label 1.  I didn't plot the accuracy ploss values at the time but I thought I would share it because it was able to almost eliminate false negatives, which would be useful for the medical situation where this would be used, which is in deciding whether or not to perform a c-section.  \n",
    "### It also makes me wonder if the cases that were 'suspect' caused problems in the other binning, since the netowrk did so well on the pathological cases."
   ]
  },
  {
   "cell_type": "code",
   "execution_count": 19,
   "id": "correct-bundle",
   "metadata": {
    "id": "U9yZuzsKypHl"
   },
   "outputs": [],
   "source": [
    "model = keras.models.Sequential([\n",
    "        keras.layers.Flatten(input_shape=[trainX.shape[1],]),\n",
    "        keras.layers.Dense(12, activation=\"relu\"),\n",
    "        keras.layers.Dense(30, activation=\"relu\"),\n",
    "        keras.layers.Dense(20, activation=\"relu\"),\n",
    "        keras.layers.Dense(1, activation=\"sigmoid\")\n",
    "])"
   ]
  },
  {
   "cell_type": "code",
   "execution_count": 65,
   "id": "democratic-personality",
   "metadata": {
    "colab": {
     "base_uri": "https://localhost:8080/"
    },
    "id": "4WK0iy-owtIQ",
    "outputId": "81ff43ab-304e-4a42-c63c-b25dc5a57efe"
   },
   "outputs": [
    {
     "name": "stdout",
     "output_type": "stream",
     "text": [
      "[[385   5]\n",
      " [  6  30]]\n",
      "              precision    recall  f1-score   support\n",
      "\n",
      "           0       0.98      0.99      0.99       390\n",
      "           1       0.86      0.83      0.85        36\n",
      "\n",
      "    accuracy                           0.97       426\n",
      "   macro avg       0.92      0.91      0.92       426\n",
      "weighted avg       0.97      0.97      0.97       426\n",
      "\n"
     ]
    }
   ],
   "source": [
    "y_pred = (model.predict(testX)).astype(\"int32\")\n",
    "\n",
    "print(confusion_matrix(testY, y_pred))\n",
    "print(classification_report(testY, y_pred, labels=[0, 1]))"
   ]
  },
  {
   "cell_type": "markdown",
   "id": "generic-counter",
   "metadata": {},
   "source": [
    "# "
   ]
  },
  {
   "cell_type": "markdown",
   "id": "adjusted-howard",
   "metadata": {},
   "source": [
    "## For the following section I used a different model architecture from above but got better results.  It's one of the architectures that emerged from experimentation."
   ]
  },
  {
   "cell_type": "markdown",
   "id": "thick-chorus",
   "metadata": {
    "id": "YizHNPp5Am0B"
   },
   "source": [
    "# Hyperparameter Tuning"
   ]
  },
  {
   "cell_type": "markdown",
   "id": "israeli-brief",
   "metadata": {},
   "source": [
    "### This is the result of a grid search on the model below, searching different combinations of epochs and batch_size.  The best combination from the search was batch_size=256, epochs=4500.  In the model below I used 5500 epochs becuase a series of grid searches seemed to show that increasing the epochs would improve results and 4500 was just the highest value I'd tested.  Interestingly the batch_size went up and then back down as the epochs increased."
   ]
  },
  {
   "cell_type": "code",
   "execution_count": 229,
   "id": "promising-horizon",
   "metadata": {
    "colab": {
     "base_uri": "https://localhost:8080/"
    },
    "id": "IrtJ4suy8qKj",
    "outputId": "2beba5b1-769c-4eef-ffa3-c4febdf59ebe"
   },
   "outputs": [
    {
     "name": "stdout",
     "output_type": "stream",
     "text": [
      "Baseline accuracy: 93.18% (+/- 1.33%)\n"
     ]
    }
   ],
   "source": [
    "# cross validation in keras is somewhat different than in sklearn\n",
    "# create the sequential NN model\n",
    "def create_baseline():\n",
    "    model = keras.models.Sequential([keras.layers.Flatten(), \n",
    "                                     keras.layers.Dense(12, activation=\"relu\"),\n",
    "                                     keras.layers.Dense(40, activation=\"relu\"),\n",
    "                                     keras.layers.Dense(8, activation=\"relu\"),\n",
    "                                     keras.layers.Dense(8, activation=\"relu\"),\n",
    "                                     keras.layers.Dense(2, activation=\"relu\"),\n",
    "                                     keras.layers.Dense(1, activation=\"sigmoid\") ])\n",
    "    model.compile(loss='binary_crossentropy', optimizer='adam', metrics=['accuracy'])\n",
    "    return model\n",
    "\n",
    "\n",
    "# evaluate model with standardized dataset\n",
    "estimator = KerasClassifier(build_fn=create_baseline, epochs=5500, batch_size=256, verbose=0)\n",
    "\n",
    "# do a 3-fold CV on the entire dataset\n",
    "kfold = StratifiedKFold(n_splits=3, shuffle=True)\n",
    "results = cross_val_score(estimator, scaled_X, Y, cv=kfold)\n",
    "\n",
    "print(\"Baseline accuracy: %.2f%% (+/- %.2f%%)\" % (results.mean()*100, results.std()*100))\n",
    "\n"
   ]
  },
  {
   "cell_type": "code",
   "execution_count": 230,
   "id": "honey-kitchen",
   "metadata": {},
   "outputs": [
    {
     "name": "stdout",
     "output_type": "stream",
     "text": [
      "              precision    recall  f1-score   support\n",
      "\n",
      "           0       0.90      1.00      0.95       330\n",
      "           1       1.00      0.64      0.78        96\n",
      "\n",
      "    accuracy                           0.92       426\n",
      "   macro avg       0.95      0.82      0.86       426\n",
      "weighted avg       0.93      0.92      0.91       426\n",
      "\n"
     ]
    },
    {
     "data": {
      "text/html": [
       "<div>\n",
       "<style scoped>\n",
       "    .dataframe tbody tr th:only-of-type {\n",
       "        vertical-align: middle;\n",
       "    }\n",
       "\n",
       "    .dataframe tbody tr th {\n",
       "        vertical-align: top;\n",
       "    }\n",
       "\n",
       "    .dataframe thead th {\n",
       "        text-align: right;\n",
       "    }\n",
       "</style>\n",
       "<table border=\"1\" class=\"dataframe\">\n",
       "  <thead>\n",
       "    <tr style=\"text-align: right;\">\n",
       "      <th></th>\n",
       "      <th>0</th>\n",
       "      <th>1</th>\n",
       "    </tr>\n",
       "  </thead>\n",
       "  <tbody>\n",
       "    <tr>\n",
       "      <th>0</th>\n",
       "      <td>321</td>\n",
       "      <td>9</td>\n",
       "    </tr>\n",
       "    <tr>\n",
       "      <th>1</th>\n",
       "      <td>14</td>\n",
       "      <td>82</td>\n",
       "    </tr>\n",
       "  </tbody>\n",
       "</table>\n",
       "</div>"
      ],
      "text/plain": [
       "     0   1\n",
       "0  321   9\n",
       "1   14  82"
      ]
     },
     "execution_count": 230,
     "metadata": {},
     "output_type": "execute_result"
    }
   ],
   "source": [
    "nn_pred = (model.predict(testX) > 0.5).astype(\"int32\")\n",
    "nn_cm = confusion_matrix(y_true=testY, y_pred = nn_pred, labels = [0,1])\n",
    "cm0 = pd.DataFrame(nn_cm)\n",
    "print(classification_report(testY, y_pred, labels=[0,1]))\n",
    "cm0"
   ]
  },
  {
   "cell_type": "markdown",
   "id": "impaired-overhead",
   "metadata": {},
   "source": [
    "## This is the grid search.  I ran several to arrive at this particular combination of features to search but I wasn't able to search through activation functions or numbers of nodes or layers.  It does seem possible, though sometimes it seems that using keras models in an sklearn wrapper can be tricky."
   ]
  },
  {
   "cell_type": "markdown",
   "id": "quarterly-guest",
   "metadata": {},
   "source": [
    "### This code came from a github page that I found after a lot of searching, but I haven't been able to locate since.  Lesson: bookmark such resources in the future."
   ]
  },
  {
   "cell_type": "code",
   "execution_count": 293,
   "id": "intelligent-illinois",
   "metadata": {},
   "outputs": [
    {
     "name": "stdout",
     "output_type": "stream",
     "text": [
      "Best: 0.930588 using {'batch_size': 256, 'epochs': 4500}\n",
      "0.922353 (0.012423) with: {'batch_size': 256, 'epochs': 2500}\n",
      "0.930588 (0.009037) with: {'batch_size': 256, 'epochs': 4500}\n",
      "0.918824 (0.014361) with: {'batch_size': 512, 'epochs': 2500}\n",
      "0.915294 (0.015496) with: {'batch_size': 512, 'epochs': 4500}\n",
      "0.910588 (0.018377) with: {'batch_size': 1024, 'epochs': 2500}\n",
      "0.927647 (0.013491) with: {'batch_size': 1024, 'epochs': 4500}\n"
     ]
    }
   ],
   "source": [
    "# grid search epochs, batch size\n",
    "epochs = [2500, 4500] # add 50, 100, 150 etc\n",
    "batch_size = [256,512,1024] # add 5, 10, 20, 40, 60, 80, 100 etc\n",
    "param_grid = dict(epochs=epochs, batch_size=batch_size)\n",
    "##############################################################\n",
    "grid = GridSearchCV(estimator=estimator, param_grid=param_grid, n_jobs=-1)\n",
    "grid_result = grid.fit(trainX, trainY) \n",
    "##############################################################\n",
    "# summarize results\n",
    "print(\"Best: %f using %s\" % (grid_result.best_score_, grid_result.best_params_))\n",
    "means = grid_result.cv_results_['mean_test_score']\n",
    "stds = grid_result.cv_results_['std_test_score']\n",
    "params = grid_result.cv_results_['params']\n",
    "for mean, stdev, param in zip(means, stds, params):\n",
    "    print(\"%f (%f) with: %r\" % (mean, stdev, param))"
   ]
  },
  {
   "cell_type": "markdown",
   "id": "answering-finding",
   "metadata": {},
   "source": [
    "# "
   ]
  },
  {
   "cell_type": "markdown",
   "id": "brief-render",
   "metadata": {},
   "source": [
    "# Summary"
   ]
  },
  {
   "cell_type": "markdown",
   "id": "similar-foundation",
   "metadata": {},
   "source": [
    "### This task was about using keras neural networks on a set of data from fetal heart monitors.  I happen to live with my mother who is a recently retured pediatrician who has done these tests many times and was able to help me understand that these are done only during labor in cases where the mother or baby's health is already possibly at risk.  The target category 'pathological' means hypoxia, meaning that the baby isn't getting enough oxygen.  Unlike some medical uses for ML, the results of this test are used to make fairly immediate decisions about whether to proceed with a normal birth or perform a Caesarean section.  That procedure is not more unsafe than any routine surgical procedure but it may be something a mother wants to avoid for any number of reasons.  (Some women choose them in advance regardless of necessity.) The reason that matters is becuase I had to know what I was looking for in my model.  Due to an accident I originally got very good results separating out pathological cases (call them negative) with few false negatives and just a few false positives.  The problem is that false positives correspond to babies with hypoxia, for whom normal births are more dangerous, so really having minimal false positives would be a requirement for this to be used in delivery settings.  Additionally false negatives corespond to c-sections that might be unnecessary. When I rebinned the target so that the positve case corresponded to healthy and the negative to both suspect and pathological it was harder to get similar results to the first set of models.  That may have been due to the middle-ground nature of suspect cases.  \n",
    "\n",
    "### Last semester was my first experience with neural networks and I remember having a very difficult time with them.  This time was moderately better.  Two features of NNs that I think I've learned now are that the randomization of weights means that unless I set a seed, my network will not give reproducible results.  I do wonder if a better model would have results that stay within a more reasonable range than I saw from single models.  I also noticed that networks with different architectures could yield similar confusion matrices which is interesting, and I even got similar results to my all relu network with an all tanh network that used a different number of layers and more nodes per layer.\n",
    "\n",
    "### The grid search helped me to get the best results for the healthy vs suspect/pathological binarization and I just wish I could have gotten it to work for more parameters.\n",
    "\n",
    "### I also trained an extra trees classifier and an rbf- kernel SVM and was able to get to 90% classification accuracy on both binarizations, and the confusion matrices were in line with what I was getting from my nerual networks.  I made an attempt to use the KerasClassifier-wrapped nerual network with the scikit VotingClassifier but ran into a series of errors and decided it wasn't important to the assignment and left it for another day.  Still it seems possible and I hope to work that out.  Below are the ExtraTrees and rbf-SVM classifiers."
   ]
  },
  {
   "cell_type": "markdown",
   "id": "individual-knowing",
   "metadata": {},
   "source": [
    "# ExtraTrees and rbf-SVM"
   ]
  },
  {
   "cell_type": "code",
   "execution_count": 28,
   "id": "aggressive-collins",
   "metadata": {},
   "outputs": [],
   "source": [
    "def cross_validate_model(classifier_model, X, y):\n",
    "    kfold = KFold(n_splits=3, shuffle=True, random_state=10)\n",
    "\n",
    "    # perform model cross validation on the shuffled folds\n",
    "    results = cross_val_score(classifier_model, X, y, cv=kfold)\n",
    "\n",
    "    # return the mean score for all folds\n",
    "    return results.mean()"
   ]
  },
  {
   "cell_type": "markdown",
   "id": "tested-cutting",
   "metadata": {},
   "source": [
    "## Getting about 90% with XT"
   ]
  },
  {
   "cell_type": "code",
   "execution_count": 29,
   "id": "working-mainland",
   "metadata": {},
   "outputs": [],
   "source": [
    "xt_clf = ExtraTreesClassifier(n_estimators=1000,     \n",
    "                     criterion='gini',                     \n",
    "                     max_depth=None,                   \n",
    "                     n_jobs=None,                         \n",
    "                     random_state=None,                     \n",
    "                     verbose=0)                      "
   ]
  },
  {
   "cell_type": "code",
   "execution_count": 30,
   "id": "assisted-ontario",
   "metadata": {},
   "outputs": [
    {
     "name": "stdout",
     "output_type": "stream",
     "text": [
      "0.9341117156193716\n",
      "0.9154929577464789\n"
     ]
    }
   ],
   "source": [
    "xt_trn_score = cross_validate_model(xt_clf, trainX, trainY)\n",
    "xt_tst_score = cross_validate_model(xt_clf, testX, testY)\n",
    "print(xt_trn_score)\n",
    "print(xt_tst_score)"
   ]
  },
  {
   "cell_type": "code",
   "execution_count": 33,
   "id": "asian-syntax",
   "metadata": {},
   "outputs": [
    {
     "data": {
      "text/html": [
       "<div>\n",
       "<style scoped>\n",
       "    .dataframe tbody tr th:only-of-type {\n",
       "        vertical-align: middle;\n",
       "    }\n",
       "\n",
       "    .dataframe tbody tr th {\n",
       "        vertical-align: top;\n",
       "    }\n",
       "\n",
       "    .dataframe thead th {\n",
       "        text-align: right;\n",
       "    }\n",
       "</style>\n",
       "<table border=\"1\" class=\"dataframe\">\n",
       "  <thead>\n",
       "    <tr style=\"text-align: right;\">\n",
       "      <th></th>\n",
       "      <th>0</th>\n",
       "      <th>1</th>\n",
       "    </tr>\n",
       "  </thead>\n",
       "  <tbody>\n",
       "    <tr>\n",
       "      <th>0</th>\n",
       "      <td>72</td>\n",
       "      <td>24</td>\n",
       "    </tr>\n",
       "    <tr>\n",
       "      <th>1</th>\n",
       "      <td>7</td>\n",
       "      <td>323</td>\n",
       "    </tr>\n",
       "  </tbody>\n",
       "</table>\n",
       "</div>"
      ],
      "text/plain": [
       "    0    1\n",
       "0  72   24\n",
       "1   7  323"
      ]
     },
     "execution_count": 33,
     "metadata": {},
     "output_type": "execute_result"
    }
   ],
   "source": [
    "xt_pred = cross_val_predict(xt_clf, testX, testY, cv=3)\n",
    "xt_cm = confusion_matrix(y_true=testY, y_pred = xt_pred, labels = [1,0])\n",
    "cm1 = pd.DataFrame(xt_cm)\n",
    "cm1"
   ]
  },
  {
   "cell_type": "code",
   "execution_count": 34,
   "id": "dominican-backup",
   "metadata": {},
   "outputs": [
    {
     "name": "stdout",
     "output_type": "stream",
     "text": [
      "0.9346996050961499\n",
      "0.9178403755868545\n"
     ]
    }
   ],
   "source": [
    "xt_trn_score2 = cross_validate_model(xt_clf, trainX2, trainY2)\n",
    "xt_tst_score2 = cross_validate_model(xt_clf, testX2, testY2)\n",
    "print(xt_trn_score2)\n",
    "print(xt_tst_score2)"
   ]
  },
  {
   "cell_type": "code",
   "execution_count": 35,
   "id": "progressive-ocean",
   "metadata": {},
   "outputs": [
    {
     "data": {
      "text/html": [
       "<div>\n",
       "<style scoped>\n",
       "    .dataframe tbody tr th:only-of-type {\n",
       "        vertical-align: middle;\n",
       "    }\n",
       "\n",
       "    .dataframe tbody tr th {\n",
       "        vertical-align: top;\n",
       "    }\n",
       "\n",
       "    .dataframe thead th {\n",
       "        text-align: right;\n",
       "    }\n",
       "</style>\n",
       "<table border=\"1\" class=\"dataframe\">\n",
       "  <thead>\n",
       "    <tr style=\"text-align: right;\">\n",
       "      <th></th>\n",
       "      <th>0</th>\n",
       "      <th>1</th>\n",
       "    </tr>\n",
       "  </thead>\n",
       "  <tbody>\n",
       "    <tr>\n",
       "      <th>0</th>\n",
       "      <td>70</td>\n",
       "      <td>26</td>\n",
       "    </tr>\n",
       "    <tr>\n",
       "      <th>1</th>\n",
       "      <td>8</td>\n",
       "      <td>322</td>\n",
       "    </tr>\n",
       "  </tbody>\n",
       "</table>\n",
       "</div>"
      ],
      "text/plain": [
       "    0    1\n",
       "0  70   26\n",
       "1   8  322"
      ]
     },
     "execution_count": 35,
     "metadata": {},
     "output_type": "execute_result"
    }
   ],
   "source": [
    "xt_pred2 = cross_val_predict(xt_clf, testX2, testY2, cv=3)\n",
    "xt_cm2 = confusion_matrix(y_true=testY2, y_pred = xt_pred2, labels = [1,0])\n",
    "cm0 = pd.DataFrame(xt_cm2)\n",
    "cm0"
   ]
  },
  {
   "cell_type": "markdown",
   "id": "alleged-legend",
   "metadata": {},
   "source": [
    "## Getting about 88% with SVM/rbf"
   ]
  },
  {
   "cell_type": "code",
   "execution_count": 56,
   "id": "adaptive-immunology",
   "metadata": {},
   "outputs": [],
   "source": [
    "rbf_svc = SVC(kernel='poly',\n",
    "              C=100.0,  \n",
    "              degree=3,\n",
    "              gamma='auto', \n",
    "              max_iter=- 1, \n",
    "              decision_function_shape='ovr', \n",
    "              random_state=None,\n",
    "              verbose=10)\n",
    "\n",
    "# unscaled scores: \n",
    "#       0.9622496911306301\n",
    "#       0.9077509257374313"
   ]
  },
  {
   "cell_type": "code",
   "execution_count": 57,
   "id": "satellite-certification",
   "metadata": {},
   "outputs": [
    {
     "name": "stdout",
     "output_type": "stream",
     "text": [
      "[LibSVM][LibSVM][LibSVM][LibSVM][LibSVM][LibSVM]0.9164687992720971\n",
      "0.8873239436619719\n"
     ]
    }
   ],
   "source": [
    "rbf_trn_score = cross_validate_model(rbf_svc, trainX, trainY)\n",
    "rbf_tst_score = cross_validate_model(rbf_svc, testX, testY)\n",
    "print(rbf_trn_score)\n",
    "print(rbf_tst_score)"
   ]
  },
  {
   "cell_type": "code",
   "execution_count": 58,
   "id": "chronic-discrimination",
   "metadata": {},
   "outputs": [
    {
     "name": "stdout",
     "output_type": "stream",
     "text": [
      "[LibSVM][LibSVM][LibSVM]"
     ]
    },
    {
     "data": {
      "text/html": [
       "<div>\n",
       "<style scoped>\n",
       "    .dataframe tbody tr th:only-of-type {\n",
       "        vertical-align: middle;\n",
       "    }\n",
       "\n",
       "    .dataframe tbody tr th {\n",
       "        vertical-align: top;\n",
       "    }\n",
       "\n",
       "    .dataframe thead th {\n",
       "        text-align: right;\n",
       "    }\n",
       "</style>\n",
       "<table border=\"1\" class=\"dataframe\">\n",
       "  <thead>\n",
       "    <tr style=\"text-align: right;\">\n",
       "      <th></th>\n",
       "      <th>0</th>\n",
       "      <th>1</th>\n",
       "    </tr>\n",
       "  </thead>\n",
       "  <tbody>\n",
       "    <tr>\n",
       "      <th>0</th>\n",
       "      <td>72</td>\n",
       "      <td>24</td>\n",
       "    </tr>\n",
       "    <tr>\n",
       "      <th>1</th>\n",
       "      <td>23</td>\n",
       "      <td>307</td>\n",
       "    </tr>\n",
       "  </tbody>\n",
       "</table>\n",
       "</div>"
      ],
      "text/plain": [
       "    0    1\n",
       "0  72   24\n",
       "1  23  307"
      ]
     },
     "execution_count": 58,
     "metadata": {},
     "output_type": "execute_result"
    }
   ],
   "source": [
    "rbf_pred = cross_val_predict(rbf_svc, testX, testY, cv=3)\n",
    "rbf_cm = confusion_matrix(y_true=testY, y_pred = rbf_pred, labels = [1,0])\n",
    "cm2 = pd.DataFrame(rbf_cm)\n",
    "cm2"
   ]
  },
  {
   "cell_type": "code",
   "execution_count": 59,
   "id": "becoming-boundary",
   "metadata": {},
   "outputs": [
    {
     "name": "stdout",
     "output_type": "stream",
     "text": [
      "[LibSVM][LibSVM][LibSVM][LibSVM][LibSVM][LibSVM]0.9164687992720971\n",
      "0.8873239436619719\n"
     ]
    }
   ],
   "source": [
    "rbf_trn_score2 = cross_validate_model(rbf_svc, trainX2, trainY2)\n",
    "rbf_tst_score2 = cross_validate_model(rbf_svc, testX2, testY2)\n",
    "print(rbf_trn_score2)\n",
    "print(rbf_tst_score2)"
   ]
  },
  {
   "cell_type": "code",
   "execution_count": 60,
   "id": "serial-glenn",
   "metadata": {},
   "outputs": [
    {
     "name": "stdout",
     "output_type": "stream",
     "text": [
      "[LibSVM][LibSVM][LibSVM]"
     ]
    },
    {
     "data": {
      "text/html": [
       "<div>\n",
       "<style scoped>\n",
       "    .dataframe tbody tr th:only-of-type {\n",
       "        vertical-align: middle;\n",
       "    }\n",
       "\n",
       "    .dataframe tbody tr th {\n",
       "        vertical-align: top;\n",
       "    }\n",
       "\n",
       "    .dataframe thead th {\n",
       "        text-align: right;\n",
       "    }\n",
       "</style>\n",
       "<table border=\"1\" class=\"dataframe\">\n",
       "  <thead>\n",
       "    <tr style=\"text-align: right;\">\n",
       "      <th></th>\n",
       "      <th>0</th>\n",
       "      <th>1</th>\n",
       "    </tr>\n",
       "  </thead>\n",
       "  <tbody>\n",
       "    <tr>\n",
       "      <th>0</th>\n",
       "      <td>72</td>\n",
       "      <td>24</td>\n",
       "    </tr>\n",
       "    <tr>\n",
       "      <th>1</th>\n",
       "      <td>23</td>\n",
       "      <td>307</td>\n",
       "    </tr>\n",
       "  </tbody>\n",
       "</table>\n",
       "</div>"
      ],
      "text/plain": [
       "    0    1\n",
       "0  72   24\n",
       "1  23  307"
      ]
     },
     "execution_count": 60,
     "metadata": {},
     "output_type": "execute_result"
    }
   ],
   "source": [
    "rbf_pred2 = cross_val_predict(rbf_svc, testX2, testY2, cv=3)\n",
    "rbf_cm2 = confusion_matrix(y_true=testY2, y_pred = rbf_pred2, labels = [1,0])\n",
    "cm3 = pd.DataFrame(rbf_cm2)\n",
    "cm3"
   ]
  }
 ],
 "metadata": {
  "kernelspec": {
   "display_name": "aml",
   "language": "python",
   "name": "aml"
  },
  "language_info": {
   "codemirror_mode": {
    "name": "ipython",
    "version": 3
   },
   "file_extension": ".py",
   "mimetype": "text/x-python",
   "name": "python",
   "nbconvert_exporter": "python",
   "pygments_lexer": "ipython3",
   "version": "3.6.5"
  }
 },
 "nbformat": 4,
 "nbformat_minor": 5
}
